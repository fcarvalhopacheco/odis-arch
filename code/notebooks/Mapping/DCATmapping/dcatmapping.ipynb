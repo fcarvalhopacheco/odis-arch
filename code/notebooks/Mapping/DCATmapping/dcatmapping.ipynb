{
 "cells": [
  {
   "cell_type": "markdown",
   "source": [
    "# Mapping - DCAT\n",
    "\n",
    "Testing approaches to mapping DCAT to schema.org\n",
    "\n",
    "Current thinking\n",
    "\n",
    "* JSON-LD Frame with default values\n",
    "* SPARQL construct on these resulting frame to generate the new triples\n",
    "\n",
    "Mapping references\n",
    "\n",
    "* https://www.w3.org/2015/spatial/wiki/ISO_19115_-_DCAT_-_Schema.org_mapping\n",
    "* https://ec-jrc.github.io/dcat-ap-to-schema-org/\n",
    "* https://data.gov.au/data/dataset/67ca5de1-8774-4678-9d1b-8b1cb70ab33c.jsonld\n",
    "\n",
    "Note:  We should consider using the subjectOf property to link the generated schema.org to \n",
    "the source DCAT record where we can.  "
   ],
   "metadata": {}
  },
  {
   "cell_type": "markdown",
   "source": [
    "## Methodology\n",
    "\n",
    "We will load the DCAT JOSN-LD example and explore approaches to converting this to a form that can be used for \n",
    "schema.org.  \n",
    "\n",
    "Possible approaches include\n",
    "\n",
    "* Inferencing\n",
    "    * ref: https://derwen.ai/docs/kgl/infer/\n",
    "* SPARQL CONSTRUCT\n",
    "    * https://rdflib.readthedocs.io/en/stable/apidocs/rdflib.html\n",
    "    * https://derwen.ai/docs/kgl/ex4_0/\n",
    "* JSON-LD APIs\n",
    "    * https://w3c.github.io/json-ld-framing/#omit-default-flag\n",
    "* Context modification"
   ],
   "metadata": {}
  },
  {
   "cell_type": "code",
   "execution_count": 1,
   "source": [
    "!pip install -q kglab"
   ],
   "outputs": [
    {
     "output_type": "stream",
     "name": "stdout",
     "text": [
      "\u001b[31mERROR: pip's dependency resolver does not currently take into account all the packages that are installed. This behaviour is the source of the following dependency conflicts.\n",
      "boto3 1.17.102 requires botocore<1.21.0,>=1.20.102, but you have botocore 1.20.49 which is incompatible.\u001b[0m\n"
     ]
    }
   ],
   "metadata": {}
  },
  {
   "cell_type": "code",
   "execution_count": 2,
   "source": [
    "import kglab\n",
    "import json\n",
    "import rdflib"
   ],
   "outputs": [],
   "metadata": {}
  },
  {
   "cell_type": "code",
   "execution_count": 3,
   "source": [
    "# load our JSON into a var to use later\n",
    "f = open('dcatEx.json',)\n",
    "j = json.load(f)\n",
    "f.close()"
   ],
   "outputs": [],
   "metadata": {}
  },
  {
   "cell_type": "markdown",
   "source": [
    "## JSON-LD\n",
    "\n",
    "Use a frame to pull the elements we want to map, then alter the context for that \n",
    "frame or otehrwise cast to new namespace.\n",
    "\n",
    "Frame with defaults and then work to convert to new names space with SPARQL construct"
   ],
   "metadata": {}
  },
  {
   "cell_type": "markdown",
   "source": [
    "## SPARQL CONSTRUCT example\n",
    "\n",
    "Refs:\n",
    "* https://derwen.ai/docs/kgl/ex4_0/"
   ],
   "metadata": {}
  },
  {
   "cell_type": "code",
   "execution_count": 4,
   "source": [
    "from icecream import ic\n",
    "from pathlib import Path\n",
    "\n",
    "txt = Path('dcatEx.json').read_text()\n",
    "\n",
    "g = rdflib.Graph()\n",
    "g.parse(data=txt, format=\"json-ld\")"
   ],
   "outputs": [
    {
     "output_type": "execute_result",
     "data": {
      "text/plain": [
       "<Graph identifier=Nad1628ac8eb84e5881b07f2b9ac96afd (<class 'rdflib.graph.Graph'>)>"
      ]
     },
     "metadata": {},
     "execution_count": 4
    }
   ],
   "metadata": {}
  },
  {
   "cell_type": "code",
   "execution_count": 5,
   "source": [
    "sparql = \"\"\"\n",
    "    SELECT ?s ?p ?o \n",
    "    WHERE {\n",
    "        ?s ?p ?o .\n",
    "    }\n",
    "    LIMIT 1\n",
    "\"\"\""
   ],
   "outputs": [],
   "metadata": {}
  },
  {
   "cell_type": "code",
   "execution_count": 6,
   "source": [
    "for row in g.query(sparql):\n",
    "    ic(row.asdict())"
   ],
   "outputs": [
    {
     "output_type": "stream",
     "name": "stderr",
     "text": [
      "ic| row.asdict(): {'o': rdflib.term.Literal('LAND-Cover'),\n",
      "                   'p': rdflib.term.URIRef('http://www.w3.org/ns/dcat#keyword'),\n",
      "                   's': rdflib.term.URIRef('https://data.gov.au/dataset/67ca5de1-8774-4678-9d1b-8b1cb70ab33c')}\n"
     ]
    }
   ],
   "metadata": {}
  },
  {
   "cell_type": "code",
   "execution_count": 7,
   "source": [
    "sparqlc = \"\"\"\n",
    " PREFIX dbpedia: <http://dbpedia.org/resource/>\n",
    " PREFIX foaf: <http://xmlns.com/foaf/0.1/>\n",
    " PREFIX dc: <http://purl.org/dc/elements/1.1/>\n",
    " PREFIX dct: <http://purl.org/dc/terms/>\n",
    " PREFIX mo: <http://purl.org/ontology/mo/>\n",
    " PREFIX schema: <https://schema.org/>\n",
    "\n",
    "CONSTRUCT { \n",
    "       ?s schema:identifier ?o .\n",
    " }\n",
    " WHERE { \n",
    "       ?s dct:identifier ?o .\n",
    " }\n",
    "\"\"\"\n",
    "\n",
    "qres = g.query(sparqlc)\n",
    "context = {\"@vocab\": \"https://schema.org/\", \"@language\": \"en\"}\n",
    "print(qres.serialize(format='json-ld', context=context, indent=4))\n",
    "\n",
    "# g.parse(qres, format=\"nt\")\n",
    "    \n",
    "# for row in qres:\n",
    "#     print(\"-----\")\n",
    "#     print(row)"
   ],
   "outputs": [
    {
     "output_type": "stream",
     "name": "stdout",
     "text": [
      "b'{\\n    \"@context\": {\\n        \"@language\": \"en\",\\n        \"@vocab\": \"https://schema.org/\"\\n    },\\n    \"@id\": \"https://data.gov.au/dataset/67ca5de1-8774-4678-9d1b-8b1cb70ab33c\",\\n    \"identifier\": {\\n        \"@value\": \"67ca5de1-8774-4678-9d1b-8b1cb70ab33c\"\\n    }\\n}'\n"
     ]
    }
   ],
   "metadata": {}
  },
  {
   "cell_type": "code",
   "execution_count": 8,
   "source": [
    "import kglab\n",
    "\n",
    "namespaces =  {\n",
    "    \"adms\": \"http://www.w3.org/ns/adms#\",\n",
    "    \"dcat\": \"http://www.w3.org/ns/dcat#\",\n",
    "    \"dct\": \"http://purl.org/dc/terms/\",\n",
    "    \"foaf\": \"http://xmlns.com/foaf/0.1/\",\n",
    "    \"gsp\": \"http://www.opengis.net/ont/geosparql#\",\n",
    "    \"locn\": \"http://www.w3.org/ns/locn#\",\n",
    "    \"owl\": \"http://www.w3.org/2002/07/owl#\",\n",
    "    \"rdf\": \"http://www.w3.org/1999/02/22-rdf-syntax-ns#\",\n",
    "    \"rdfs\": \"http://www.w3.org/2000/01/rdf-schema#\",\n",
    "    \"schema\": \"http://schema.org/\",\n",
    "    \"skos\": \"http://www.w3.org/2004/02/skos/core#\",\n",
    "    \"time\": \"http://www.w3.org/2006/time\",\n",
    "    \"vcard\": \"http://www.w3.org/2006/vcard/ns#\",\n",
    "    \"xsd\": \"http://www.w3.org/2001/XMLSchema#\"\n",
    "  }\n",
    "\n",
    "kg = kglab.KnowledgeGraph(\n",
    "    name = \"DCAT example\",\n",
    "    base_uri = \"https://www.example.org/\",\n",
    "    namespaces = namespaces,\n",
    "    )\n",
    "\n",
    "kg.load_jsonld(\"dcatEx.json\")"
   ],
   "outputs": [
    {
     "output_type": "execute_result",
     "data": {
      "text/plain": [
       "<kglab.kglab.KnowledgeGraph at 0x7f702ccf86a0>"
      ]
     },
     "metadata": {},
     "execution_count": 8
    }
   ],
   "metadata": {}
  },
  {
   "cell_type": "code",
   "execution_count": 9,
   "source": [
    "sparql2 = \"\"\"\n",
    "    SELECT ?s  ?o \n",
    "    WHERE {\n",
    "        ?s dct:description ?o .\n",
    "    }\n",
    "\"\"\""
   ],
   "outputs": [],
   "metadata": {}
  },
  {
   "cell_type": "code",
   "execution_count": 10,
   "source": [
    "import pandas as pd\n",
    "pd.set_option(\"max_rows\", None)\n",
    "\n",
    "df = kg.query_as_df(sparql2)\n",
    "df.head(20)"
   ],
   "outputs": [
    {
     "output_type": "execute_result",
     "data": {
      "text/plain": [
       "                                                   s  \\\n",
       "0  <https://data.gov.au/dataset/67ca5de1-8774-467...   \n",
       "1  <https://data.gov.au/dataset/67ca5de1-8774-467...   \n",
       "\n",
       "                                                   o  \n",
       "0                                          Data File  \n",
       "1  ## **Abstract** \\n\\nThis dataset and its metad...  "
      ],
      "text/html": [
       "<div>\n",
       "<style scoped>\n",
       "    .dataframe tbody tr th:only-of-type {\n",
       "        vertical-align: middle;\n",
       "    }\n",
       "\n",
       "    .dataframe tbody tr th {\n",
       "        vertical-align: top;\n",
       "    }\n",
       "\n",
       "    .dataframe thead th {\n",
       "        text-align: right;\n",
       "    }\n",
       "</style>\n",
       "<table border=\"1\" class=\"dataframe\">\n",
       "  <thead>\n",
       "    <tr style=\"text-align: right;\">\n",
       "      <th></th>\n",
       "      <th>s</th>\n",
       "      <th>o</th>\n",
       "    </tr>\n",
       "  </thead>\n",
       "  <tbody>\n",
       "    <tr>\n",
       "      <th>0</th>\n",
       "      <td>&lt;https://data.gov.au/dataset/67ca5de1-8774-467...</td>\n",
       "      <td>Data File</td>\n",
       "    </tr>\n",
       "    <tr>\n",
       "      <th>1</th>\n",
       "      <td>&lt;https://data.gov.au/dataset/67ca5de1-8774-467...</td>\n",
       "      <td>## **Abstract** \\n\\nThis dataset and its metad...</td>\n",
       "    </tr>\n",
       "  </tbody>\n",
       "</table>\n",
       "</div>"
      ]
     },
     "metadata": {},
     "execution_count": 10
    }
   ],
   "metadata": {}
  },
  {
   "cell_type": "code",
   "execution_count": 11,
   "source": [
    "pyvis_graph = kg.visualize_query(sparql2, notebook=True)\n",
    "\n",
    "pyvis_graph.force_atlas_2based()\n",
    "pyvis_graph.show(\"tmp.fig06.html\")"
   ],
   "outputs": [
    {
     "output_type": "execute_result",
     "data": {
      "text/plain": [
       "<IPython.lib.display.IFrame at 0x7f702ccc4d00>"
      ],
      "text/html": [
       "\n",
       "        <iframe\n",
       "            width=\"500px\"\n",
       "            height=\"500px\"\n",
       "            src=\"tmp.fig06.html\"\n",
       "            frameborder=\"0\"\n",
       "            allowfullscreen\n",
       "        ></iframe>\n",
       "        "
      ]
     },
     "metadata": {},
     "execution_count": 11
    }
   ],
   "metadata": {
    "tags": []
   }
  },
  {
   "cell_type": "markdown",
   "source": [
    "## SHACL Rules"
   ],
   "metadata": {}
  },
  {
   "cell_type": "code",
   "execution_count": 12,
   "source": [
    "import pyshacl"
   ],
   "outputs": [],
   "metadata": {}
  },
  {
   "cell_type": "code",
   "execution_count": 13,
   "source": [
    "from pyshacl import validate\n",
    "\n",
    "conforms, v_graph, v_text = validate(data_graph=\"./learning.jsonld\", \n",
    "                shacl_graph='./oih_learning.ttl', \n",
    "                data_graph_format=\"json-ld\", \n",
    "                shape_graph_format=\"ttl\", \n",
    "                inference='none', \n",
    "                serialize_report_graph=\"json-ld\")"
   ],
   "outputs": [],
   "metadata": {}
  },
  {
   "cell_type": "code",
   "execution_count": 14,
   "source": [
    "print(conforms)\n",
    "print(v_graph)\n",
    "print(v_text)"
   ],
   "outputs": [
    {
     "output_type": "stream",
     "name": "stdout",
     "text": [
      "True\n",
      "b'[\\n  {\\n    \"@id\": \"_:N8be15736f0b945d19b55b266f8475c54\",\\n    \"@type\": [\\n      \"http://www.w3.org/ns/shacl#ValidationReport\"\\n    ],\\n    \"http://www.w3.org/ns/shacl#conforms\": [\\n      {\\n        \"@value\": true\\n      }\\n    ]\\n  }\\n]'\n",
      "Validation Report\n",
      "Conforms: True\n",
      "\n"
     ]
    }
   ],
   "metadata": {}
  },
  {
   "cell_type": "code",
   "execution_count": 15,
   "source": [
    "from pyshacl import Validator\n",
    "\n",
    "# v = Validator(data_graph=dg_basin, shacl_graph=rule, options={\"inference\": \"rdfs\"},ont_graph=ont)\n",
    "# conforms, report_graph, report_text = v.run()\n",
    "# expanded_graph = v.target_graph \n",
    "\n",
    "df = Path('data.ttl').read_text()\n",
    "dg = rdflib.Graph()\n",
    "dg.parse(data=df, format=\"ttl\")\n",
    "\n",
    "sf = Path('shape.ttl').read_text()\n",
    "sg = rdflib.Graph()\n",
    "sg.parse(data=sf, format=\"ttl\")\n",
    "\n",
    "v = Validator(data_graph=dg, shacl_graph=sg,  options={\"inference\": \"none\", \"advanced\": True})  # turn off rdfs inferencing\n",
    "conforms, report_graph, report_text = v.run()\n",
    "expanded_graph = v.target_graph "
   ],
   "outputs": [],
   "metadata": {}
  },
  {
   "cell_type": "code",
   "execution_count": 16,
   "source": [
    "# print(conforms)\n",
    "# print(v_graph)\n",
    "# print(\"------------\")\n",
    "# print(v_text)\n",
    "# print(expanded_graph)"
   ],
   "outputs": [],
   "metadata": {}
  },
  {
   "cell_type": "code",
   "execution_count": 17,
   "source": [
    "print(expanded_graph.serialize(format=\"ttl\").decode(\"utf-8\"))"
   ],
   "outputs": [
    {
     "output_type": "stream",
     "name": "stdout",
     "text": [
      "@prefix ex: <http://example.com/ns#> .\n",
      "@prefix xsd: <http://www.w3.org/2001/XMLSchema#> .\n",
      "\n",
      "ex:InvalidRectangle a ex:Rectangle .\n",
      "\n",
      "ex:NonSquareRectangle a ex:Rectangle ;\n",
      "    ex:height 2 ;\n",
      "    ex:width 3 .\n",
      "\n",
      "ex:SquareRectangle a ex:Rectangle,\n",
      "        ex:Square ;\n",
      "    ex:height 4 ;\n",
      "    ex:width 4 .\n",
      "\n",
      "\n"
     ]
    }
   ],
   "metadata": {}
  },
  {
   "cell_type": "markdown",
   "source": [
    "## Notes on SHACL AF Rules\n",
    "\n",
    "We need to add in PROV triples in this process to note the generation of these triples and\n",
    "the souce IRI tht results in the product IRI and the actor (?reference)\n",
    "\n",
    "Maybe review: https://www.w3.org/TR/2013/REC-prov-o-20130430/#qualifiedPrimarySource"
   ],
   "metadata": {}
  },
  {
   "cell_type": "code",
   "execution_count": 18,
   "source": [
    "df = Path('dcat.ttl').read_text()\n",
    "dg = rdflib.Graph()\n",
    "dg.parse(data=df, format=\"ttl\")\n",
    "\n",
    "sf = Path('dcatsdo.ttl').read_text()\n",
    "sg = rdflib.Graph()\n",
    "sg.parse(data=sf, format=\"ttl\")\n",
    "\n",
    "v = Validator(data_graph=dg, shacl_graph=sg,  options={\"inference\": \"none\", \"advanced\": True})  # turn off rdfs inferencing\n",
    "conforms, report_graph, report_text = v.run()\n",
    "expanded_graph = v.target_graph \n",
    "\n",
    "print(expanded_graph.serialize(format=\"ttl\").decode(\"utf-8\"))\n",
    "\n"
   ],
   "outputs": [
    {
     "output_type": "stream",
     "name": "stdout",
     "text": [
      "@prefix dct: <http://purl.org/dc/terms/> .\n",
      "@prefix ex: <http://example.com/ns#> .\n",
      "@prefix ns1: <http://www.w3.org/ns/dcat#> .\n",
      "@prefix ns2: <http://xmlns.com/foaf/0.1/> .\n",
      "@prefix ns3: <http://www.w3.org/ns/locn#> .\n",
      "@prefix xsd: <http://www.w3.org/2001/XMLSchema#> .\n",
      "\n",
      "<https://data.gov.au/dataset/67ca5de1-8774-4678-9d1b-8b1cb70ab33c> a ns1:Dataset ;\n",
      "    ex:area2 \"a descriptiono of this dataset\" ;\n",
      "    dct:description \"a descriptiono of this dataset\" ;\n",
      "    dct:identifier \"67ca5de1-8774-4678-9d1b-8b1cb70ab33c\" ;\n",
      "    dct:issued \"2016-03-23T05:08:17.991412\"^^xsd:dateTime ;\n",
      "    dct:language \"eng\" ;\n",
      "    dct:modified \"2019-11-19T23:18:49.871451\"^^xsd:dateTime ;\n",
      "    dct:publisher <https://data.gov.au/organization/69f37b4c-bdf0-4c85-bd56-82fa6d6b087a> ;\n",
      "    dct:spatial [ a dct:Location ;\n",
      "            ns3:geometry \"POLYGON ((110.0012 -10.0012, 115.0080 -10.0012, 155.0080 -45.0036, 110.0012 -45.0036, 110.0012 -10.0012))\"^^<http://www.opengis.net/ont/geosparql#wktLiteral>,\n",
      "                \"{\\\"type\\\": \\\"Polygon\\\", \\\"coordinates\\\": [[[110.0012, -10.00117], [115.008, -10.00117], [155.008, -45.00362], [110.0012, -45.00362], [110.0012, -10.00117]]]}\"^^<https://www.iana.org/assignments/media-types/application/vnd.geo+json> ] ;\n",
      "    dct:title \"Dynamic Land Cover Dataset\" ;\n",
      "    ns1:distribution <https://data.gov.au/dataset/67ca5de1-8774-4678-9d1b-8b1cb70ab33c/resource/1f8174f8-573e-43f2-b110-3d1a13c380e8> ;\n",
      "    ns1:keyword \"Australia\",\n",
      "        \"Cooper subregion\",\n",
      "        \"LAND-Cover\",\n",
      "        \"Maranoa-Balonne-Condamine subregion\",\n",
      "        \"biota\",\n",
      "        \"environment\",\n",
      "        \"planningCadastre\" .\n",
      "\n",
      "<https://data.gov.au/dataset/67ca5de1-8774-4678-9d1b-8b1cb70ab33c/resource/1f8174f8-573e-43f2-b110-3d1a13c380e8> a ns1:Distribution ;\n",
      "    dct:description \"Data File\" ;\n",
      "    dct:format \"ZIP\" ;\n",
      "    dct:title \"Dynamic Land Cover Dataset\" ;\n",
      "    ns1:accessURL <https://datagovau.s3.amazonaws.com/bioregionalassessments/BA_ALL/ALL/DATA/Geography/LandCoverNDLC/1556b944-731c-4b7f-a03e-14577c7e68db.zip> ;\n",
      "    ns1:byteSize 186838338.0 .\n",
      "\n",
      "<https://data.gov.au/organization/69f37b4c-bdf0-4c85-bd56-82fa6d6b087a> a ns2:Organization ;\n",
      "    ns2:name \"Bioregional Assessment Program\" .\n",
      "\n",
      "\n"
     ]
    }
   ],
   "metadata": {}
  },
  {
   "cell_type": "code",
   "execution_count": null,
   "source": [],
   "outputs": [],
   "metadata": {}
  }
 ],
 "metadata": {
  "kernelspec": {
   "display_name": "Python 3 (ipykernel)",
   "language": "python",
   "name": "python3"
  },
  "language_info": {
   "codemirror_mode": {
    "name": "ipython",
    "version": 3
   },
   "file_extension": ".py",
   "mimetype": "text/x-python",
   "name": "python",
   "nbconvert_exporter": "python",
   "pygments_lexer": "ipython3",
   "version": "3.9.6"
  }
 },
 "nbformat": 4,
 "nbformat_minor": 5
}