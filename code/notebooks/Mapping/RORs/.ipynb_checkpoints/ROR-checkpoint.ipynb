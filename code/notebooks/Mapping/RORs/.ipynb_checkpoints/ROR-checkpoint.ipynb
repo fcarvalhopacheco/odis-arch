{
 "cells": [
  {
   "cell_type": "markdown",
   "id": "985eeb27-bfc0-4d15-8cbe-a841bc573cc4",
   "metadata": {},
   "source": [
    "# ROR testing"
   ]
  },
  {
   "cell_type": "markdown",
   "id": "b23fcaf0-4720-487b-898e-1bb991a6400f",
   "metadata": {
    "tags": []
   },
   "source": [
    "## Setup and inits"
   ]
  },
  {
   "cell_type": "markdown",
   "id": "eaa90c3b-fe3f-46f1-b294-bd0a53dc2ca2",
   "metadata": {},
   "source": [
    "### Imports"
   ]
  },
  {
   "cell_type": "code",
   "execution_count": 1,
   "id": "a15b2d37-df59-4912-911e-a714bab325d1",
   "metadata": {
    "tags": []
   },
   "outputs": [],
   "source": [
    "import warnings\n",
    "warnings.simplefilter(action='ignore', category=FutureWarning)\n",
    "\n",
    "from SPARQLWrapper import SPARQLWrapper, JSON\n",
    "import pandas as pd\n",
    "# import dask, boto3\n",
    "# import dask.dataframe as dd\n",
    "import numpy as np\n",
    "import json\n",
    "import geopandas\n",
    "import matplotlib.pyplot as plt\n",
    "import shapely\n",
    "# import kglab as kg\n",
    "\n",
    "sparqlep = \"https://ts.collaborium.io/blazegraph/namespace/development/sparql\""
   ]
  },
  {
   "cell_type": "markdown",
   "id": "0149bbee-aa1a-48e6-b98c-1adf1429c160",
   "metadata": {},
   "source": [
    "### Support Functions"
   ]
  },
  {
   "cell_type": "markdown",
   "id": "4cce912e-7d94-4431-8014-4e603ab18b1b",
   "metadata": {},
   "source": []
  },
  {
   "cell_type": "code",
   "execution_count": 2,
   "id": "d8515c5c-9033-49cb-b6bb-44b804d648b5",
   "metadata": {},
   "outputs": [],
   "source": [
    "#@title\n",
    "def get_sparql_dataframe(service, query):\n",
    "    \"\"\"\n",
    "    Helper function to convert SPARQL results into a Pandas data frame.\n",
    "    \"\"\"\n",
    "    sparql = SPARQLWrapper(service)\n",
    "    sparql.setQuery(query)\n",
    "    sparql.setReturnFormat(JSON)\n",
    "    result = sparql.query()\n",
    "\n",
    "    processed_results = json.load(result.response)\n",
    "    cols = processed_results['head']['vars']\n",
    "\n",
    "    out = []\n",
    "    for row in processed_results['results']['bindings']:\n",
    "        item = []\n",
    "        for c in cols:\n",
    "            item.append(row.get(c, {}).get('value'))\n",
    "        out.append(item)\n",
    "\n",
    "    return pd.DataFrame(out, columns=cols)"
   ]
  },
  {
   "cell_type": "markdown",
   "id": "7959ba36-0c33-4613-8cc4-361a42d82e7e",
   "metadata": {},
   "source": [
    "## Queries\n",
    "\n",
    "What follows is a set of queries designed to provide a feel for the OIH graph"
   ]
  },
  {
   "cell_type": "markdown",
   "id": "fe59e3f4-9fff-4816-8cfd-39935fc5b4ce",
   "metadata": {},
   "source": [
    "### Simple Count\n",
    "\n",
    "How many triples are there?"
   ]
  },
  {
   "cell_type": "code",
   "execution_count": 3,
   "id": "51c049aa-3e45-47d7-80d1-f5adfb50f85a",
   "metadata": {},
   "outputs": [],
   "source": [
    "rq_count = \"\"\"SELECT (COUNT(*) as ?Triples) \n",
    "WHERE \n",
    "  {\n",
    "      { ?s ?p ?o } \n",
    "  }\n",
    "\"\"\""
   ]
  },
  {
   "cell_type": "code",
   "execution_count": 4,
   "id": "57f2c1f0-50e9-420b-9327-ad346e0876db",
   "metadata": {
    "tags": []
   },
   "outputs": [
    {
     "data": {
      "text/html": [
       "<div>\n",
       "<style scoped>\n",
       "    .dataframe tbody tr th:only-of-type {\n",
       "        vertical-align: middle;\n",
       "    }\n",
       "\n",
       "    .dataframe tbody tr th {\n",
       "        vertical-align: top;\n",
       "    }\n",
       "\n",
       "    .dataframe thead th {\n",
       "        text-align: right;\n",
       "    }\n",
       "</style>\n",
       "<table border=\"1\" class=\"dataframe\">\n",
       "  <thead>\n",
       "    <tr style=\"text-align: right;\">\n",
       "      <th></th>\n",
       "      <th>Triples</th>\n",
       "    </tr>\n",
       "  </thead>\n",
       "  <tbody>\n",
       "    <tr>\n",
       "      <th>0</th>\n",
       "      <td>5546932</td>\n",
       "    </tr>\n",
       "  </tbody>\n",
       "</table>\n",
       "</div>"
      ],
      "text/plain": [
       "   Triples\n",
       "0  5546932"
      ]
     },
     "execution_count": 4,
     "metadata": {},
     "output_type": "execute_result"
    }
   ],
   "source": [
    "dfsc = get_sparql_dataframe(sparqlep, rq_count)\n",
    "dfsc.head()"
   ]
  },
  {
   "cell_type": "markdown",
   "id": "c60f7752-752a-4d25-9b8e-ff396e44778e",
   "metadata": {},
   "source": [
    "## Notes"
   ]
  },
  {
   "cell_type": "code",
   "execution_count": 6,
   "id": "969c5758-3bc6-4eb4-97c4-00c6aa61c3e8",
   "metadata": {},
   "outputs": [
    {
     "data": {
      "text/html": [
       "<div>\n",
       "<style scoped>\n",
       "    .dataframe tbody tr th:only-of-type {\n",
       "        vertical-align: middle;\n",
       "    }\n",
       "\n",
       "    .dataframe tbody tr th {\n",
       "        vertical-align: top;\n",
       "    }\n",
       "\n",
       "    .dataframe thead th {\n",
       "        text-align: right;\n",
       "    }\n",
       "</style>\n",
       "<table border=\"1\" class=\"dataframe\">\n",
       "  <thead>\n",
       "    <tr style=\"text-align: right;\">\n",
       "      <th></th>\n",
       "      <th>name</th>\n",
       "    </tr>\n",
       "  </thead>\n",
       "  <tbody>\n",
       "    <tr>\n",
       "      <th>0</th>\n",
       "      <td>aquadocs</td>\n",
       "    </tr>\n",
       "    <tr>\n",
       "      <th>1</th>\n",
       "      <td>marineie</td>\n",
       "    </tr>\n",
       "    <tr>\n",
       "      <th>2</th>\n",
       "      <td>marinetraining</td>\n",
       "    </tr>\n",
       "    <tr>\n",
       "      <th>3</th>\n",
       "      <td>obis</td>\n",
       "    </tr>\n",
       "    <tr>\n",
       "      <th>4</th>\n",
       "      <td>obps</td>\n",
       "    </tr>\n",
       "    <tr>\n",
       "      <th>5</th>\n",
       "      <td>oceanexperts</td>\n",
       "    </tr>\n",
       "    <tr>\n",
       "      <th>6</th>\n",
       "      <td>California Cooperative Oceanic Fisheries Inves...</td>\n",
       "    </tr>\n",
       "    <tr>\n",
       "      <th>7</th>\n",
       "      <td>IFREMER for Argo Data Management</td>\n",
       "    </tr>\n",
       "    <tr>\n",
       "      <th>8</th>\n",
       "      <td>The Institute for Marine and Antarctic Studies...</td>\n",
       "    </tr>\n",
       "    <tr>\n",
       "      <th>9</th>\n",
       "      <td>SeaDataNet</td>\n",
       "    </tr>\n",
       "    <tr>\n",
       "      <th>10</th>\n",
       "      <td>MARine Litter in Europe Seas: Social AwarenesS...</td>\n",
       "    </tr>\n",
       "    <tr>\n",
       "      <th>11</th>\n",
       "      <td>Copernicus Marine Environmental Monitoring Ser...</td>\n",
       "    </tr>\n",
       "    <tr>\n",
       "      <th>12</th>\n",
       "      <td>National Oceanography Centre</td>\n",
       "    </tr>\n",
       "    <tr>\n",
       "      <th>13</th>\n",
       "      <td>International Council for the Exploration of t...</td>\n",
       "    </tr>\n",
       "    <tr>\n",
       "      <th>14</th>\n",
       "      <td>Unesco</td>\n",
       "    </tr>\n",
       "    <tr>\n",
       "      <th>15</th>\n",
       "      <td>NOAA, NOS Center for Operational Oceanographic...</td>\n",
       "    </tr>\n",
       "    <tr>\n",
       "      <th>16</th>\n",
       "      <td>NOAA/NOS/CO-OPS/OSTEP</td>\n",
       "    </tr>\n",
       "    <tr>\n",
       "      <th>17</th>\n",
       "      <td>NOAA Printing Office</td>\n",
       "    </tr>\n",
       "    <tr>\n",
       "      <th>18</th>\n",
       "      <td>U.S. Department of Commerce, National Oceanic ...</td>\n",
       "    </tr>\n",
       "    <tr>\n",
       "      <th>19</th>\n",
       "      <td>WMO &amp; IOC</td>\n",
       "    </tr>\n",
       "  </tbody>\n",
       "</table>\n",
       "</div>"
      ],
      "text/plain": [
       "                                                 name\n",
       "0                                            aquadocs\n",
       "1                                            marineie\n",
       "2                                      marinetraining\n",
       "3                                                obis\n",
       "4                                                obps\n",
       "5                                        oceanexperts\n",
       "6   California Cooperative Oceanic Fisheries Inves...\n",
       "7                    IFREMER for Argo Data Management\n",
       "8   The Institute for Marine and Antarctic Studies...\n",
       "9                                          SeaDataNet\n",
       "10  MARine Litter in Europe Seas: Social AwarenesS...\n",
       "11  Copernicus Marine Environmental Monitoring Ser...\n",
       "12                       National Oceanography Centre\n",
       "13  International Council for the Exploration of t...\n",
       "14                                             Unesco\n",
       "15  NOAA, NOS Center for Operational Oceanographic...\n",
       "16                              NOAA/NOS/CO-OPS/OSTEP\n",
       "17                               NOAA Printing Office\n",
       "18  U.S. Department of Commerce, National Oceanic ...\n",
       "19                                          WMO & IOC"
      ]
     },
     "execution_count": 6,
     "metadata": {},
     "output_type": "execute_result"
    }
   ],
   "source": [
    "rq_pcount = \"\"\"prefix prov: <http://www.w3.org/ns/prov#>\n",
    "PREFIX con: <http://www.ontotext.com/connectors/lucene#>\n",
    "PREFIX luc: <http://www.ontotext.com/owlim/lucene#>\n",
    "PREFIX con-inst: <http://www.ontotext.com/connectors/lucene/instance#>\n",
    "PREFIX rdfs: <http://www.w3.org/2000/01/rdf-schema#>\n",
    "PREFIX schema: <https://schema.org/>\n",
    "PREFIX schemaold: <http://schema.org/>\n",
    "PREFIX rdf: <http://www.w3.org/1999/02/22-rdf-syntax-ns#>\n",
    "\n",
    "SELECT DISTINCT ?name\n",
    "WHERE\n",
    "{\n",
    "  ?s a schema:Organization .\n",
    "  ?s schema:name ?name \n",
    "\n",
    "}     \n",
    "\"\"\"\n",
    "dfc = get_sparql_dataframe(sparqlep, rq_pcount)\n",
    "dfc.head(20)"
   ]
  },
  {
   "cell_type": "markdown",
   "id": "b1ac3889-04d3-4760-bb59-e62b99e1184d",
   "metadata": {},
   "source": [
    "## ROR parts\n",
    "\n",
    "\n",
    "Look at https://github.com/Metadata-Game-Changers/RORRetriever/blob/main/RORRetriever.py\n"
   ]
  },
  {
   "cell_type": "code",
   "execution_count": null,
   "id": "c6ff5603-eaa8-4082-972c-eab5254db0b8",
   "metadata": {},
   "outputs": [],
   "source": []
  }
 ],
 "metadata": {
  "kernelspec": {
   "display_name": "Python 3 (ipykernel)",
   "language": "python",
   "name": "python3"
  },
  "language_info": {
   "codemirror_mode": {
    "name": "ipython",
    "version": 3
   },
   "file_extension": ".py",
   "mimetype": "text/x-python",
   "name": "python",
   "nbconvert_exporter": "python",
   "pygments_lexer": "ipython3",
   "version": "3.8.10"
  }
 },
 "nbformat": 4,
 "nbformat_minor": 5
}
