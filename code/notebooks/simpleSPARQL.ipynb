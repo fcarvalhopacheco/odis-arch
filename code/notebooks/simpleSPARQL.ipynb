{
 "cells": [
  {
   "cell_type": "markdown",
   "source": [
    "# Simple SPARQL"
   ],
   "metadata": {
    "collapsed": false
   }
  },
  {
   "cell_type": "code",
   "execution_count": 1,
   "metadata": {
    "collapsed": true
   },
   "outputs": [],
   "source": [
    "import warnings\n",
    "warnings.simplefilter(action='ignore', category=FutureWarning)\n"
   ]
  },
  {
   "cell_type": "code",
   "execution_count": 2,
   "outputs": [
    {
     "ename": "FileNotFoundError",
     "evalue": "[Errno 2] No such file or directory: '/home/fils/src/Projects/OIH/odis-arch/code/tmp.ttl'",
     "output_type": "error",
     "traceback": [
      "\u001B[0;31m---------------------------------------------------------------------------\u001B[0m",
      "\u001B[0;31mFileNotFoundError\u001B[0m                         Traceback (most recent call last)",
      "Input \u001B[0;32mIn [2]\u001B[0m, in \u001B[0;36m<cell line: 16>\u001B[0;34m()\u001B[0m\n\u001B[1;32m      3\u001B[0m namespaces \u001B[38;5;241m=\u001B[39m {\n\u001B[1;32m      4\u001B[0m     \u001B[38;5;124m\"\u001B[39m\u001B[38;5;124mnom\u001B[39m\u001B[38;5;124m\"\u001B[39m:  \u001B[38;5;124m\"\u001B[39m\u001B[38;5;124mhttp://example.org/#\u001B[39m\u001B[38;5;124m\"\u001B[39m,\n\u001B[1;32m      5\u001B[0m     \u001B[38;5;124m\"\u001B[39m\u001B[38;5;124mwtm\u001B[39m\u001B[38;5;124m\"\u001B[39m:  \u001B[38;5;124m\"\u001B[39m\u001B[38;5;124mhttp://purl.org/heals/food/\u001B[39m\u001B[38;5;124m\"\u001B[39m,\n\u001B[1;32m      6\u001B[0m     \u001B[38;5;124m\"\u001B[39m\u001B[38;5;124mind\u001B[39m\u001B[38;5;124m\"\u001B[39m:  \u001B[38;5;124m\"\u001B[39m\u001B[38;5;124mhttp://purl.org/heals/ingredient/\u001B[39m\u001B[38;5;124m\"\u001B[39m,\n\u001B[1;32m      7\u001B[0m     \u001B[38;5;124m\"\u001B[39m\u001B[38;5;124mskos\u001B[39m\u001B[38;5;124m\"\u001B[39m: \u001B[38;5;124m\"\u001B[39m\u001B[38;5;124mhttp://www.w3.org/2004/02/skos/core#\u001B[39m\u001B[38;5;124m\"\u001B[39m,\n\u001B[1;32m      8\u001B[0m }\n\u001B[1;32m     10\u001B[0m kg \u001B[38;5;241m=\u001B[39m kglab\u001B[38;5;241m.\u001B[39mKnowledgeGraph(\n\u001B[1;32m     11\u001B[0m     name \u001B[38;5;241m=\u001B[39m \u001B[38;5;124m\"\u001B[39m\u001B[38;5;124mA recipe KG example based on Food.com\u001B[39m\u001B[38;5;124m\"\u001B[39m,\n\u001B[1;32m     12\u001B[0m     base_uri \u001B[38;5;241m=\u001B[39m \u001B[38;5;124m\"\u001B[39m\u001B[38;5;124mhttps://www.food.com/recipe/\u001B[39m\u001B[38;5;124m\"\u001B[39m,\n\u001B[1;32m     13\u001B[0m     namespaces \u001B[38;5;241m=\u001B[39m namespaces,\n\u001B[1;32m     14\u001B[0m )\n\u001B[0;32m---> 16\u001B[0m \u001B[43mkg\u001B[49m\u001B[38;5;241;43m.\u001B[39;49m\u001B[43mload_rdf\u001B[49m\u001B[43m(\u001B[49m\u001B[38;5;124;43m\"\u001B[39;49m\u001B[38;5;124;43mtmp.ttl\u001B[39;49m\u001B[38;5;124;43m\"\u001B[39;49m\u001B[43m)\u001B[49m\n",
      "File \u001B[0;32m~/.conda/envs/kglab/lib/python3.8/site-packages/kglab/decorators.py:76\u001B[0m, in \u001B[0;36mmultifile.<locals>.decorator.<locals>.wrapper\u001B[0;34m(*args, **kwargs)\u001B[0m\n\u001B[1;32m     74\u001B[0m \u001B[38;5;28;01mif\u001B[39;00m \u001B[38;5;28misinstance\u001B[39m(path, \u001B[38;5;28mstr\u001B[39m):\n\u001B[1;32m     75\u001B[0m     \u001B[38;5;28;01mif\u001B[39;00m \u001B[38;5;124m\"\u001B[39m\u001B[38;5;124m*\u001B[39m\u001B[38;5;124m\"\u001B[39m \u001B[38;5;129;01mnot\u001B[39;00m \u001B[38;5;129;01min\u001B[39;00m path:\n\u001B[0;32m---> 76\u001B[0m         \u001B[38;5;28;01mreturn\u001B[39;00m \u001B[43mf\u001B[49m\u001B[43m(\u001B[49m\u001B[38;5;241;43m*\u001B[39;49m\u001B[43margs\u001B[49m\u001B[43m,\u001B[49m\u001B[43m \u001B[49m\u001B[38;5;241;43m*\u001B[39;49m\u001B[38;5;241;43m*\u001B[39;49m\u001B[43mkwargs\u001B[49m\u001B[43m)\u001B[49m\n\u001B[1;32m     78\u001B[0m     \u001B[38;5;66;03m# initialize the path list with a parsed glob\u001B[39;00m\n\u001B[1;32m     79\u001B[0m     path_list \u001B[38;5;241m=\u001B[39m glob(path)\n",
      "File \u001B[0;32m~/.conda/envs/kglab/lib/python3.8/site-packages/kglab/kglab.py:550\u001B[0m, in \u001B[0;36mKnowledgeGraph.load_rdf\u001B[0;34m(self, path, format, base, **args)\u001B[0m\n\u001B[1;32m    543\u001B[0m         \u001B[38;5;28mself\u001B[39m\u001B[38;5;241m.\u001B[39m_g\u001B[38;5;241m.\u001B[39mparse(\n\u001B[1;32m    544\u001B[0m             path,\n\u001B[1;32m    545\u001B[0m             \u001B[38;5;28mformat\u001B[39m\u001B[38;5;241m=\u001B[39m\u001B[38;5;28mformat\u001B[39m,\n\u001B[1;32m    546\u001B[0m             publicID\u001B[38;5;241m=\u001B[39mbase,\n\u001B[1;32m    547\u001B[0m             \u001B[38;5;241m*\u001B[39m\u001B[38;5;241m*\u001B[39margs,\n\u001B[1;32m    548\u001B[0m             )\n\u001B[1;32m    549\u001B[0m     \u001B[38;5;28;01melse\u001B[39;00m:\n\u001B[0;32m--> 550\u001B[0m         \u001B[38;5;28;43mself\u001B[39;49m\u001B[38;5;241;43m.\u001B[39;49m\u001B[43m_g\u001B[49m\u001B[38;5;241;43m.\u001B[39;49m\u001B[43mparse\u001B[49m\u001B[43m(\u001B[49m\n\u001B[1;32m    551\u001B[0m \u001B[43m            \u001B[49m\u001B[38;5;28;43mself\u001B[39;49m\u001B[38;5;241;43m.\u001B[39;49m\u001B[43m_get_filename\u001B[49m\u001B[43m(\u001B[49m\u001B[43mpath\u001B[49m\u001B[43m)\u001B[49m\u001B[43m,\u001B[49m\n\u001B[1;32m    552\u001B[0m \u001B[43m            \u001B[49m\u001B[38;5;28;43mformat\u001B[39;49m\u001B[38;5;241;43m=\u001B[39;49m\u001B[38;5;28;43mformat\u001B[39;49m\u001B[43m,\u001B[49m\n\u001B[1;32m    553\u001B[0m \u001B[43m            \u001B[49m\u001B[43mpublicID\u001B[49m\u001B[38;5;241;43m=\u001B[39;49m\u001B[43mbase\u001B[49m\u001B[43m,\u001B[49m\n\u001B[1;32m    554\u001B[0m \u001B[43m            \u001B[49m\u001B[38;5;241;43m*\u001B[39;49m\u001B[38;5;241;43m*\u001B[39;49m\u001B[43margs\u001B[49m\u001B[43m,\u001B[49m\n\u001B[1;32m    555\u001B[0m \u001B[43m            \u001B[49m\u001B[43m)\u001B[49m\n\u001B[1;32m    556\u001B[0m \u001B[38;5;28;01mexcept\u001B[39;00m rdf_n3\u001B[38;5;241m.\u001B[39mBadSyntax \u001B[38;5;28;01mas\u001B[39;00m e:\n\u001B[1;32m    557\u001B[0m     ic(path)\n",
      "File \u001B[0;32m~/.conda/envs/kglab/lib/python3.8/site-packages/rdflib/graph.py:1234\u001B[0m, in \u001B[0;36mGraph.parse\u001B[0;34m(self, source, publicID, format, location, file, data, **args)\u001B[0m\n\u001B[1;32m   1153\u001B[0m \u001B[38;5;28;01mdef\u001B[39;00m \u001B[38;5;21mparse\u001B[39m(\n\u001B[1;32m   1154\u001B[0m     \u001B[38;5;28mself\u001B[39m,\n\u001B[1;32m   1155\u001B[0m     source\u001B[38;5;241m=\u001B[39m\u001B[38;5;28;01mNone\u001B[39;00m,\n\u001B[0;32m   (...)\u001B[0m\n\u001B[1;32m   1161\u001B[0m     \u001B[38;5;241m*\u001B[39m\u001B[38;5;241m*\u001B[39margs,\n\u001B[1;32m   1162\u001B[0m ):\n\u001B[1;32m   1163\u001B[0m     \u001B[38;5;124;03m\"\"\"\u001B[39;00m\n\u001B[1;32m   1164\u001B[0m \u001B[38;5;124;03m    Parse an RDF source adding the resulting triples to the Graph.\u001B[39;00m\n\u001B[1;32m   1165\u001B[0m \n\u001B[0;32m   (...)\u001B[0m\n\u001B[1;32m   1231\u001B[0m \n\u001B[1;32m   1232\u001B[0m \u001B[38;5;124;03m    \"\"\"\u001B[39;00m\n\u001B[0;32m-> 1234\u001B[0m     source \u001B[38;5;241m=\u001B[39m \u001B[43mcreate_input_source\u001B[49m\u001B[43m(\u001B[49m\n\u001B[1;32m   1235\u001B[0m \u001B[43m        \u001B[49m\u001B[43msource\u001B[49m\u001B[38;5;241;43m=\u001B[39;49m\u001B[43msource\u001B[49m\u001B[43m,\u001B[49m\n\u001B[1;32m   1236\u001B[0m \u001B[43m        \u001B[49m\u001B[43mpublicID\u001B[49m\u001B[38;5;241;43m=\u001B[39;49m\u001B[43mpublicID\u001B[49m\u001B[43m,\u001B[49m\n\u001B[1;32m   1237\u001B[0m \u001B[43m        \u001B[49m\u001B[43mlocation\u001B[49m\u001B[38;5;241;43m=\u001B[39;49m\u001B[43mlocation\u001B[49m\u001B[43m,\u001B[49m\n\u001B[1;32m   1238\u001B[0m \u001B[43m        \u001B[49m\u001B[43mfile\u001B[49m\u001B[38;5;241;43m=\u001B[39;49m\u001B[43mfile\u001B[49m\u001B[43m,\u001B[49m\n\u001B[1;32m   1239\u001B[0m \u001B[43m        \u001B[49m\u001B[43mdata\u001B[49m\u001B[38;5;241;43m=\u001B[39;49m\u001B[43mdata\u001B[49m\u001B[43m,\u001B[49m\n\u001B[1;32m   1240\u001B[0m \u001B[43m        \u001B[49m\u001B[38;5;28;43mformat\u001B[39;49m\u001B[38;5;241;43m=\u001B[39;49m\u001B[38;5;28;43mformat\u001B[39;49m\u001B[43m,\u001B[49m\n\u001B[1;32m   1241\u001B[0m \u001B[43m    \u001B[49m\u001B[43m)\u001B[49m\n\u001B[1;32m   1242\u001B[0m     \u001B[38;5;28;01mif\u001B[39;00m \u001B[38;5;28mformat\u001B[39m \u001B[38;5;129;01mis\u001B[39;00m \u001B[38;5;28;01mNone\u001B[39;00m:\n\u001B[1;32m   1243\u001B[0m         \u001B[38;5;28mformat\u001B[39m \u001B[38;5;241m=\u001B[39m source\u001B[38;5;241m.\u001B[39mcontent_type\n",
      "File \u001B[0;32m~/.conda/envs/kglab/lib/python3.8/site-packages/rdflib/parser.py:326\u001B[0m, in \u001B[0;36mcreate_input_source\u001B[0;34m(source, publicID, location, file, data, format)\u001B[0m\n\u001B[1;32m    318\u001B[0m auto_close \u001B[38;5;241m=\u001B[39m \u001B[38;5;28;01mFalse\u001B[39;00m  \u001B[38;5;66;03m# make sure we close all file handles we open\u001B[39;00m\n\u001B[1;32m    320\u001B[0m \u001B[38;5;28;01mif\u001B[39;00m location \u001B[38;5;129;01mis\u001B[39;00m \u001B[38;5;129;01mnot\u001B[39;00m \u001B[38;5;28;01mNone\u001B[39;00m:\n\u001B[1;32m    321\u001B[0m     (\n\u001B[1;32m    322\u001B[0m         absolute_location,\n\u001B[1;32m    323\u001B[0m         auto_close,\n\u001B[1;32m    324\u001B[0m         file,\n\u001B[1;32m    325\u001B[0m         input_source,\n\u001B[0;32m--> 326\u001B[0m     ) \u001B[38;5;241m=\u001B[39m \u001B[43m_create_input_source_from_location\u001B[49m\u001B[43m(\u001B[49m\n\u001B[1;32m    327\u001B[0m \u001B[43m        \u001B[49m\u001B[43mfile\u001B[49m\u001B[38;5;241;43m=\u001B[39;49m\u001B[43mfile\u001B[49m\u001B[43m,\u001B[49m\n\u001B[1;32m    328\u001B[0m \u001B[43m        \u001B[49m\u001B[38;5;28;43mformat\u001B[39;49m\u001B[38;5;241;43m=\u001B[39;49m\u001B[38;5;28;43mformat\u001B[39;49m\u001B[43m,\u001B[49m\n\u001B[1;32m    329\u001B[0m \u001B[43m        \u001B[49m\u001B[43minput_source\u001B[49m\u001B[38;5;241;43m=\u001B[39;49m\u001B[43minput_source\u001B[49m\u001B[43m,\u001B[49m\n\u001B[1;32m    330\u001B[0m \u001B[43m        \u001B[49m\u001B[43mlocation\u001B[49m\u001B[38;5;241;43m=\u001B[39;49m\u001B[43mlocation\u001B[49m\u001B[43m,\u001B[49m\n\u001B[1;32m    331\u001B[0m \u001B[43m    \u001B[49m\u001B[43m)\u001B[49m\n\u001B[1;32m    333\u001B[0m \u001B[38;5;28;01mif\u001B[39;00m file \u001B[38;5;129;01mis\u001B[39;00m \u001B[38;5;129;01mnot\u001B[39;00m \u001B[38;5;28;01mNone\u001B[39;00m:\n\u001B[1;32m    334\u001B[0m     input_source \u001B[38;5;241m=\u001B[39m FileInputSource(file)\n",
      "File \u001B[0;32m~/.conda/envs/kglab/lib/python3.8/site-packages/rdflib/parser.py:373\u001B[0m, in \u001B[0;36m_create_input_source_from_location\u001B[0;34m(file, format, input_source, location)\u001B[0m\n\u001B[1;32m    371\u001B[0m \u001B[38;5;28;01mif\u001B[39;00m absolute_location\u001B[38;5;241m.\u001B[39mstartswith(\u001B[38;5;124m\"\u001B[39m\u001B[38;5;124mfile:///\u001B[39m\u001B[38;5;124m\"\u001B[39m):\n\u001B[1;32m    372\u001B[0m     filename \u001B[38;5;241m=\u001B[39m url2pathname(absolute_location\u001B[38;5;241m.\u001B[39mreplace(\u001B[38;5;124m\"\u001B[39m\u001B[38;5;124mfile:///\u001B[39m\u001B[38;5;124m\"\u001B[39m, \u001B[38;5;124m\"\u001B[39m\u001B[38;5;124m/\u001B[39m\u001B[38;5;124m\"\u001B[39m))\n\u001B[0;32m--> 373\u001B[0m     file \u001B[38;5;241m=\u001B[39m \u001B[38;5;28;43mopen\u001B[39;49m\u001B[43m(\u001B[49m\u001B[43mfilename\u001B[49m\u001B[43m,\u001B[49m\u001B[43m \u001B[49m\u001B[38;5;124;43m\"\u001B[39;49m\u001B[38;5;124;43mrb\u001B[39;49m\u001B[38;5;124;43m\"\u001B[39;49m\u001B[43m)\u001B[49m\n\u001B[1;32m    374\u001B[0m \u001B[38;5;28;01melse\u001B[39;00m:\n\u001B[1;32m    375\u001B[0m     input_source \u001B[38;5;241m=\u001B[39m URLInputSource(absolute_location, \u001B[38;5;28mformat\u001B[39m)\n",
      "\u001B[0;31mFileNotFoundError\u001B[0m: [Errno 2] No such file or directory: '/home/fils/src/Projects/OIH/odis-arch/code/tmp.ttl'"
     ]
    }
   ],
   "source": [
    "import kglab\n",
    "\n",
    "namespaces = {\n",
    "    \"nom\":  \"http://example.org/#\",\n",
    "    \"wtm\":  \"http://purl.org/heals/food/\",\n",
    "    \"ind\":  \"http://purl.org/heals/ingredient/\",\n",
    "    \"skos\": \"http://www.w3.org/2004/02/skos/core#\",\n",
    "}\n",
    "\n",
    "kg = kglab.KnowledgeGraph(\n",
    "    name = \"A recipe KG example based on Food.com\",\n",
    "    base_uri = \"https://www.food.com/recipe/\",\n",
    "    namespaces = namespaces,\n",
    ")\n",
    "\n",
    "kg.load_rdf(\"tmp.ttl\")"
   ],
   "metadata": {
    "collapsed": false
   }
  },
  {
   "cell_type": "code",
   "execution_count": 3,
   "outputs": [],
   "source": [
    "sparql = \"\"\"\n",
    "SELECT ?recipe ?definition ?time\n",
    "  WHERE {\n",
    "      ?recipe rdf:type wtm:Recipe .\n",
    "      ?recipe skos:definition ?definition .\n",
    "      ?recipe wtm:hasIngredient ind:ChickenEgg .\n",
    "      ?recipe wtm:hasCookTime ?time\n",
    "  }\n",
    "  ORDER BY DESC(?time)\n",
    "  \"\"\""
   ],
   "metadata": {
    "collapsed": false
   }
  },
  {
   "cell_type": "code",
   "execution_count": null,
   "outputs": [],
   "source": [
    "pyvis_graph = kg.visualize_query(sparql, notebook=True)\n",
    "\n",
    "pyvis_graph.force_atlas_2based()\n",
    "pyvis_graph.show(\"tmp.fig06.html\")"
   ],
   "metadata": {
    "collapsed": false
   }
  }
 ],
 "metadata": {
  "kernelspec": {
   "display_name": "Python 3",
   "language": "python",
   "name": "python3"
  },
  "language_info": {
   "codemirror_mode": {
    "name": "ipython",
    "version": 2
   },
   "file_extension": ".py",
   "mimetype": "text/x-python",
   "name": "python",
   "nbconvert_exporter": "python",
   "pygments_lexer": "ipython2",
   "version": "2.7.6"
  }
 },
 "nbformat": 4,
 "nbformat_minor": 0
}
