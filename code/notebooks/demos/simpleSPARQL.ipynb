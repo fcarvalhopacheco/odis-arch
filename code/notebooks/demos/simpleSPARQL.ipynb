{
 "cells": [
  {
   "cell_type": "markdown",
   "source": [
    "# Type Org demo SPARQL"
   ],
   "metadata": {
    "collapsed": false
   }
  },
  {
   "cell_type": "code",
   "execution_count": 1,
   "metadata": {
    "collapsed": true
   },
   "outputs": [],
   "source": [
    "import warnings\n",
    "warnings.simplefilter(action='ignore', category=FutureWarning)\n"
   ]
  },
  {
   "cell_type": "code",
   "execution_count": 2,
   "outputs": [
    {
     "data": {
      "text/plain": "<kglab.kglab.KnowledgeGraph at 0x7f6d5c3899d0>"
     },
     "execution_count": 2,
     "metadata": {},
     "output_type": "execute_result"
    }
   ],
   "source": [
    "import kglab\n",
    "\n",
    "namespaces = {\n",
    "    \"nom\":  \"http://example.org/#\",\n",
    "    \"wtm\":  \"http://purl.org/heals/food/\",\n",
    "    \"ind\":  \"http://purl.org/heals/ingredient/\",\n",
    "    \"skos\": \"http://www.w3.org/2004/02/skos/core#\",\n",
    "}\n",
    "\n",
    "kg = kglab.KnowledgeGraph(\n",
    "    name = \"A recipe KG example based on Food.com\",\n",
    "    base_uri = \"https://www.food.com/recipe/\",\n",
    "    namespaces = namespaces,\n",
    ")\n",
    "\n",
    "kg.load_rdf(\"./organizationv2.ttl\")"
   ],
   "metadata": {
    "collapsed": false
   }
  },
  {
   "cell_type": "code",
   "execution_count": 3,
   "outputs": [],
   "source": [
    "sparql = \"\"\"\n",
    "SELECT ?s ?o ?p\n",
    "  WHERE {\n",
    "      ?s <https://schema.org/name>  ?o\n",
    "  }\n",
    "  \"\"\""
   ],
   "metadata": {
    "collapsed": false
   }
  },
  {
   "cell_type": "code",
   "execution_count": 4,
   "outputs": [],
   "source": [
    "# pyvis_graph = kg.visualize_query(sparql, notebook=True)\n",
    "# pyvis_graph.force_atlas_2based()\n",
    "# pyvis_graph.show(\"tmp.fig06.html\")"
   ],
   "metadata": {
    "collapsed": false
   }
  },
  {
   "cell_type": "code",
   "execution_count": 5,
   "outputs": [
    {
     "data": {
      "text/plain": "                                              s  \\\n0   <http://id.loc.gov/vocabulary/iso639-2/cze>   \n1   <http://id.loc.gov/vocabulary/iso639-2/cze>   \n2                 <http://purl.org/ctdl/terms/>   \n3    <http://purl.org/ctdl/terms/Certification>   \n4                <https://example.org/id/org/1>   \n5          <https://index.example.org/id/org/x>   \n6         _:n9f6c4ccb85cc4e7493421ac191e9ac0fb8   \n7        _:n9f6c4ccb85cc4e7493421ac191e9ac0fb11   \n8        _:n9f6c4ccb85cc4e7493421ac191e9ac0fb12   \n9        _:n9f6c4ccb85cc4e7493421ac191e9ac0fb13   \n10       _:n9f6c4ccb85cc4e7493421ac191e9ac0fb14   \n11       _:n9f6c4ccb85cc4e7493421ac191e9ac0fb15   \n12        _:n9f6c4ccb85cc4e7493421ac191e9ac0fb4   \n13        _:n9f6c4ccb85cc4e7493421ac191e9ac0fb5   \n14       _:n9f6c4ccb85cc4e7493421ac191e9ac0fb21   \n15       _:n9f6c4ccb85cc4e7493421ac191e9ac0fb22   \n\n                                               o  \n0                          License CCBy0 offered  \n1                                PID DOI offered  \n2   Credential Transparency Description Language  \n3                                  Certification  \n4                                 Organization A  \n5                                 Organization X  \n6                             Org A AWS Instance  \n7                        Org X mission statement  \n8                          Org X curation policy  \n9                            Org X access policy  \n10                     Org X metadata standards   \n11                     Org X preservation policy  \n12                 Certified Safety Professional  \n13                       Org X  Resource Catalog  \n14                                 Org X sitemap  \n15                                General Public  ",
      "text/html": "<div>\n<style scoped>\n    .dataframe tbody tr th:only-of-type {\n        vertical-align: middle;\n    }\n\n    .dataframe tbody tr th {\n        vertical-align: top;\n    }\n\n    .dataframe thead th {\n        text-align: right;\n    }\n</style>\n<table border=\"1\" class=\"dataframe\">\n  <thead>\n    <tr style=\"text-align: right;\">\n      <th></th>\n      <th>s</th>\n      <th>o</th>\n    </tr>\n  </thead>\n  <tbody>\n    <tr>\n      <th>0</th>\n      <td>&lt;http://id.loc.gov/vocabulary/iso639-2/cze&gt;</td>\n      <td>License CCBy0 offered</td>\n    </tr>\n    <tr>\n      <th>1</th>\n      <td>&lt;http://id.loc.gov/vocabulary/iso639-2/cze&gt;</td>\n      <td>PID DOI offered</td>\n    </tr>\n    <tr>\n      <th>2</th>\n      <td>&lt;http://purl.org/ctdl/terms/&gt;</td>\n      <td>Credential Transparency Description Language</td>\n    </tr>\n    <tr>\n      <th>3</th>\n      <td>&lt;http://purl.org/ctdl/terms/Certification&gt;</td>\n      <td>Certification</td>\n    </tr>\n    <tr>\n      <th>4</th>\n      <td>&lt;https://example.org/id/org/1&gt;</td>\n      <td>Organization A</td>\n    </tr>\n    <tr>\n      <th>5</th>\n      <td>&lt;https://index.example.org/id/org/x&gt;</td>\n      <td>Organization X</td>\n    </tr>\n    <tr>\n      <th>6</th>\n      <td>_:n9f6c4ccb85cc4e7493421ac191e9ac0fb8</td>\n      <td>Org A AWS Instance</td>\n    </tr>\n    <tr>\n      <th>7</th>\n      <td>_:n9f6c4ccb85cc4e7493421ac191e9ac0fb11</td>\n      <td>Org X mission statement</td>\n    </tr>\n    <tr>\n      <th>8</th>\n      <td>_:n9f6c4ccb85cc4e7493421ac191e9ac0fb12</td>\n      <td>Org X curation policy</td>\n    </tr>\n    <tr>\n      <th>9</th>\n      <td>_:n9f6c4ccb85cc4e7493421ac191e9ac0fb13</td>\n      <td>Org X access policy</td>\n    </tr>\n    <tr>\n      <th>10</th>\n      <td>_:n9f6c4ccb85cc4e7493421ac191e9ac0fb14</td>\n      <td>Org X metadata standards</td>\n    </tr>\n    <tr>\n      <th>11</th>\n      <td>_:n9f6c4ccb85cc4e7493421ac191e9ac0fb15</td>\n      <td>Org X preservation policy</td>\n    </tr>\n    <tr>\n      <th>12</th>\n      <td>_:n9f6c4ccb85cc4e7493421ac191e9ac0fb4</td>\n      <td>Certified Safety Professional</td>\n    </tr>\n    <tr>\n      <th>13</th>\n      <td>_:n9f6c4ccb85cc4e7493421ac191e9ac0fb5</td>\n      <td>Org X  Resource Catalog</td>\n    </tr>\n    <tr>\n      <th>14</th>\n      <td>_:n9f6c4ccb85cc4e7493421ac191e9ac0fb21</td>\n      <td>Org X sitemap</td>\n    </tr>\n    <tr>\n      <th>15</th>\n      <td>_:n9f6c4ccb85cc4e7493421ac191e9ac0fb22</td>\n      <td>General Public</td>\n    </tr>\n  </tbody>\n</table>\n</div>"
     },
     "execution_count": 5,
     "metadata": {},
     "output_type": "execute_result"
    }
   ],
   "source": [
    "import pandas as pd\n",
    "df = kg.query_as_df(sparql)\n",
    "df.head(20)"
   ],
   "metadata": {
    "collapsed": false
   }
  },
  {
   "cell_type": "code",
   "execution_count": null,
   "outputs": [],
   "source": [],
   "metadata": {
    "collapsed": false
   }
  }
 ],
 "metadata": {
  "kernelspec": {
   "display_name": "Python 3",
   "language": "python",
   "name": "python3"
  },
  "language_info": {
   "codemirror_mode": {
    "name": "ipython",
    "version": 2
   },
   "file_extension": ".py",
   "mimetype": "text/x-python",
   "name": "python",
   "nbconvert_exporter": "python",
   "pygments_lexer": "ipython2",
   "version": "2.7.6"
  }
 },
 "nbformat": 4,
 "nbformat_minor": 0
}
