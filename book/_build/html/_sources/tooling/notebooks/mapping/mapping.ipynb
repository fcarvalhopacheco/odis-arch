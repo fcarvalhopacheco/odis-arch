{
 "cells": [
  {
   "cell_type": "markdown",
   "id": "93e44f64-1bce-4981-8d2d-e04a1da93b90",
   "metadata": {},
   "source": [
    "# Mapping\n",
    "\n",
    "Testing approaches to mapping DCAT to schema.org\n",
    "\n",
    "Current thinking\n",
    "\n",
    "* JSON-LD Frame with default values\n",
    "* SPARQL construct on these resulting frame to generate the new triples\n",
    "\n",
    "Mapping references\n",
    "\n",
    "* https://www.w3.org/2015/spatial/wiki/ISO_19115_-_DCAT_-_Schema.org_mapping\n",
    "* https://ec-jrc.github.io/dcat-ap-to-schema-org/\n",
    "* https://data.gov.au/data/dataset/67ca5de1-8774-4678-9d1b-8b1cb70ab33c.jsonld\n"
   ]
  },
  {
   "cell_type": "markdown",
   "id": "47c13d5a-f5df-471a-8832-e9ce9d61b836",
   "metadata": {},
   "source": [
    "## Methodology\n",
    "\n",
    "We will load the DCAT JOSN-LD example and explore approaches to converting this to a form that can be used for \n",
    "schema.org.  \n",
    "\n",
    "Possible approaches include\n",
    "\n",
    "* Inferencing\n",
    "    * ref: https://derwen.ai/docs/kgl/infer/\n",
    "* SPARQL CONSTRUCT\n",
    "    * https://rdflib.readthedocs.io/en/stable/apidocs/rdflib.html\n",
    "    * https://derwen.ai/docs/kgl/ex4_0/\n",
    "* JSON-LD APIs\n",
    "    * https://w3c.github.io/json-ld-framing/#omit-default-flag\n",
    "* Context modification"
   ]
  },
  {
   "cell_type": "code",
   "execution_count": 113,
   "id": "a9e05d20-0e04-47c0-ad64-af50e2aae04a",
   "metadata": {},
   "outputs": [],
   "source": [
    "import kglab\n",
    "import json\n",
    "import rdflib"
   ]
  },
  {
   "cell_type": "code",
   "execution_count": 122,
   "id": "4831aa51-1f06-4df1-ba3f-3b20acf2ef47",
   "metadata": {},
   "outputs": [],
   "source": [
    "# load our JSON into a var to use later\n",
    "f = open('dcatEx.json',)\n",
    "j = json.load(f)\n",
    "f.close()"
   ]
  },
  {
   "cell_type": "markdown",
   "id": "9cea3de0-29db-4d63-8712-ea465906f899",
   "metadata": {},
   "source": [
    "## JSON-LD\n",
    "\n",
    "Use a frame to pull the elements we want to map, then alter the context for that \n",
    "frame or otehrwise cast to new namespace.\n",
    "\n",
    "Frame with defaults and then work to convert to new names space with SPARQL construct"
   ]
  },
  {
   "cell_type": "markdown",
   "id": "c0be30c4-166f-4587-bf9c-35005d1ed911",
   "metadata": {},
   "source": [
    "## SPARQL CONSTRUCT example\n",
    "\n",
    "Refs:\n",
    "* https://derwen.ai/docs/kgl/ex4_0/"
   ]
  },
  {
   "cell_type": "code",
   "execution_count": 123,
   "id": "0a0364d2-7b7b-425a-9d2b-1bf862a82bba",
   "metadata": {},
   "outputs": [
    {
     "data": {
      "text/plain": [
       "<Graph identifier=N899160cb6d434f579acb591dbd0dc451 (<class 'rdflib.graph.Graph'>)>"
      ]
     },
     "execution_count": 123,
     "metadata": {},
     "output_type": "execute_result"
    }
   ],
   "source": [
    "from icecream import ic\n",
    "from pathlib import Path\n",
    "\n",
    "txt = Path('dcatEx.json').read_text()\n",
    "\n",
    "g = rdflib.Graph()\n",
    "g.parse(data=txt, format=\"json-ld\")"
   ]
  },
  {
   "cell_type": "code",
   "execution_count": 124,
   "id": "aca0a8a0-1c3c-4b64-a80f-a9f6a53ceb91",
   "metadata": {},
   "outputs": [],
   "source": [
    "sparql = \"\"\"\n",
    "    SELECT ?s ?p ?o \n",
    "    WHERE {\n",
    "        ?s ?p ?o .\n",
    "    }\n",
    "    LIMIT 1\n",
    "\"\"\""
   ]
  },
  {
   "cell_type": "code",
   "execution_count": 125,
   "id": "fff6decf-d5d2-48e2-a759-f2a61e00ad95",
   "metadata": {},
   "outputs": [
    {
     "name": "stderr",
     "output_type": "stream",
     "text": [
      "ic| row.asdict(): {'o': rdflib.term.Literal('biota'),\n",
      "                   'p': rdflib.term.URIRef('http://www.w3.org/ns/dcat#keyword'),\n",
      "                   's': rdflib.term.URIRef('https://data.gov.au/dataset/67ca5de1-8774-4678-9d1b-8b1cb70ab33c')}\n"
     ]
    }
   ],
   "source": [
    "for row in g.query(sparql):\n",
    "    ic(row.asdict())"
   ]
  },
  {
   "cell_type": "code",
   "execution_count": 126,
   "id": "d97efd21-2c6d-475d-8332-a078d0860b45",
   "metadata": {},
   "outputs": [
    {
     "name": "stdout",
     "output_type": "stream",
     "text": [
      "b'{\\n    \"@context\": {\\n        \"@language\": \"en\",\\n        \"@vocab\": \"https://schema.org/\"\\n    },\\n    \"@id\": \"https://data.gov.au/dataset/67ca5de1-8774-4678-9d1b-8b1cb70ab33c\",\\n    \"identifier\": {\\n        \"@value\": \"67ca5de1-8774-4678-9d1b-8b1cb70ab33c\"\\n    }\\n}'\n"
     ]
    }
   ],
   "source": [
    "sparqlc = \"\"\"\n",
    " PREFIX dbpedia: <http://dbpedia.org/resource/>\n",
    " PREFIX foaf: <http://xmlns.com/foaf/0.1/>\n",
    " PREFIX dc: <http://purl.org/dc/elements/1.1/>\n",
    " PREFIX dct: <http://purl.org/dc/terms/>\n",
    " PREFIX mo: <http://purl.org/ontology/mo/>\n",
    " PREFIX schema: <https://schema.org/>\n",
    "\n",
    "CONSTRUCT { \n",
    "       ?s schema:identifier ?o .\n",
    " }\n",
    " WHERE { \n",
    "       ?s dct:identifier ?o .\n",
    " }\n",
    "\"\"\"\n",
    "\n",
    "qres = g.query(sparqlc)\n",
    "context = {\"@vocab\": \"https://schema.org/\", \"@language\": \"en\"}\n",
    "print(qres.serialize(format='json-ld', context=context, indent=4))\n",
    "\n",
    "# g.parse(qres, format=\"nt\")\n",
    "    \n",
    "# for row in qres:\n",
    "#     print(\"-----\")\n",
    "#     print(row)"
   ]
  },
  {
   "cell_type": "code",
   "execution_count": 127,
   "id": "7a244154-a492-478c-8f75-60b79785d7b4",
   "metadata": {},
   "outputs": [
    {
     "data": {
      "text/plain": [
       "<kglab.kglab.KnowledgeGraph at 0x7f4524bfc100>"
      ]
     },
     "execution_count": 127,
     "metadata": {},
     "output_type": "execute_result"
    }
   ],
   "source": [
    "import kglab\n",
    "\n",
    "namespaces =  {\n",
    "    \"adms\": \"http://www.w3.org/ns/adms#\",\n",
    "    \"dcat\": \"http://www.w3.org/ns/dcat#\",\n",
    "    \"dct\": \"http://purl.org/dc/terms/\",\n",
    "    \"foaf\": \"http://xmlns.com/foaf/0.1/\",\n",
    "    \"gsp\": \"http://www.opengis.net/ont/geosparql#\",\n",
    "    \"locn\": \"http://www.w3.org/ns/locn#\",\n",
    "    \"owl\": \"http://www.w3.org/2002/07/owl#\",\n",
    "    \"rdf\": \"http://www.w3.org/1999/02/22-rdf-syntax-ns#\",\n",
    "    \"rdfs\": \"http://www.w3.org/2000/01/rdf-schema#\",\n",
    "    \"schema\": \"http://schema.org/\",\n",
    "    \"skos\": \"http://www.w3.org/2004/02/skos/core#\",\n",
    "    \"time\": \"http://www.w3.org/2006/time\",\n",
    "    \"vcard\": \"http://www.w3.org/2006/vcard/ns#\",\n",
    "    \"xsd\": \"http://www.w3.org/2001/XMLSchema#\"\n",
    "  }\n",
    "\n",
    "kg = kglab.KnowledgeGraph(\n",
    "    name = \"DCAT example\",\n",
    "    base_uri = \"https://www.example.org/\",\n",
    "    namespaces = namespaces,\n",
    "    )\n",
    "\n",
    "kg.load_jsonld(\"dcatEx.json\")"
   ]
  },
  {
   "cell_type": "code",
   "execution_count": 128,
   "id": "bbc54753-37ce-4fd5-867f-930a07fd2e39",
   "metadata": {},
   "outputs": [],
   "source": [
    "sparql2 = \"\"\"\n",
    "    SELECT ?s  ?o \n",
    "    WHERE {\n",
    "        ?s dct:description ?o .\n",
    "    }\n",
    "\"\"\""
   ]
  },
  {
   "cell_type": "code",
   "execution_count": 129,
   "id": "b1093b30-d511-430a-a731-0377577ae12a",
   "metadata": {},
   "outputs": [
    {
     "data": {
      "text/html": [
       "<div>\n",
       "<style scoped>\n",
       "    .dataframe tbody tr th:only-of-type {\n",
       "        vertical-align: middle;\n",
       "    }\n",
       "\n",
       "    .dataframe tbody tr th {\n",
       "        vertical-align: top;\n",
       "    }\n",
       "\n",
       "    .dataframe thead th {\n",
       "        text-align: right;\n",
       "    }\n",
       "</style>\n",
       "<table border=\"1\" class=\"dataframe\">\n",
       "  <thead>\n",
       "    <tr style=\"text-align: right;\">\n",
       "      <th></th>\n",
       "      <th>s</th>\n",
       "      <th>o</th>\n",
       "    </tr>\n",
       "  </thead>\n",
       "  <tbody>\n",
       "    <tr>\n",
       "      <th>0</th>\n",
       "      <td>&lt;https://data.gov.au/dataset/67ca5de1-8774-467...</td>\n",
       "      <td>Data File</td>\n",
       "    </tr>\n",
       "    <tr>\n",
       "      <th>1</th>\n",
       "      <td>&lt;https://data.gov.au/dataset/67ca5de1-8774-467...</td>\n",
       "      <td>## **Abstract** \\n\\nThis dataset and its metad...</td>\n",
       "    </tr>\n",
       "  </tbody>\n",
       "</table>\n",
       "</div>"
      ],
      "text/plain": [
       "                                                   s  \\\n",
       "0  <https://data.gov.au/dataset/67ca5de1-8774-467...   \n",
       "1  <https://data.gov.au/dataset/67ca5de1-8774-467...   \n",
       "\n",
       "                                                   o  \n",
       "0                                          Data File  \n",
       "1  ## **Abstract** \\n\\nThis dataset and its metad...  "
      ]
     },
     "execution_count": 129,
     "metadata": {},
     "output_type": "execute_result"
    }
   ],
   "source": [
    "import pandas as pd\n",
    "pd.set_option(\"max_rows\", None)\n",
    "\n",
    "df = kg.query_as_df(sparql2)\n",
    "df.head(20)"
   ]
  },
  {
   "cell_type": "code",
   "execution_count": 130,
   "id": "d0bba7f4-7d18-4acb-a2e2-81a0d3208fb1",
   "metadata": {},
   "outputs": [
    {
     "data": {
      "text/html": [
       "\n",
       "        <iframe\n",
       "            width=\"500px\"\n",
       "            height=\"500px\"\n",
       "            src=\"tmp.fig06.html\"\n",
       "            frameborder=\"0\"\n",
       "            allowfullscreen\n",
       "        ></iframe>\n",
       "        "
      ],
      "text/plain": [
       "<IPython.lib.display.IFrame at 0x7f4524b2da90>"
      ]
     },
     "execution_count": 130,
     "metadata": {},
     "output_type": "execute_result"
    }
   ],
   "source": [
    "pyvis_graph = kg.visualize_query(sparql2, notebook=True)\n",
    "\n",
    "pyvis_graph.force_atlas_2based()\n",
    "pyvis_graph.show(\"tmp.fig06.html\")"
   ]
  },
  {
   "cell_type": "markdown",
   "id": "5300bc64-1f7e-4071-a26f-26b83b154b62",
   "metadata": {},
   "source": [
    "## SHACL Rules"
   ]
  },
  {
   "cell_type": "code",
   "execution_count": 131,
   "id": "c3ac5f3a-1825-4869-8666-f2f56db56dbc",
   "metadata": {},
   "outputs": [],
   "source": [
    "import pyshacl"
   ]
  },
  {
   "cell_type": "code",
   "execution_count": 181,
   "id": "04adb15d-c496-4b44-b703-3dcee216cb0d",
   "metadata": {},
   "outputs": [],
   "source": [
    "from pyshacl import validate\n",
    "\n",
    "conforms, v_graph, v_text = validate(data_graph=\"./learning.jsonld\", \n",
    "                shacl_graph='./oih_learning.ttl', \n",
    "                data_graph_format=\"json-ld\", \n",
    "                shape_graph_format=\"ttl\", \n",
    "                inference='none', \n",
    "                serialize_report_graph=\"json-ld\")"
   ]
  },
  {
   "cell_type": "code",
   "execution_count": 182,
   "id": "29b79e68-b38e-4d3f-bfb5-3e50aa216a38",
   "metadata": {},
   "outputs": [
    {
     "name": "stdout",
     "output_type": "stream",
     "text": [
      "True\n",
      "b'[\\n  {\\n    \"@id\": \"_:Nde97c0fe516e4cc2a90722478b45d7d2\",\\n    \"@type\": [\\n      \"http://www.w3.org/ns/shacl#ValidationReport\"\\n    ],\\n    \"http://www.w3.org/ns/shacl#conforms\": [\\n      {\\n        \"@value\": true\\n      }\\n    ]\\n  }\\n]'\n",
      "Validation Report\n",
      "Conforms: True\n",
      "\n"
     ]
    }
   ],
   "source": [
    "print(conforms)\n",
    "print(v_graph)\n",
    "print(v_text)"
   ]
  },
  {
   "cell_type": "code",
   "execution_count": 198,
   "id": "5a9add4f-e056-4ffd-8d97-ad99d896207f",
   "metadata": {},
   "outputs": [],
   "source": [
    "from pyshacl import Validator\n",
    "\n",
    "# v = Validator(data_graph=dg_basin, shacl_graph=rule, options={\"inference\": \"rdfs\"},ont_graph=ont)\n",
    "# conforms, report_graph, report_text = v.run()\n",
    "# expanded_graph = v.target_graph \n",
    "\n",
    "df = Path('data.ttl').read_text()\n",
    "dg = rdflib.Graph()\n",
    "dg.parse(data=df, format=\"ttl\")\n",
    "\n",
    "sf = Path('shape.ttl').read_text()\n",
    "sg = rdflib.Graph()\n",
    "sg.parse(data=sf, format=\"ttl\")\n",
    "\n",
    "v = Validator(data_graph=dg, shacl_graph=sg,  options={\"inference\": \"rdfs\", \"advanced\": True})\n",
    "conforms, report_graph, report_text = v.run()\n",
    "expanded_graph = v.target_graph "
   ]
  },
  {
   "cell_type": "code",
   "execution_count": 199,
   "id": "fe6691be-c38f-428b-80a4-51ed84c9a055",
   "metadata": {},
   "outputs": [
    {
     "name": "stdout",
     "output_type": "stream",
     "text": [
      "[a rdfg:Graph;rdflib:storage [a rdflib:Store;rdfs:label 'Memory2']].\n"
     ]
    }
   ],
   "source": [
    "# print(conforms)\n",
    "# print(v_graph)\n",
    "# print(\"------------\")\n",
    "# print(v_text)\n",
    "print(expanded_graph)"
   ]
  },
  {
   "cell_type": "code",
   "execution_count": 201,
   "id": "5ed80011-9292-464a-b135-29d169b06789",
   "metadata": {},
   "outputs": [
    {
     "name": "stdout",
     "output_type": "stream",
     "text": [
      "[\n",
      "  {\n",
      "    \"@id\": \"http://example.com/ns#width\",\n",
      "    \"@type\": [\n",
      "      \"http://www.w3.org/1999/02/22-rdf-syntax-ns#Property\"\n",
      "    ],\n",
      "    \"http://www.w3.org/2000/01/rdf-schema#subPropertyOf\": [\n",
      "      {\n",
      "        \"@id\": \"http://example.com/ns#width\"\n",
      "      }\n",
      "    ]\n",
      "  },\n",
      "  {\n",
      "    \"@id\": \"http://example.com/ns#NonSquareRectangle\",\n",
      "    \"@type\": [\n",
      "      \"http://example.com/ns#Rectangle\",\n",
      "      \"http://www.w3.org/2000/01/rdf-schema#Resource\"\n",
      "    ],\n",
      "    \"http://example.com/ns#height\": [\n",
      "      {\n",
      "        \"@value\": 2\n",
      "      }\n",
      "    ],\n",
      "    \"http://example.com/ns#width\": [\n",
      "      {\n",
      "        \"@value\": 3\n",
      "      }\n",
      "    ]\n",
      "  },\n",
      "  {\n",
      "    \"@id\": \"http://example.com/ns#height\",\n",
      "    \"@type\": [\n",
      "      \"http://www.w3.org/1999/02/22-rdf-syntax-ns#Property\"\n",
      "    ],\n",
      "    \"http://www.w3.org/2000/01/rdf-schema#subPropertyOf\": [\n",
      "      {\n",
      "        \"@id\": \"http://example.com/ns#height\"\n",
      "      }\n",
      "    ]\n",
      "  },\n",
      "  {\n",
      "    \"@id\": \"http://example.com/ns#InvalidRectangle\",\n",
      "    \"@type\": [\n",
      "      \"http://example.com/ns#Rectangle\",\n",
      "      \"http://www.w3.org/2000/01/rdf-schema#Resource\"\n",
      "    ]\n",
      "  },\n",
      "  {\n",
      "    \"@id\": \"http://example.com/ns#SquareRectangle\",\n",
      "    \"@type\": [\n",
      "      \"http://example.com/ns#Rectangle\",\n",
      "      \"http://www.w3.org/2000/01/rdf-schema#Resource\",\n",
      "      \"http://example.com/ns#Square\"\n",
      "    ],\n",
      "    \"http://example.com/ns#height\": [\n",
      "      {\n",
      "        \"@value\": 4\n",
      "      }\n",
      "    ],\n",
      "    \"http://example.com/ns#width\": [\n",
      "      {\n",
      "        \"@value\": 4\n",
      "      }\n",
      "    ]\n",
      "  },\n",
      "  {\n",
      "    \"@id\": \"http://example.com/ns#Rectangle\",\n",
      "    \"@type\": [\n",
      "      \"http://www.w3.org/2000/01/rdf-schema#Resource\"\n",
      "    ]\n",
      "  },\n",
      "  {\n",
      "    \"@id\": \"http://www.w3.org/2000/01/rdf-schema#subPropertyOf\",\n",
      "    \"@type\": [\n",
      "      \"http://www.w3.org/1999/02/22-rdf-syntax-ns#Property\"\n",
      "    ],\n",
      "    \"http://www.w3.org/2000/01/rdf-schema#subPropertyOf\": [\n",
      "      {\n",
      "        \"@id\": \"http://www.w3.org/2000/01/rdf-schema#subPropertyOf\"\n",
      "      }\n",
      "    ]\n",
      "  },\n",
      "  {\n",
      "    \"@id\": \"http://www.w3.org/1999/02/22-rdf-syntax-ns#type\",\n",
      "    \"@type\": [\n",
      "      \"http://www.w3.org/1999/02/22-rdf-syntax-ns#Property\"\n",
      "    ],\n",
      "    \"http://www.w3.org/2000/01/rdf-schema#subPropertyOf\": [\n",
      "      {\n",
      "        \"@id\": \"http://www.w3.org/1999/02/22-rdf-syntax-ns#type\"\n",
      "      }\n",
      "    ]\n",
      "  }\n",
      "]\n"
     ]
    }
   ],
   "source": [
    "print(expanded_graph.serialize(format=\"json-ld\").decode(\"utf-8\"))"
   ]
  },
  {
   "cell_type": "code",
   "execution_count": null,
   "id": "9de6dfbc-bd43-488c-9e48-94a1cc2741e6",
   "metadata": {},
   "outputs": [],
   "source": []
  }
 ],
 "metadata": {
  "kernelspec": {
   "display_name": "Python 3",
   "language": "python",
   "name": "python3"
  },
  "language_info": {
   "codemirror_mode": {
    "name": "ipython",
    "version": 3
   },
   "file_extension": ".py",
   "mimetype": "text/x-python",
   "name": "python",
   "nbconvert_exporter": "python",
   "pygments_lexer": "ipython3",
   "version": "3.9.2"
  }
 },
 "nbformat": 4,
 "nbformat_minor": 5
}
