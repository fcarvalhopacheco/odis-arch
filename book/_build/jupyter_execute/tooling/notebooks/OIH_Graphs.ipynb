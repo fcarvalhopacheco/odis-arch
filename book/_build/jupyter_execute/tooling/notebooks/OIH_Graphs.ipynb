{
 "cells": [
  {
   "cell_type": "markdown",
   "id": "level-delivery",
   "metadata": {},
   "source": [
    "# OIH Graph testing\n"
   ]
  },
  {
   "cell_type": "code",
   "execution_count": 1,
   "id": "scenic-findings",
   "metadata": {},
   "outputs": [
    {
     "data": {
      "text/plain": [
       "<Graph identifier=N06cc87cd6cea4d918266ad2e352a09cb (<class 'rdflib.graph.Graph'>)>"
      ]
     },
     "execution_count": 1,
     "metadata": {},
     "output_type": "execute_result"
    }
   ],
   "source": [
    "import rdflib\n",
    "import gzip\n",
    "\n",
    "with gzip.open('./oceanexperts_graph.nq.gz', 'rb') as f:\n",
    "    file_content = f.read()\n",
    "\n",
    "g = rdflib.Graph()\n",
    "g.parse(data = file_content, format=\"nquads\")\n",
    "\n"
   ]
  },
  {
   "cell_type": "code",
   "execution_count": 2,
   "id": "reported-pressing",
   "metadata": {},
   "outputs": [
    {
     "name": "stdout",
     "output_type": "stream",
     "text": [
      "N91afab8b624540f9872460089a5ce61b Course Name: Baltic Floating University Cruise, 2000 - Leg 2\n",
      "Nd33596efc15c4298988670c19f64bef0 Course Name: Curso –Taller: “Preparación para Tsunamis  Dirigido al Sector Turístico y Hotelero”\n",
      "N84b61ed381784fb590d2fe1783415de2 Course Name: PILOT COURSE: TSUNAMI EVACUATION MAPS, PLANS, AND PROCEDURES (TEMPP 4) / Mapas, planes y procedimientos de evacuacion en caso de tsunami \n",
      "N974e4573b13c4fb382f1e764fc4d9a33 Course Name: Community Model Interface for Tsunami (ComMIT) Training Workshop \n",
      "Ne46bff78b09d4e16a80d3a01a04d4057 Course Name: MARINE PHYTOPLANKTON COURSE\n",
      "N023db28cd9714703a25a81832ad83a4e Course Name: Sixth Short Course on Sea Level Data Quality Control, Analysis and Applications for the Tsunami and other Coastal Hazards Warning System for the Caribbean and Adjacent Regions (CARIBE-EWS)\n",
      "N694c31b67ccd42539d99581405332aae Course Name: OceanTeacher Academy Course MIM : Writing for Professional Publications\n",
      "Nb248fc39c83c4e91b2ecf340b42b82e5 Course Name: Training-Through-Research Cruise (2006)\n",
      "N20c206196d5640b89d93ead7cf98eeb8 Course Name: OceanTeacher Academy Course MIM: Grant Writing for MIM Projects or Federated searching software tools\n",
      "N6f3c1e53fa0742c6aeede6f16621b3c4 Course Name: Renforcement de l’Alerte Tsunami et Mesures d’Urgence,Atelier de Formation sur le Développement de Procédures opérationnelles normalisées  (SOP) pour les Tsunamis\n"
     ]
    }
   ],
   "source": [
    "qres = g.query(\n",
    "    \"\"\"prefix schema: <https://schema.org/>\n",
    "    SELECT DISTINCT ?s ?name\n",
    "       WHERE {\n",
    "          ?s a schema:Course .\n",
    "          ?s schema:name ?name\n",
    "       }\n",
    "       LIMIT 10\"\"\")\n",
    "\n",
    "for row in qres:\n",
    "    print(\"%s Course Name: %s\" % row)"
   ]
  },
  {
   "cell_type": "code",
   "execution_count": null,
   "id": "minimal-intent",
   "metadata": {},
   "outputs": [],
   "source": []
  },
  {
   "cell_type": "code",
   "execution_count": null,
   "id": "interracial-supplier",
   "metadata": {},
   "outputs": [],
   "source": []
  }
 ],
 "metadata": {
  "kernelspec": {
   "display_name": "Python 3",
   "language": "python",
   "name": "python3"
  },
  "language_info": {
   "codemirror_mode": {
    "name": "ipython",
    "version": 3
   },
   "file_extension": ".py",
   "mimetype": "text/x-python",
   "name": "python",
   "nbconvert_exporter": "python",
   "pygments_lexer": "ipython3",
   "version": "3.9.2"
  }
 },
 "nbformat": 4,
 "nbformat_minor": 5
}