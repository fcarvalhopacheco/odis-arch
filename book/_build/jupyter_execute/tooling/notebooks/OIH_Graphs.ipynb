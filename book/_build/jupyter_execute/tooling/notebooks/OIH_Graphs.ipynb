{
 "cells": [
  {
   "cell_type": "markdown",
   "id": "level-delivery",
   "metadata": {},
   "source": [
    "# OIH Graph testing\n"
   ]
  },
  {
   "cell_type": "code",
   "execution_count": 1,
   "id": "scenic-findings",
   "metadata": {},
   "outputs": [
    {
     "data": {
      "text/plain": [
       "<Graph identifier=N510198d4b3494a27b29e043f62b2f306 (<class 'rdflib.graph.Graph'>)>"
      ]
     },
     "execution_count": 1,
     "metadata": {},
     "output_type": "execute_result"
    }
   ],
   "source": [
    "import rdflib\n",
    "import gzip\n",
    "\n",
    "with gzip.open('./oceanexperts_graph.nq.gz', 'rb') as f:\n",
    "    file_content = f.read()\n",
    "\n",
    "g = rdflib.Graph()\n",
    "g.parse(data = file_content, format=\"nquads\")\n",
    "\n"
   ]
  },
  {
   "cell_type": "code",
   "execution_count": 2,
   "id": "reported-pressing",
   "metadata": {},
   "outputs": [
    {
     "name": "stdout",
     "output_type": "stream",
     "text": [
      "N751efae3514c464da129147a0de25df9 Course Name: IOC Training Course and Identification Qualification in Harmful Marine Microalgae including optional workshops on enumeration and culture techniques, 2018\n",
      "N046d9133e7d249b09cd1bf168f3c5c3f Course Name: Community Model Interface for Tsunami (ComMIT) Training Workshop \n",
      "Nfe5ffaca7a1646ad9597fa49e271dbfb Course Name: eSurge Training in Applying EO Data to Storm Surge Modelling and Forecasting\n",
      "N5a1ae6f5e0dc4d80ba974aa66a4af11b Course Name: OTGA Training Course: Quality Management Framework\n",
      "Nf7abbc59964d48bcb7f95ce3977457fa Course Name: ECOMAMA GIS Training Course\n",
      "N604ec3e3961645ac86703d4730c72e8f Course Name: Regional Training:  ICG/PTWS Pacific Tsunami Warning Center (PTWC) New Enhanced Tsunami Products\n",
      "Na6251964049c47ba98ca014cd68d6914 Course Name: OTGA Training Course: Discovery and Use of Operational Ocean Data Products and Services\n",
      "N3100fa9e1b28467ea902f108f7973edd Course Name: OTGA/INVEMAR Training Course: Áreas Marinas Protegidas (AMPs)\n",
      "Ncdb08bce9124416e90a3090e9a469ac7 Course Name: JOINT IODE/IOI TRAINING COURSE ON REMOTE SENSING &amp; GIS\n",
      "Nc416a1f49bd64137bcb64c0513bc5802 Course Name: OTGA/UEM Curso de Formação: Aplicação de Detecção  Remota e SIGs para a Gestão da Zona Marinha e Costeira\n"
     ]
    }
   ],
   "source": [
    "qres = g.query(\n",
    "    \"\"\"prefix schema: <https://schema.org/>\n",
    "    SELECT DISTINCT ?s ?name\n",
    "       WHERE {\n",
    "          ?s a schema:Course .\n",
    "          ?s schema:name ?name\n",
    "       }\n",
    "       LIMIT 10\"\"\")\n",
    "\n",
    "for row in qres:\n",
    "    print(\"%s Course Name: %s\" % row)"
   ]
  },
  {
   "cell_type": "code",
   "execution_count": null,
   "id": "minimal-intent",
   "metadata": {},
   "outputs": [],
   "source": []
  },
  {
   "cell_type": "code",
   "execution_count": null,
   "id": "interracial-supplier",
   "metadata": {},
   "outputs": [],
   "source": []
  }
 ],
 "metadata": {
  "kernelspec": {
   "display_name": "Python 3",
   "language": "python",
   "name": "python3"
  },
  "language_info": {
   "codemirror_mode": {
    "name": "ipython",
    "version": 3
   },
   "file_extension": ".py",
   "mimetype": "text/x-python",
   "name": "python",
   "nbconvert_exporter": "python",
   "pygments_lexer": "ipython3",
   "version": "3.9.2"
  }
 },
 "nbformat": 4,
 "nbformat_minor": 5
}