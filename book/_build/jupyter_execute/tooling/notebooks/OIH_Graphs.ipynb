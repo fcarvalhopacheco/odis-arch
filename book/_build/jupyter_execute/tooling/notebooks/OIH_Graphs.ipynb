{
 "cells": [
  {
   "cell_type": "markdown",
   "id": "level-delivery",
   "metadata": {},
   "source": [
    "# OIH Graph testing\n"
   ]
  },
  {
   "cell_type": "code",
   "execution_count": 1,
   "id": "scenic-findings",
   "metadata": {},
   "outputs": [
    {
     "data": {
      "text/plain": [
       "<Graph identifier=N20fe48dd6d0145bf8fd2e99f790c2faf (<class 'rdflib.graph.Graph'>)>"
      ]
     },
     "execution_count": 1,
     "metadata": {},
     "output_type": "execute_result"
    }
   ],
   "source": [
    "import rdflib\n",
    "import gzip\n",
    "\n",
    "with gzip.open('./oceanexperts_graph.nq.gz', 'rb') as f:\n",
    "    file_content = f.read()\n",
    "\n",
    "g = rdflib.Graph()\n",
    "g.parse(data = file_content, format=\"nquads\")\n",
    "\n"
   ]
  },
  {
   "cell_type": "code",
   "execution_count": 2,
   "id": "reported-pressing",
   "metadata": {},
   "outputs": [
    {
     "name": "stdout",
     "output_type": "stream",
     "text": [
      "N8893979d0f8243f3a7d13bc682cf71c5 Course Name: MSPglobal: Training course on Marine Spatial Planning and Sustainable Blue Economy in Italy\n",
      "Nd461de66c56d45488644bfe1eddbd399 Course Name: Training Course on the Establishment of National OceanDataPortal nodes in the Black Sea region (ODINBlackSea)\n",
      "N2d364ee5b567430a92e51368219a25c9 Course Name: CANCELLED. OTGA-NSU Training Course:  Information Runs Deep: Digital Repositories and OceanDocs\n",
      "N015c42962109413e849593439539b996 Course Name: Training Course: Repositories, Communication &amp; Outreach and OceanDocs\n",
      "Nacfbc8d9d0e54f3f807fda644acefb87 Course Name: ODINCARSA Ocean Data Management Training Course\n",
      "Nabeebf292bf74baf91c3537432873896 Course Name: ITIC TRAINING PROGRAMME - INTERNATIONAL (ITP-INTL) TSUNAMI EVACUATION MAPS, PLANS AND PROCEDURES (TEMPP): TEMPP 1: INUNDATION MODELING AND MAPPING\n",
      "N263c40881e4f4e219a6c70fbaf792d41 Course Name: Young Scientist Training Course\n",
      "N7bbfcf9d1bed4a2a99db3a9711a86458 Course Name: OTGA/VLIZ Training Course: Marine GIS Applications for Integrated Coastal Zone Management\n",
      "N66e45cfac25a4cabac0f53f0f3f20288 Course Name: Caribbean Marine Atlas (CMA) Training Course\n",
      "N08ac05e9705742a7a578e44ce1f7c24e Course Name: Administración de Datos Biogeográficos Marinos (Contribuyendo al Uso de OBIS)\n"
     ]
    }
   ],
   "source": [
    "qres = g.query(\n",
    "    \"\"\"prefix schema: <https://schema.org/>\n",
    "    SELECT DISTINCT ?s ?name\n",
    "       WHERE {\n",
    "          ?s a schema:Course .\n",
    "          ?s schema:name ?name\n",
    "       }\n",
    "       LIMIT 10\"\"\")\n",
    "\n",
    "for row in qres:\n",
    "    print(\"%s Course Name: %s\" % row)"
   ]
  },
  {
   "cell_type": "code",
   "execution_count": null,
   "id": "minimal-intent",
   "metadata": {},
   "outputs": [],
   "source": []
  },
  {
   "cell_type": "code",
   "execution_count": null,
   "id": "interracial-supplier",
   "metadata": {},
   "outputs": [],
   "source": []
  }
 ],
 "metadata": {
  "kernelspec": {
   "display_name": "Python 3",
   "language": "python",
   "name": "python3"
  },
  "language_info": {
   "codemirror_mode": {
    "name": "ipython",
    "version": 3
   },
   "file_extension": ".py",
   "mimetype": "text/x-python",
   "name": "python",
   "nbconvert_exporter": "python",
   "pygments_lexer": "ipython3",
   "version": "3.9.2"
  }
 },
 "nbformat": 4,
 "nbformat_minor": 5
}