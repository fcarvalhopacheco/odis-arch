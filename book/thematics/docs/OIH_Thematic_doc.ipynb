{
 "cells": [
  {
   "cell_type": "markdown",
   "metadata": {},
   "source": [
    "# Documents\n",
    "\n",
    "For OIH documents will scope more than datasets.   Documents will include maps, reports,\n",
    "guidance and other creative works.  Due to this OIH will focus on a generic example\n",
    "of [schema.org/CreativeWork](https://schema.org/CreativeWork) and then provide examples\n",
    "for more focused creative work examples.\n",
    "\n",
    "These will include initially;\n",
    "\n",
    "* [https://schema.org/Map](https://schema.org/Map)\n",
    "* [https://schema.org/Dataset](https://schema.org/Dataset) with guidance here likely to\n",
    "  recommend following the [Science on Schema](https://science-on-schema.org) guidance under\n",
    "  development at ESIP.\n",
    "* [https://schema.org/Course](https://schema.org/Course)\n",
    "  \n",
    "Items not scoped above can be represented as a generic CreativeWork at this time. \n",
    "An example of a minimal description of such a resource would look like the following\n",
    "\n",
    "[Load in JSON-LD Playground](https://json-ld.org/playground/#startTab=tab-expanded&json-ld=https://raw.githubusercontent.com/fils/odis-arch/master/schema/docs/graphs/creativework.json)\n",
    "\n",
    "[Load in Structured Data Testing Tool](https://search.google.com/structured-data/testing-tool#url=https://raw.githubusercontent.com/fils/odis-arch/master/schema/docs/graphs/creativework.json)\n",
    "\n",
    "```{literalinclude} ./graphs/creativework.json\n",
    ":linenos:\n",
    "```"
   ]
  },
  {
   "cell_type": "code",
   "execution_count": 1,
   "metadata": {},
   "outputs": [
    {
     "data": {
      "text/plain": [
       "4"
      ]
     },
     "execution_count": 1,
     "metadata": {},
     "output_type": "execute_result"
    }
   ],
   "source": [
    "\n",
    "2+2"
   ]
  },
  {
   "cell_type": "code",
   "execution_count": null,
   "metadata": {},
   "outputs": [],
   "source": []
  }
 ],
 "metadata": {
  "interpreter": {
   "hash": "e7370f93d1d0cde622a1f8e1c04877d8463912d04d973331ad4851f04de6915a"
  },
  "kernelspec": {
   "display_name": "Python 3",
   "language": "python",
   "name": "python3"
  },
  "language_info": {
   "codemirror_mode": {
    "name": "ipython",
    "version": 3
   },
   "file_extension": ".py",
   "mimetype": "text/x-python",
   "name": "python",
   "nbconvert_exporter": "python",
   "pygments_lexer": "ipython3",
   "version": "3.9.2"
  }
 },
 "nbformat": 4,
 "nbformat_minor": 5
}