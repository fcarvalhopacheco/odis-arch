{
 "cells": [
  {
   "cell_type": "markdown",
   "metadata": {},
   "source": [
    "# Documents\n",
    "\n",
    "For OIH documents will scope more than datasets.   Documents will include maps, reports,\n",
    "guidance and other creative works.  Due to this OIH will focus on a generic example\n",
    "of [schema.org/CreativeWork](https://schema.org/CreativeWork) and then provide examples\n",
    "for more focused creative work examples.\n",
    "\n",
    "These will include initially;\n",
    "\n",
    "* [https://schema.org/Map](https://schema.org/Map)\n",
    "* [https://schema.org/Dataset](https://schema.org/Dataset) with guidance here likely to\n",
    "  recommend following the [Science on Schema](https://science-on-schema.org) guidance under\n",
    "  development at ESIP.\n",
    "* [https://schema.org/Course](https://schema.org/Course)\n",
    "  \n",
    "Items not scoped above can be represented as a generic CreativeWork at this time. \n",
    "An example of a minimal description of such a resource would look like the following\n",
    "\n",
    "[Load in JSON-LD Playground](https://json-ld.org/playground/#startTab=tab-expanded&json-ld=https://raw.githubusercontent.com/fils/odis-arch/master/schema/docs/graphs/creativework.json)\n",
    "\n",
    "[Load in Structured Data Testing Tool](https://search.google.com/structured-data/testing-tool#url=https://raw.githubusercontent.com/fils/odis-arch/master/schema/docs/graphs/creativework.json)\n",
    "\n",
    "```{literalinclude} ./graphs/creativework.json\n",
    ":linenos:\n",
    "```"
   ]
  },
  {
   "cell_type": "code",
   "execution_count": 2,
   "metadata": {},
   "outputs": [],
   "source": [
    "import graphviz\n",
    "# from conceptnet5.uri import join_uri, split_uri\n",
    "API_ROOT = 'http://api.conceptnet.io'\n",
    "\n",
    "\n",
    "def short_name(value, max_length=40):\n",
    "    \"\"\"\n",
    "    Convert an RDF value (given as a dictionary) to a reasonable label.\n",
    "    \"\"\"\n",
    "    if value['type'] == 'blank node':\n",
    "        return '_'\n",
    "    elif value['type'] == 'IRI':    \n",
    "        url = value['value']\n",
    "        if '#' in url:\n",
    "            # Show just the fragment of URLs with a fragment\n",
    "            # (it's probably a property name)\n",
    "            return url.split('#')[-1]\n",
    "\n",
    "        # Give URLs relative to the root of our API\n",
    "        if url.startswith(API_ROOT):\n",
    "            short_url = url[len(API_ROOT):]\n",
    "            # If the URL is too long, hide it\n",
    "            if len(short_url) > max_length:\n",
    "                pieces = split_uri(short_url)\n",
    "                return join_uri(pieces[0], '...')\n",
    "            else:\n",
    "                return short_url\n",
    "        else:\n",
    "            return url.split('://')[-1]\n",
    "    else:\n",
    "        # Put literal values in quotes\n",
    "        text = value['value'].replace(':', '')\n",
    "        if len(text) > max_length:\n",
    "            text = text[:max_length] + '...'\n",
    "        return '\"{}\"'.format(text)\n",
    "\n",
    "    \n",
    "def show_graph(url, size=10):\n",
    "    \"\"\"\n",
    "    Show the graph structure of a ConceptNet API response.\n",
    "    \"\"\"\n",
    "    rdf = jsonld.normalize(url)['@default']\n",
    "    graph = graphviz.Digraph(\n",
    "        strict=False, graph_attr={'size': str(size), 'rankdir': 'LR'}\n",
    "    )\n",
    "    for edge in rdf:\n",
    "        subj = short_name(edge['subject'])\n",
    "        obj = short_name(edge['object'])\n",
    "        pred = short_name(edge['predicate'])\n",
    "        if subj and obj and pred:\n",
    "            # Apply different styles to the nodes based on whether they're\n",
    "            # literals, ConceptNet URLs, or other URLs\n",
    "            if obj.startswith('\"'):\n",
    "                # Literal values\n",
    "                graph.node(obj, penwidth='0')\n",
    "            elif obj.startswith('/'):\n",
    "                # ConceptNet nodes\n",
    "                graph.node(obj, style='filled', fillcolor=\"#ddeeff\")\n",
    "            else:\n",
    "                # Other URLs\n",
    "                graph.node(obj, color=\"#558855\")\n",
    "            graph.edge(subj, obj, label=pred)\n",
    "    \n",
    "    return graph"
   ]
  },
  {
   "cell_type": "code",
   "execution_count": 4,
   "metadata": {},
   "outputs": [
    {
     "name": "stdout",
     "output_type": "stream",
     "text": [
      "{\n",
      "    \"@context\": {\n",
      "        \"@vocab\": \"https://schema.org/\"\n",
      "    },\n",
      "    \"@id\": \"http://cooldata.io/id/doc/1\",\n",
      "    \"@type\": \"http://schema.org/Dataset\",\n",
      "    \"http://schema.org/keywords\": [\n",
      "        \"geochemistry\",\n",
      "        \"Earth System Modeling\",\n",
      "        \"climate change\"\n",
      "    ],\n",
      "    \"description\": \"Descriptive text of the dataset.\",\n",
      "    \"license\": \"CC-BY-4.0\",\n",
      "    \"name\": \"Data Set Name one\",\n",
      "    \"url\": \"http://foo.org/data/distribution\",\n",
      "    \"version\": \"version\"\n",
      "}\n"
     ]
    }
   ],
   "source": [
    "from pyld import jsonld\n",
    "import json\n",
    "\n",
    "name = 'Data Set Name one' #@param {type:\"string\"}\n",
    "sdotype = 'http://schema.org/Dataset' #@param [\"http://schema.org/Dataset\", \"http://schema.org/DataCatalog\"]\n",
    "description = 'Descriptive text of the dataset.' #@param {type:\"string\"}\n",
    "url = 'http://foo.org/data/distribution' #@param {type:\"string\"}\n",
    "version = 'version' #@param {type:\"string\"}\n",
    "license = 'CC-BY-4.0' #@param [\"CC-BY-4.0\", \"CC-0\"]\n",
    "keywords = 'geochemistry, Earth System Modeling, climate change' #@param {type:\"string\"}\n",
    "\n",
    "\n",
    "doc = {}\n",
    "doc[\"https://schema.org/name\"] = name\n",
    "doc[\"@type\"] = sdotype\n",
    "doc[\"@id\"] = \"http://cooldata.io/id/doc/1\"\n",
    "doc[\"https://schema.org/description\"] = description\n",
    "doc[\"https://schema.org/url\"] =  url\n",
    "doc[\"https://schema.org/version\"] =  version\n",
    "doc[\"https://schema.org/license\"] =  license\n",
    "\n",
    "# parse comma seperated keywords, clean white spaces\n",
    "k = keywords.split(\",\")\n",
    "kp = []\n",
    "for i in k:\n",
    "  j = i.strip()\n",
    "  kp.append(j)\n",
    "\n",
    "doc[\"http://schema.org/keywords\"] =  kp\n",
    "\n",
    "\n",
    "context = {\n",
    "    \"@vocab\": \"https://schema.org/\",\n",
    "}\n",
    "\n",
    "# compact a document according to a particular context\n",
    "# see: http://json-ld.org/spec/latest/json-ld/#compacted-document-form\n",
    "compacted = jsonld.compact(doc, context)\n",
    "\n",
    "jd = json.dumps(compacted, indent=4)\n",
    "print(jd)"
   ]
  },
  {
   "cell_type": "code",
   "execution_count": 5,
   "metadata": {},
   "outputs": [
    {
     "data": {
      "image/svg+xml": "<?xml version=\"1.0\" encoding=\"UTF-8\" standalone=\"no\"?>\n<!DOCTYPE svg PUBLIC \"-//W3C//DTD SVG 1.1//EN\"\n \"http://www.w3.org/Graphics/SVG/1.1/DTD/svg11.dtd\">\n<!-- Generated by graphviz version 2.43.0 (0)\n -->\n<!-- Title: %3 Pages: 1 -->\n<svg width=\"742pt\" height=\"478pt\"\n viewBox=\"0.00 0.00 742.35 478.00\" xmlns=\"http://www.w3.org/2000/svg\" xmlns:xlink=\"http://www.w3.org/1999/xlink\">\n<g id=\"graph0\" class=\"graph\" transform=\"scale(1 1) rotate(0) translate(4 474)\">\n<title>%3</title>\n<polygon fill=\"white\" stroke=\"transparent\" points=\"-4,4 -4,-474 738.35,-474 738.35,4 -4,4\"/>\n<!-- &quot;Earth System Modeling&quot; -->\n<g id=\"node1\" class=\"node\">\n<title>&quot;Earth System Modeling&quot;</title>\n<ellipse fill=\"none\" stroke=\"black\" stroke-width=\"0\" cx=\"569.92\" cy=\"-450\" rx=\"129.98\" ry=\"18\"/>\n<text text-anchor=\"middle\" x=\"569.92\" y=\"-446.3\" font-family=\"Times,serif\" font-size=\"14.00\">&quot;Earth System Modeling&quot;</text>\n</g>\n<!-- cooldata.io/id/doc/1 -->\n<g id=\"node2\" class=\"node\">\n<title>cooldata.io/id/doc/1</title>\n<ellipse fill=\"none\" stroke=\"black\" cx=\"100.74\" cy=\"-234\" rx=\"100.98\" ry=\"18\"/>\n<text text-anchor=\"middle\" x=\"100.74\" y=\"-230.3\" font-family=\"Times,serif\" font-size=\"14.00\">cooldata.io/id/doc/1</text>\n</g>\n<!-- cooldata.io/id/doc/1&#45;&gt;&quot;Earth System Modeling&quot; -->\n<g id=\"edge1\" class=\"edge\">\n<title>cooldata.io/id/doc/1&#45;&gt;&quot;Earth System Modeling&quot;</title>\n<path fill=\"none\" stroke=\"black\" d=\"M108.2,-252.22C122.16,-288.62 158.85,-370.01 219.48,-407 287.12,-448.27 375.85,-458.77 446.97,-459.08\"/>\n<polygon fill=\"black\" stroke=\"black\" points=\"447.34,-462.58 457.34,-459.05 447.33,-455.58 447.34,-462.58\"/>\n<text text-anchor=\"middle\" x=\"303.48\" y=\"-458.8\" font-family=\"Times,serif\" font-size=\"14.00\">schema.org/keywords</text>\n</g>\n<!-- &quot;climate change&quot; -->\n<g id=\"node3\" class=\"node\">\n<title>&quot;climate change&quot;</title>\n<ellipse fill=\"none\" stroke=\"black\" stroke-width=\"0\" cx=\"569.92\" cy=\"-396\" rx=\"89.88\" ry=\"18\"/>\n<text text-anchor=\"middle\" x=\"569.92\" y=\"-392.3\" font-family=\"Times,serif\" font-size=\"14.00\">&quot;climate change&quot;</text>\n</g>\n<!-- cooldata.io/id/doc/1&#45;&gt;&quot;climate change&quot; -->\n<g id=\"edge2\" class=\"edge\">\n<title>cooldata.io/id/doc/1&#45;&gt;&quot;climate change&quot;</title>\n<path fill=\"none\" stroke=\"black\" d=\"M115.43,-252.2C135.34,-277.2 174.81,-321.49 219.48,-343 298.16,-380.88 397.34,-393.02 469.92,-396.34\"/>\n<polygon fill=\"black\" stroke=\"black\" points=\"469.85,-399.84 479.98,-396.75 470.13,-392.84 469.85,-399.84\"/>\n<text text-anchor=\"middle\" x=\"303.48\" y=\"-391.8\" font-family=\"Times,serif\" font-size=\"14.00\">schema.org/keywords</text>\n</g>\n<!-- &quot;geochemistry&quot; -->\n<g id=\"node4\" class=\"node\">\n<title>&quot;geochemistry&quot;</title>\n<ellipse fill=\"none\" stroke=\"black\" stroke-width=\"0\" cx=\"569.92\" cy=\"-342\" rx=\"82.59\" ry=\"18\"/>\n<text text-anchor=\"middle\" x=\"569.92\" y=\"-338.3\" font-family=\"Times,serif\" font-size=\"14.00\">&quot;geochemistry&quot;</text>\n</g>\n<!-- cooldata.io/id/doc/1&#45;&gt;&quot;geochemistry&quot; -->\n<g id=\"edge3\" class=\"edge\">\n<title>cooldata.io/id/doc/1&#45;&gt;&quot;geochemistry&quot;</title>\n<path fill=\"none\" stroke=\"black\" d=\"M131.73,-251.32C154.95,-263.97 188.3,-280.5 219.48,-290 305.88,-316.33 408.5,-329.58 480.1,-336.08\"/>\n<polygon fill=\"black\" stroke=\"black\" points=\"480.16,-339.6 490.43,-336.99 480.78,-332.62 480.16,-339.6\"/>\n<text text-anchor=\"middle\" x=\"303.48\" y=\"-327.8\" font-family=\"Times,serif\" font-size=\"14.00\">schema.org/keywords</text>\n</g>\n<!-- schema.org/Dataset -->\n<g id=\"node5\" class=\"node\">\n<title>schema.org/Dataset</title>\n<ellipse fill=\"none\" stroke=\"#558855\" cx=\"569.92\" cy=\"-288\" rx=\"103.18\" ry=\"18\"/>\n<text text-anchor=\"middle\" x=\"569.92\" y=\"-284.3\" font-family=\"Times,serif\" font-size=\"14.00\">schema.org/Dataset</text>\n</g>\n<!-- cooldata.io/id/doc/1&#45;&gt;schema.org/Dataset -->\n<g id=\"edge4\" class=\"edge\">\n<title>cooldata.io/id/doc/1&#45;&gt;schema.org/Dataset</title>\n<path fill=\"none\" stroke=\"black\" d=\"M174.18,-246.39C189.14,-248.75 204.8,-251.08 219.48,-253 302.31,-263.82 396.57,-273.09 466.3,-279.36\"/>\n<polygon fill=\"black\" stroke=\"black\" points=\"466.14,-282.86 476.41,-280.26 466.76,-275.89 466.14,-282.86\"/>\n<text text-anchor=\"middle\" x=\"303.48\" y=\"-274.8\" font-family=\"Times,serif\" font-size=\"14.00\">type</text>\n</g>\n<!-- &quot;Descriptive text of the dataset.&quot; -->\n<g id=\"node6\" class=\"node\">\n<title>&quot;Descriptive text of the dataset.&quot;</title>\n<ellipse fill=\"none\" stroke=\"black\" stroke-width=\"0\" cx=\"569.92\" cy=\"-234\" rx=\"164.37\" ry=\"18\"/>\n<text text-anchor=\"middle\" x=\"569.92\" y=\"-230.3\" font-family=\"Times,serif\" font-size=\"14.00\">&quot;Descriptive text of the dataset.&quot;</text>\n</g>\n<!-- cooldata.io/id/doc/1&#45;&gt;&quot;Descriptive text of the dataset.&quot; -->\n<g id=\"edge5\" class=\"edge\">\n<title>cooldata.io/id/doc/1&#45;&gt;&quot;Descriptive text of the dataset.&quot;</title>\n<path fill=\"none\" stroke=\"black\" d=\"M201.68,-234C257.91,-234 329.71,-234 394.88,-234\"/>\n<polygon fill=\"black\" stroke=\"black\" points=\"395.28,-237.5 405.28,-234 395.28,-230.5 395.28,-237.5\"/>\n<text text-anchor=\"middle\" x=\"303.48\" y=\"-237.8\" font-family=\"Times,serif\" font-size=\"14.00\">schema.org/description</text>\n</g>\n<!-- &quot;CC&#45;BY&#45;4.0&quot; -->\n<g id=\"node7\" class=\"node\">\n<title>&quot;CC&#45;BY&#45;4.0&quot;</title>\n<ellipse fill=\"none\" stroke=\"black\" stroke-width=\"0\" cx=\"569.92\" cy=\"-180\" rx=\"64.99\" ry=\"18\"/>\n<text text-anchor=\"middle\" x=\"569.92\" y=\"-176.3\" font-family=\"Times,serif\" font-size=\"14.00\">&quot;CC&#45;BY&#45;4.0&quot;</text>\n</g>\n<!-- cooldata.io/id/doc/1&#45;&gt;&quot;CC&#45;BY&#45;4.0&quot; -->\n<g id=\"edge6\" class=\"edge\">\n<title>cooldata.io/id/doc/1&#45;&gt;&quot;CC&#45;BY&#45;4.0&quot;</title>\n<path fill=\"none\" stroke=\"black\" d=\"M174.18,-221.61C189.14,-219.25 204.8,-216.92 219.48,-215 315.28,-202.48 426.36,-192.05 497.11,-185.92\"/>\n<polygon fill=\"black\" stroke=\"black\" points=\"497.58,-189.39 507.24,-185.05 496.98,-182.42 497.58,-189.39\"/>\n<text text-anchor=\"middle\" x=\"303.48\" y=\"-218.8\" font-family=\"Times,serif\" font-size=\"14.00\">schema.org/license</text>\n</g>\n<!-- &quot;Data Set Name one&quot; -->\n<g id=\"node8\" class=\"node\">\n<title>&quot;Data Set Name one&quot;</title>\n<ellipse fill=\"none\" stroke=\"black\" stroke-width=\"0\" cx=\"569.92\" cy=\"-126\" rx=\"109.68\" ry=\"18\"/>\n<text text-anchor=\"middle\" x=\"569.92\" y=\"-122.3\" font-family=\"Times,serif\" font-size=\"14.00\">&quot;Data Set Name one&quot;</text>\n</g>\n<!-- cooldata.io/id/doc/1&#45;&gt;&quot;Data Set Name one&quot; -->\n<g id=\"edge7\" class=\"edge\">\n<title>cooldata.io/id/doc/1&#45;&gt;&quot;Data Set Name one&quot;</title>\n<path fill=\"none\" stroke=\"black\" d=\"M131.2,-216.6C154.41,-203.67 188,-186.67 219.48,-177 296.99,-153.2 387.67,-140.38 457.23,-133.55\"/>\n<polygon fill=\"black\" stroke=\"black\" points=\"457.71,-137.02 467.33,-132.58 457.05,-130.05 457.71,-137.02\"/>\n<text text-anchor=\"middle\" x=\"303.48\" y=\"-180.8\" font-family=\"Times,serif\" font-size=\"14.00\">schema.org/name</text>\n</g>\n<!-- &quot;http//foo.org/data/distribution&quot; -->\n<g id=\"node9\" class=\"node\">\n<title>&quot;http//foo.org/data/distribution&quot;</title>\n<ellipse fill=\"none\" stroke=\"black\" stroke-width=\"0\" cx=\"569.92\" cy=\"-72\" rx=\"158.67\" ry=\"18\"/>\n<text text-anchor=\"middle\" x=\"569.92\" y=\"-68.3\" font-family=\"Times,serif\" font-size=\"14.00\">&quot;http//foo.org/data/distribution&quot;</text>\n</g>\n<!-- cooldata.io/id/doc/1&#45;&gt;&quot;http//foo.org/data/distribution&quot; -->\n<g id=\"edge8\" class=\"edge\">\n<title>cooldata.io/id/doc/1&#45;&gt;&quot;http//foo.org/data/distribution&quot;</title>\n<path fill=\"none\" stroke=\"black\" d=\"M115,-215.86C134.68,-190.44 174.21,-144.89 219.48,-123 275.82,-95.76 342.78,-82.13 402.94,-75.59\"/>\n<polygon fill=\"black\" stroke=\"black\" points=\"403.33,-79.07 412.92,-74.57 402.61,-72.11 403.33,-79.07\"/>\n<text text-anchor=\"middle\" x=\"303.48\" y=\"-126.8\" font-family=\"Times,serif\" font-size=\"14.00\">schema.org/url</text>\n</g>\n<!-- &quot;version&quot; -->\n<g id=\"node10\" class=\"node\">\n<title>&quot;version&quot;</title>\n<ellipse fill=\"none\" stroke=\"black\" stroke-width=\"0\" cx=\"569.92\" cy=\"-18\" rx=\"53.89\" ry=\"18\"/>\n<text text-anchor=\"middle\" x=\"569.92\" y=\"-14.3\" font-family=\"Times,serif\" font-size=\"14.00\">&quot;version&quot;</text>\n</g>\n<!-- cooldata.io/id/doc/1&#45;&gt;&quot;version&quot; -->\n<g id=\"edge9\" class=\"edge\">\n<title>cooldata.io/id/doc/1&#45;&gt;&quot;version&quot;</title>\n<path fill=\"none\" stroke=\"black\" d=\"M107.87,-215.99C121.44,-179.18 157.81,-95.61 219.48,-58 309.11,-3.35 435.94,-4.06 509.59,-10.42\"/>\n<polygon fill=\"black\" stroke=\"black\" points=\"509.34,-13.91 519.62,-11.35 509.99,-6.94 509.34,-13.91\"/>\n<text text-anchor=\"middle\" x=\"303.48\" y=\"-61.8\" font-family=\"Times,serif\" font-size=\"14.00\">schema.org/version</text>\n</g>\n</g>\n</svg>\n",
      "text/plain": [
       "<graphviz.dot.Digraph at 0x7ff551e3b700>"
      ]
     },
     "execution_count": 5,
     "metadata": {},
     "output_type": "execute_result"
    }
   ],
   "source": [
    "show_graph(doc, size=30)"
   ]
  },
  {
   "cell_type": "markdown",
   "metadata": {},
   "source": [
    "## Framing\n",
    "\n",
    "Understanding Framing is not a first order concern.   However, understanding it and what it does can help you to think about how your data graph will be used. \n",
    "\n",
    "Let's make a frame that allows us to view only the elements of the JSON-LD data graph that we are interested in.   In this case let's target the keywords."
   ]
  },
  {
   "cell_type": "code",
   "execution_count": 6,
   "metadata": {},
   "outputs": [
    {
     "name": "stdout",
     "output_type": "stream",
     "text": [
      "{'@context': {'@vocab': 'http://schema.org/'}, '@id': 'http://cooldata.io/id/doc/1', '@type': 'Dataset', 'keywords': ['geochemistry', 'Earth System Modeling', 'climate change']}\n"
     ]
    },
    {
     "data": {
      "image/svg+xml": "<?xml version=\"1.0\" encoding=\"UTF-8\" standalone=\"no\"?>\n<!DOCTYPE svg PUBLIC \"-//W3C//DTD SVG 1.1//EN\"\n \"http://www.w3.org/Graphics/SVG/1.1/DTD/svg11.dtd\">\n<!-- Generated by graphviz version 2.43.0 (0)\n -->\n<!-- Title: %3 Pages: 1 -->\n<svg width=\"661pt\" height=\"206pt\"\n viewBox=\"0.00 0.00 661.46 206.00\" xmlns=\"http://www.w3.org/2000/svg\" xmlns:xlink=\"http://www.w3.org/1999/xlink\">\n<g id=\"graph0\" class=\"graph\" transform=\"scale(1 1) rotate(0) translate(4 202)\">\n<title>%3</title>\n<polygon fill=\"white\" stroke=\"transparent\" points=\"-4,4 -4,-202 657.46,-202 657.46,4 -4,4\"/>\n<!-- &quot;Earth System Modeling&quot; -->\n<g id=\"node1\" class=\"node\">\n<title>&quot;Earth System Modeling&quot;</title>\n<ellipse fill=\"none\" stroke=\"black\" stroke-width=\"0\" cx=\"523.47\" cy=\"-180\" rx=\"129.98\" ry=\"18\"/>\n<text text-anchor=\"middle\" x=\"523.47\" y=\"-176.3\" font-family=\"Times,serif\" font-size=\"14.00\">&quot;Earth System Modeling&quot;</text>\n</g>\n<!-- cooldata.io/id/doc/1 -->\n<g id=\"node2\" class=\"node\">\n<title>cooldata.io/id/doc/1</title>\n<ellipse fill=\"none\" stroke=\"black\" cx=\"100.74\" cy=\"-99\" rx=\"100.98\" ry=\"18\"/>\n<text text-anchor=\"middle\" x=\"100.74\" y=\"-95.3\" font-family=\"Times,serif\" font-size=\"14.00\">cooldata.io/id/doc/1</text>\n</g>\n<!-- cooldata.io/id/doc/1&#45;&gt;&quot;Earth System Modeling&quot; -->\n<g id=\"edge1\" class=\"edge\">\n<title>cooldata.io/id/doc/1&#45;&gt;&quot;Earth System Modeling&quot;</title>\n<path fill=\"none\" stroke=\"black\" d=\"M148.01,-114.9C169.54,-121.84 195.61,-129.61 219.48,-135 282.36,-149.2 353.63,-160.04 411.24,-167.52\"/>\n<polygon fill=\"black\" stroke=\"black\" points=\"411.1,-171.03 421.47,-168.83 411.99,-164.09 411.1,-171.03\"/>\n<text text-anchor=\"middle\" x=\"297.48\" y=\"-164.8\" font-family=\"Times,serif\" font-size=\"14.00\">schema.org/keywords</text>\n</g>\n<!-- &quot;climate change&quot; -->\n<g id=\"node3\" class=\"node\">\n<title>&quot;climate change&quot;</title>\n<ellipse fill=\"none\" stroke=\"black\" stroke-width=\"0\" cx=\"523.47\" cy=\"-126\" rx=\"89.88\" ry=\"18\"/>\n<text text-anchor=\"middle\" x=\"523.47\" y=\"-122.3\" font-family=\"Times,serif\" font-size=\"14.00\">&quot;climate change&quot;</text>\n</g>\n<!-- cooldata.io/id/doc/1&#45;&gt;&quot;climate change&quot; -->\n<g id=\"edge2\" class=\"edge\">\n<title>cooldata.io/id/doc/1&#45;&gt;&quot;climate change&quot;</title>\n<path fill=\"none\" stroke=\"black\" d=\"M195.9,-105.04C265.05,-109.48 358.6,-115.48 427.86,-119.93\"/>\n<polygon fill=\"black\" stroke=\"black\" points=\"427.69,-123.42 437.89,-120.57 428.14,-116.44 427.69,-123.42\"/>\n<text text-anchor=\"middle\" x=\"297.48\" y=\"-119.8\" font-family=\"Times,serif\" font-size=\"14.00\">schema.org/keywords</text>\n</g>\n<!-- &quot;geochemistry&quot; -->\n<g id=\"node4\" class=\"node\">\n<title>&quot;geochemistry&quot;</title>\n<ellipse fill=\"none\" stroke=\"black\" stroke-width=\"0\" cx=\"523.47\" cy=\"-72\" rx=\"82.59\" ry=\"18\"/>\n<text text-anchor=\"middle\" x=\"523.47\" y=\"-68.3\" font-family=\"Times,serif\" font-size=\"14.00\">&quot;geochemistry&quot;</text>\n</g>\n<!-- cooldata.io/id/doc/1&#45;&gt;&quot;geochemistry&quot; -->\n<g id=\"edge3\" class=\"edge\">\n<title>cooldata.io/id/doc/1&#45;&gt;&quot;geochemistry&quot;</title>\n<path fill=\"none\" stroke=\"black\" d=\"M187.22,-89.76C198.07,-88.74 209.03,-87.79 219.48,-87 290.6,-81.62 371.26,-77.73 431.46,-75.27\"/>\n<polygon fill=\"black\" stroke=\"black\" points=\"431.85,-78.75 441.7,-74.85 431.57,-71.76 431.85,-78.75\"/>\n<text text-anchor=\"middle\" x=\"297.48\" y=\"-90.8\" font-family=\"Times,serif\" font-size=\"14.00\">schema.org/keywords</text>\n</g>\n<!-- schema.org/Dataset -->\n<g id=\"node5\" class=\"node\">\n<title>schema.org/Dataset</title>\n<ellipse fill=\"none\" stroke=\"#558855\" cx=\"523.47\" cy=\"-18\" rx=\"103.18\" ry=\"18\"/>\n<text text-anchor=\"middle\" x=\"523.47\" y=\"-14.3\" font-family=\"Times,serif\" font-size=\"14.00\">schema.org/Dataset</text>\n</g>\n<!-- cooldata.io/id/doc/1&#45;&gt;schema.org/Dataset -->\n<g id=\"edge4\" class=\"edge\">\n<title>cooldata.io/id/doc/1&#45;&gt;schema.org/Dataset</title>\n<path fill=\"none\" stroke=\"black\" d=\"M143.4,-82.65C165.67,-74.47 193.74,-65.05 219.48,-59 285.42,-43.49 360.92,-33.26 420.05,-26.89\"/>\n<polygon fill=\"black\" stroke=\"black\" points=\"420.57,-30.36 430.14,-25.82 419.83,-23.39 420.57,-30.36\"/>\n<text text-anchor=\"middle\" x=\"297.48\" y=\"-62.8\" font-family=\"Times,serif\" font-size=\"14.00\">type</text>\n</g>\n</g>\n</svg>\n",
      "text/plain": [
       "<graphviz.dot.Digraph at 0x7ff5603f6df0>"
      ]
     },
     "execution_count": 6,
     "metadata": {},
     "output_type": "execute_result"
    }
   ],
   "source": [
    "urlf = \"https://raw.githubusercontent.com/ESIPFed/science-on-schema.org/master/examples/dataset/minimal.jsonld\"\n",
    "\n",
    "frame = {\n",
    "  \"@context\": {\"@vocab\": \"http://schema.org/\"},\n",
    "  \"@explicit\": \"true\",\n",
    "   \"@type\":     \"Dataset\",\n",
    "  \"keywords\": \"\",\n",
    "}\n",
    "\n",
    "\n",
    "framed = jsonld.frame(doc, frame)\n",
    "print(framed)\n",
    "\n",
    "show_graph(framed)"
   ]
  },
  {
   "cell_type": "code",
   "execution_count": 7,
   "metadata": {},
   "outputs": [
    {
     "ename": "FileNotFoundError",
     "evalue": "[Errno 2] No such file or directory: './graphs/doc.json'",
     "output_type": "error",
     "traceback": [
      "\u001b[0;31m---------------------------------------------------------------------------\u001b[0m",
      "\u001b[0;31mFileNotFoundError\u001b[0m                         Traceback (most recent call last)",
      "\u001b[0;32m<ipython-input-7-44df80430454>\u001b[0m in \u001b[0;36m<module>\u001b[0;34m\u001b[0m\n\u001b[0;32m----> 1\u001b[0;31m \u001b[0;32mwith\u001b[0m \u001b[0mopen\u001b[0m\u001b[0;34m(\u001b[0m\u001b[0;34m'./graphs/doc.json'\u001b[0m\u001b[0;34m,\u001b[0m \u001b[0;34m'r'\u001b[0m\u001b[0;34m)\u001b[0m \u001b[0;32mas\u001b[0m \u001b[0mfile\u001b[0m\u001b[0;34m:\u001b[0m\u001b[0;34m\u001b[0m\u001b[0;34m\u001b[0m\u001b[0m\n\u001b[0m\u001b[1;32m      2\u001b[0m     \u001b[0mdocstring\u001b[0m \u001b[0;34m=\u001b[0m \u001b[0mfile\u001b[0m\u001b[0;34m.\u001b[0m\u001b[0mread\u001b[0m\u001b[0;34m(\u001b[0m\u001b[0;34m)\u001b[0m\u001b[0;34m\u001b[0m\u001b[0;34m\u001b[0m\u001b[0m\n\u001b[1;32m      3\u001b[0m \u001b[0;34m\u001b[0m\u001b[0m\n\u001b[1;32m      4\u001b[0m \u001b[0mdocjson\u001b[0m \u001b[0;34m=\u001b[0m \u001b[0mjson\u001b[0m\u001b[0;34m.\u001b[0m\u001b[0mloads\u001b[0m\u001b[0;34m(\u001b[0m\u001b[0mdocstring\u001b[0m\u001b[0;34m)\u001b[0m\u001b[0;34m\u001b[0m\u001b[0;34m\u001b[0m\u001b[0m\n",
      "\u001b[0;31mFileNotFoundError\u001b[0m: [Errno 2] No such file or directory: './graphs/doc.json'"
     ]
    }
   ],
   "source": [
    "with open('./graphs/doc.json', 'r') as file:\n",
    "    docstring = file.read()\n",
    "\n",
    "docjson = json.loads(docstring) \n"
   ]
  },
  {
   "cell_type": "code",
   "execution_count": null,
   "metadata": {},
   "outputs": [],
   "source": [
    "with open('/content/doc.json', 'r') as file:\n",
    "    docstring = file.read()\n",
    "\n",
    "docjson = json.loads(docstring) \n"
   ]
  },
  {
   "cell_type": "markdown",
   "metadata": {},
   "source": [
    "## About\n",
    "The code below invokes pySHACL on some data and shape graphs out of GitHub. Note, we could edit these \n",
    "local to this notebook too. The human output is a bit hard to read since some of the encoding is off.\n",
    "\n",
    "It might actually work to use the graph output and route it through the graph package and into Pandas too. \n",
    "It might let us parse and present the results a bit better.\n",
    "\n",
    "The imaage below is just a test of putting images into this document.  We can also upload and associate \n",
    "a document with the notebook and use it locally too.\n"
   ]
  },
  {
   "cell_type": "code",
   "execution_count": 8,
   "metadata": {},
   "outputs": [
    {
     "name": "stdout",
     "output_type": "stream",
     "text": [
      "True Validation Report\n",
      "Conforms: True\n",
      "\n"
     ]
    }
   ],
   "source": [
    "from pyshacl import validate\n",
    "import json\n",
    "import rdflib\n",
    "from rdflib.extras.external_graph_libs import rdflib_to_networkx_multidigraph\n",
    "import requests\n",
    "from rdflib import Graph, plugin\n",
    "from rdflib.serializer import Serializer\n",
    "\n",
    "from bs4 import BeautifulSoup\n",
    "import urllib.request\n",
    "\n",
    "dg = 'https://raw.githubusercontent.com/ESIPFed/science-on-schema.org/master/examples/dataset/minimal.jsonld'\n",
    "sg = 'https://raw.githubusercontent.com/geoschemas-org/geoshapes/master/shapegraphs/googleRecommendedCoverageCheck.ttl'\n",
    "\n",
    "s = rdflib.Graph()\n",
    "sr = s.parse(sg, format=\"ttl\")\n",
    "d = rdflib.Graph()\n",
    "dr = d.parse(dg, format=\"json-ld\")\n",
    "\n",
    "conforms, v_graph, v_text = validate(dr, shacl_graph=sr,\n",
    "  data_graph_format=\"json-ld\",\n",
    "  shacl_graph_format=\"ttl\",\n",
    "  inference='none', debug=False,\n",
    "  serialize_report_graph=False)\n",
    "        \n",
    "print('{} {}'.format(conforms, v_text))"
   ]
  },
  {
   "cell_type": "code",
   "execution_count": null,
   "metadata": {},
   "outputs": [],
   "source": []
  }
 ],
 "metadata": {
  "interpreter": {
   "hash": "e7370f93d1d0cde622a1f8e1c04877d8463912d04d973331ad4851f04de6915a"
  },
  "kernelspec": {
   "display_name": "Python 3",
   "language": "python",
   "name": "python3"
  },
  "language_info": {
   "name": "python",
   "version": ""
  }
 },
 "nbformat": 4,
 "nbformat_minor": 5
}