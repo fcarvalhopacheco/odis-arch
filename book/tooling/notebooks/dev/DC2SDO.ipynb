{
 "cells": [
  {
   "cell_type": "markdown",
   "id": "7ea2d7b3-a092-4e26-b2c9-b020339972e7",
   "metadata": {},
   "source": [
    "import kglab\n",
    "import json\n",
    "import rdflib# Dublin Core to Schema.org\n",
    "\n",
    "An experiment to see if we can convert a Dublin Core record to Schema.org.  The source location is: https://maspawio.net/layers/geonode%3Alocally_managed_marine_areas_kenya "
   ]
  },
  {
   "cell_type": "code",
   "execution_count": 31,
   "id": "91de8897-63ec-491f-9f16-c65ca0d7eda0",
   "metadata": {},
   "outputs": [],
   "source": [
    "import kglab\n",
    "import json\n",
    "import rdflib"
   ]
  },
  {
   "cell_type": "code",
   "execution_count": 32,
   "id": "469ae0f4-a636-40c0-b664-f6c5eacc4168",
   "metadata": {},
   "outputs": [],
   "source": [
    "from icecream import ic\n",
    "from pathlib import Path"
   ]
  },
  {
   "cell_type": "code",
   "execution_count": 38,
   "id": "9f339cb7-9afd-46e0-acc1-dd4985cc3dca",
   "metadata": {},
   "outputs": [],
   "source": [
    "# Source Dubline core in XML\n",
    "dcxml = \"https://maspawio.net/catalogue/csw?outputschema=http%3A%2F%2Fwww.opengis.net%2Fcat%2Fcsw%2F2.0.2&service=CSW&request=GetRecordById&version=2.0.2&elementsetname=full&id=3046b5fc-18e0-11eb-894f-0a735f7a740c\""
   ]
  },
  {
   "cell_type": "code",
   "execution_count": 39,
   "id": "9f48a98b-ee96-4125-87f7-300dc53c805e",
   "metadata": {},
   "outputs": [],
   "source": [
    "import xml.etree.ElementTree as ET\n",
    "tree = ET.parse('dublin.xml')\n",
    "root = tree.getroot()"
   ]
  },
  {
   "cell_type": "code",
   "execution_count": 40,
   "id": "e02b9880-a730-44fa-b96c-1ddb9775f5b0",
   "metadata": {},
   "outputs": [
    {
     "name": "stdout",
     "output_type": "stream",
     "text": [
      "{http://www.opengis.net/cat/csw/2.0.2}GetRecordByIdResponse\n"
     ]
    }
   ],
   "source": [
    "print(root.tag)"
   ]
  },
  {
   "cell_type": "code",
   "execution_count": 46,
   "id": "6c84123d-f158-4948-9d63-d3938a506c5d",
   "metadata": {},
   "outputs": [],
   "source": [
    "r = root.find('{http://www.opengis.net/cat/csw/2.0.2}Record')"
   ]
  },
  {
   "cell_type": "code",
   "execution_count": 49,
   "id": "f9385d14-0359-4815-a05f-40733b8d0429",
   "metadata": {},
   "outputs": [],
   "source": [
    "x = r.find('{http://purl.org/dc/elements/1.1/}subject')"
   ]
  },
  {
   "cell_type": "code",
   "execution_count": 50,
   "id": "2b2d06c3-42f4-47d5-8812-0e986cd39269",
   "metadata": {},
   "outputs": [
    {
     "name": "stdout",
     "output_type": "stream",
     "text": [
      "kenya\n"
     ]
    }
   ],
   "source": [
    "print(x.text)"
   ]
  },
  {
   "cell_type": "code",
   "execution_count": 48,
   "id": "e1d2dbe1-5751-45c5-a84f-d3f8e94217d8",
   "metadata": {},
   "outputs": [
    {
     "name": "stdout",
     "output_type": "stream",
     "text": [
      "{http://purl.org/dc/elements/1.1/}identifier 3046b5fc-18e0-11eb-894f-0a735f7a740c\n",
      "{http://purl.org/dc/elements/1.1/}title locally managed marine areas Kenya\n",
      "{http://purl.org/dc/elements/1.1/}type dataset\n",
      "{http://purl.org/dc/elements/1.1/}subject kenya\n",
      "{http://purl.org/dc/elements/1.1/}subject LMMA\n",
      "{http://purl.org/dc/elements/1.1/}format vector\n",
      "{http://purl.org/dc/terms/}references http://maspawio.net/geoserver/geonode/wfs\n",
      "{http://purl.org/dc/terms/}references http://maspawio.net/geoserver/geonode/wms\n",
      "{http://purl.org/dc/terms/}references http://maspawio.net/geoserver/wms?request=GetLegendGraphic&format=image/png&WIDTH=20&HEIGHT=20&LAYER=geonode:locally_managed_marine_areas_kenya&legend_options=fontAntiAliasing:true;fontSize:12;forceLabels:on\n",
      "{http://purl.org/dc/terms/}references http://maspawio.net/uploaded/thumbs/layer-3046b5fc-18e0-11eb-894f-0a735f7a740c-thumb.png\n",
      "{http://purl.org/dc/terms/}references http://maspawio.net/geoserver/wms/reflect?layers=geonode:locally_managed_marine_areas_kenya&width=200&height=150&format=image/png8\n",
      "{http://purl.org/dc/terms/}references http://maspawio.net/layers/geonode%3Alocally_managed_marine_areas_kenya\n",
      "{http://purl.org/dc/terms/}references http://maspawio.net/geoserver/gwc/service/gmaps?layers=geonode:locally_managed_marine_areas_kenya&zoom={z}&x={x}&y={y}&format=image/png8\n",
      "{http://purl.org/dc/terms/}references http://maspawio.net/geoserver/wms/kml?layers=geonode%3Alocally_managed_marine_areas_kenya&mode=refresh\n",
      "{http://purl.org/dc/terms/}references http://maspawio.net/geoserver/wms/kml?layers=geonode%3Alocally_managed_marine_areas_kenya&mode=download\n",
      "{http://purl.org/dc/terms/}references http://maspawio.net/geoserver/wfs?srsName=EPSG%3A4326&typename=geonode%3Alocally_managed_marine_areas_kenya&outputFormat=json&version=1.0.0&service=WFS&request=GetFeature\n",
      "{http://purl.org/dc/terms/}references http://maspawio.net/geoserver/wfs?typename=geonode%3Alocally_managed_marine_areas_kenya&outputFormat=excel&version=1.0.0&request=GetFeature&service=WFS\n",
      "{http://purl.org/dc/terms/}references http://maspawio.net/geoserver/wfs?typename=geonode%3Alocally_managed_marine_areas_kenya&outputFormat=csv&version=1.0.0&request=GetFeature&service=WFS\n",
      "{http://purl.org/dc/terms/}references http://maspawio.net/geoserver/wfs?typename=geonode%3Alocally_managed_marine_areas_kenya&outputFormat=text%2Fxml%3B+subtype%3Dgml%2F3.1.1&version=1.0.0&request=GetFeature&service=WFS\n",
      "{http://purl.org/dc/terms/}references http://maspawio.net/geoserver/wfs?typename=geonode%3Alocally_managed_marine_areas_kenya&outputFormat=gml2&version=1.0.0&request=GetFeature&service=WFS\n",
      "{http://purl.org/dc/terms/}references http://maspawio.net/geoserver/wfs?format_options=charset%3AUTF-8&typename=geonode%3Alocally_managed_marine_areas_kenya&outputFormat=SHAPE-ZIP&version=1.0.0&service=WFS&request=GetFeature\n",
      "{http://purl.org/dc/terms/}references http://maspawio.net/geoserver/wms?layers=geonode%3Alocally_managed_marine_areas_kenya&width=400&bbox=39.235491%2C-4.674234%2C41.1162229999999%2C-2.094547&service=WMS&format=image%2Fpng&srs=EPSG%3A4326&request=GetMap&height=550\n",
      "{http://purl.org/dc/terms/}references http://maspawio.net/geoserver/wms?layers=geonode%3Alocally_managed_marine_areas_kenya&width=400&bbox=39.235491%2C-4.674234%2C41.1162229999999%2C-2.094547&service=WMS&format=application%2Fpdf&srs=EPSG%3A4326&request=GetMap&height=550\n",
      "{http://purl.org/dc/terms/}references http://maspawio.net/geoserver/wms?layers=geonode%3Alocally_managed_marine_areas_kenya&width=400&bbox=39.235491%2C-4.674234%2C41.1162229999999%2C-2.094547&service=WMS&format=image%2Fjpeg&srs=EPSG%3A4326&request=GetMap&height=550\n",
      "{http://purl.org/dc/terms/}modified 2020-10-28\n",
      "{http://purl.org/dc/terms/}abstract This resource/layer shows the spatial location of locally managed marine areas (LMMA) along the Kenyan coast. The information comes from a report done by CORDIO in 2015 that sought to review a detailed history of LMMA development in Kenya. For more information, please contact jkawaka@cordioea.net\n",
      "\n",
      "\n",
      "{http://purl.org/dc/elements/1.1/}date 2020-10-28\n",
      "{http://purl.org/dc/elements/1.1/}language eng\n",
      "{http://www.opengis.net/ows}BoundingBox \n",
      "            \n"
     ]
    }
   ],
   "source": [
    "for actor in root.findall('{http://www.opengis.net/cat/csw/2.0.2}Record'):\n",
    "#     print(actor)\n",
    "\n",
    "    for child in actor:\n",
    "        print(child.tag, child.text)"
   ]
  },
  {
   "cell_type": "code",
   "execution_count": 37,
   "id": "3cedf45a-2276-4f55-b93c-b9ceec6d9671",
   "metadata": {},
   "outputs": [
    {
     "ename": "SyntaxError",
     "evalue": "invalid syntax (<ipython-input-37-276fb5ddb08f>, line 1)",
     "output_type": "error",
     "traceback": [
      "\u001b[0;36m  File \u001b[0;32m\"<ipython-input-37-276fb5ddb08f>\"\u001b[0;36m, line \u001b[0;32m1\u001b[0m\n\u001b[0;31m    for child in csw:Record:\u001b[0m\n\u001b[0m                            ^\u001b[0m\n\u001b[0;31mSyntaxError\u001b[0m\u001b[0;31m:\u001b[0m invalid syntax\n"
     ]
    }
   ],
   "source": [
    "for child in csw:Record:\n",
    "   print(child.tag, child.attrib)"
   ]
  },
  {
   "cell_type": "code",
   "execution_count": 9,
   "id": "6b87f842-4c94-4a27-a17c-9f98934d189e",
   "metadata": {},
   "outputs": [
    {
     "ename": "ParserError",
     "evalue": "None:30:52: Repeat node-elements inside property elements: http://purl.org/dc/elements/1.1/title",
     "output_type": "error",
     "traceback": [
      "\u001b[0;31m---------------------------------------------------------------------------\u001b[0m",
      "\u001b[0;31mParserError\u001b[0m                               Traceback (most recent call last)",
      "\u001b[0;32m<ipython-input-9-8660d67044eb>\u001b[0m in \u001b[0;36m<module>\u001b[0;34m\u001b[0m\n\u001b[1;32m      1\u001b[0m \u001b[0mdf\u001b[0m \u001b[0;34m=\u001b[0m \u001b[0mPath\u001b[0m\u001b[0;34m(\u001b[0m\u001b[0;34m'dublin.xml'\u001b[0m\u001b[0;34m)\u001b[0m\u001b[0;34m.\u001b[0m\u001b[0mread_text\u001b[0m\u001b[0;34m(\u001b[0m\u001b[0;34m)\u001b[0m\u001b[0;34m\u001b[0m\u001b[0;34m\u001b[0m\u001b[0m\n\u001b[1;32m      2\u001b[0m \u001b[0mdg\u001b[0m \u001b[0;34m=\u001b[0m \u001b[0mrdflib\u001b[0m\u001b[0;34m.\u001b[0m\u001b[0mGraph\u001b[0m\u001b[0;34m(\u001b[0m\u001b[0;34m)\u001b[0m\u001b[0;34m\u001b[0m\u001b[0;34m\u001b[0m\u001b[0m\n\u001b[0;32m----> 3\u001b[0;31m \u001b[0mdg\u001b[0m\u001b[0;34m.\u001b[0m\u001b[0mparse\u001b[0m\u001b[0;34m(\u001b[0m\u001b[0mdata\u001b[0m\u001b[0;34m=\u001b[0m\u001b[0mdf\u001b[0m\u001b[0;34m,\u001b[0m \u001b[0mformat\u001b[0m\u001b[0;34m=\u001b[0m\u001b[0;34m\"xml\"\u001b[0m\u001b[0;34m)\u001b[0m\u001b[0;34m\u001b[0m\u001b[0;34m\u001b[0m\u001b[0m\n\u001b[0m\u001b[1;32m      4\u001b[0m \u001b[0;34m\u001b[0m\u001b[0m\n\u001b[1;32m      5\u001b[0m \u001b[0msf\u001b[0m \u001b[0;34m=\u001b[0m \u001b[0mPath\u001b[0m\u001b[0;34m(\u001b[0m\u001b[0;34m'dcatsdo.ttl'\u001b[0m\u001b[0;34m)\u001b[0m\u001b[0;34m.\u001b[0m\u001b[0mread_text\u001b[0m\u001b[0;34m(\u001b[0m\u001b[0;34m)\u001b[0m\u001b[0;34m\u001b[0m\u001b[0;34m\u001b[0m\u001b[0m\n",
      "\u001b[0;32m/opt/conda/lib/python3.9/site-packages/rdflib/graph.py\u001b[0m in \u001b[0;36mparse\u001b[0;34m(self, source, publicID, format, location, file, data, **args)\u001b[0m\n\u001b[1;32m   1209\u001b[0m         \u001b[0mparser\u001b[0m \u001b[0;34m=\u001b[0m \u001b[0mplugin\u001b[0m\u001b[0;34m.\u001b[0m\u001b[0mget\u001b[0m\u001b[0;34m(\u001b[0m\u001b[0mformat\u001b[0m\u001b[0;34m,\u001b[0m \u001b[0mParser\u001b[0m\u001b[0;34m)\u001b[0m\u001b[0;34m(\u001b[0m\u001b[0;34m)\u001b[0m\u001b[0;34m\u001b[0m\u001b[0;34m\u001b[0m\u001b[0m\n\u001b[1;32m   1210\u001b[0m         \u001b[0;32mtry\u001b[0m\u001b[0;34m:\u001b[0m\u001b[0;34m\u001b[0m\u001b[0;34m\u001b[0m\u001b[0m\n\u001b[0;32m-> 1211\u001b[0;31m             \u001b[0mparser\u001b[0m\u001b[0;34m.\u001b[0m\u001b[0mparse\u001b[0m\u001b[0;34m(\u001b[0m\u001b[0msource\u001b[0m\u001b[0;34m,\u001b[0m \u001b[0mself\u001b[0m\u001b[0;34m,\u001b[0m \u001b[0;34m**\u001b[0m\u001b[0margs\u001b[0m\u001b[0;34m)\u001b[0m\u001b[0;34m\u001b[0m\u001b[0;34m\u001b[0m\u001b[0m\n\u001b[0m\u001b[1;32m   1212\u001b[0m         \u001b[0;32mexcept\u001b[0m \u001b[0mSyntaxError\u001b[0m \u001b[0;32mas\u001b[0m \u001b[0mse\u001b[0m\u001b[0;34m:\u001b[0m\u001b[0;34m\u001b[0m\u001b[0;34m\u001b[0m\u001b[0m\n\u001b[1;32m   1213\u001b[0m             \u001b[0;32mif\u001b[0m \u001b[0mcould_not_guess_format\u001b[0m\u001b[0;34m:\u001b[0m\u001b[0;34m\u001b[0m\u001b[0;34m\u001b[0m\u001b[0m\n",
      "\u001b[0;32m/opt/conda/lib/python3.9/site-packages/rdflib/plugins/parsers/rdfxml.py\u001b[0m in \u001b[0;36mparse\u001b[0;34m(self, source, sink, **args)\u001b[0m\n\u001b[1;32m    606\u001b[0m         \u001b[0;31m# content_handler.reset()\u001b[0m\u001b[0;34m\u001b[0m\u001b[0;34m\u001b[0m\u001b[0;34m\u001b[0m\u001b[0m\n\u001b[1;32m    607\u001b[0m         \u001b[0;31m# self._parser.reset()\u001b[0m\u001b[0;34m\u001b[0m\u001b[0;34m\u001b[0m\u001b[0;34m\u001b[0m\u001b[0m\n\u001b[0;32m--> 608\u001b[0;31m         \u001b[0mself\u001b[0m\u001b[0;34m.\u001b[0m\u001b[0m_parser\u001b[0m\u001b[0;34m.\u001b[0m\u001b[0mparse\u001b[0m\u001b[0;34m(\u001b[0m\u001b[0msource\u001b[0m\u001b[0;34m)\u001b[0m\u001b[0;34m\u001b[0m\u001b[0;34m\u001b[0m\u001b[0m\n\u001b[0m",
      "\u001b[0;32m/opt/conda/lib/python3.9/xml/sax/expatreader.py\u001b[0m in \u001b[0;36mparse\u001b[0;34m(self, source)\u001b[0m\n\u001b[1;32m    109\u001b[0m             \u001b[0mself\u001b[0m\u001b[0;34m.\u001b[0m\u001b[0mreset\u001b[0m\u001b[0;34m(\u001b[0m\u001b[0;34m)\u001b[0m\u001b[0;34m\u001b[0m\u001b[0;34m\u001b[0m\u001b[0m\n\u001b[1;32m    110\u001b[0m             \u001b[0mself\u001b[0m\u001b[0;34m.\u001b[0m\u001b[0m_cont_handler\u001b[0m\u001b[0;34m.\u001b[0m\u001b[0msetDocumentLocator\u001b[0m\u001b[0;34m(\u001b[0m\u001b[0mExpatLocator\u001b[0m\u001b[0;34m(\u001b[0m\u001b[0mself\u001b[0m\u001b[0;34m)\u001b[0m\u001b[0;34m)\u001b[0m\u001b[0;34m\u001b[0m\u001b[0;34m\u001b[0m\u001b[0m\n\u001b[0;32m--> 111\u001b[0;31m             \u001b[0mxmlreader\u001b[0m\u001b[0;34m.\u001b[0m\u001b[0mIncrementalParser\u001b[0m\u001b[0;34m.\u001b[0m\u001b[0mparse\u001b[0m\u001b[0;34m(\u001b[0m\u001b[0mself\u001b[0m\u001b[0;34m,\u001b[0m \u001b[0msource\u001b[0m\u001b[0;34m)\u001b[0m\u001b[0;34m\u001b[0m\u001b[0;34m\u001b[0m\u001b[0m\n\u001b[0m\u001b[1;32m    112\u001b[0m         \u001b[0;32mexcept\u001b[0m\u001b[0;34m:\u001b[0m\u001b[0;34m\u001b[0m\u001b[0;34m\u001b[0m\u001b[0m\n\u001b[1;32m    113\u001b[0m             \u001b[0;31m# bpo-30264: Close the source on error to not leak resources:\u001b[0m\u001b[0;34m\u001b[0m\u001b[0;34m\u001b[0m\u001b[0;34m\u001b[0m\u001b[0m\n",
      "\u001b[0;32m/opt/conda/lib/python3.9/xml/sax/xmlreader.py\u001b[0m in \u001b[0;36mparse\u001b[0;34m(self, source)\u001b[0m\n\u001b[1;32m    123\u001b[0m         \u001b[0mbuffer\u001b[0m \u001b[0;34m=\u001b[0m \u001b[0mfile\u001b[0m\u001b[0;34m.\u001b[0m\u001b[0mread\u001b[0m\u001b[0;34m(\u001b[0m\u001b[0mself\u001b[0m\u001b[0;34m.\u001b[0m\u001b[0m_bufsize\u001b[0m\u001b[0;34m)\u001b[0m\u001b[0;34m\u001b[0m\u001b[0;34m\u001b[0m\u001b[0m\n\u001b[1;32m    124\u001b[0m         \u001b[0;32mwhile\u001b[0m \u001b[0mbuffer\u001b[0m\u001b[0;34m:\u001b[0m\u001b[0;34m\u001b[0m\u001b[0;34m\u001b[0m\u001b[0m\n\u001b[0;32m--> 125\u001b[0;31m             \u001b[0mself\u001b[0m\u001b[0;34m.\u001b[0m\u001b[0mfeed\u001b[0m\u001b[0;34m(\u001b[0m\u001b[0mbuffer\u001b[0m\u001b[0;34m)\u001b[0m\u001b[0;34m\u001b[0m\u001b[0;34m\u001b[0m\u001b[0m\n\u001b[0m\u001b[1;32m    126\u001b[0m             \u001b[0mbuffer\u001b[0m \u001b[0;34m=\u001b[0m \u001b[0mfile\u001b[0m\u001b[0;34m.\u001b[0m\u001b[0mread\u001b[0m\u001b[0;34m(\u001b[0m\u001b[0mself\u001b[0m\u001b[0;34m.\u001b[0m\u001b[0m_bufsize\u001b[0m\u001b[0;34m)\u001b[0m\u001b[0;34m\u001b[0m\u001b[0;34m\u001b[0m\u001b[0m\n\u001b[1;32m    127\u001b[0m         \u001b[0mself\u001b[0m\u001b[0;34m.\u001b[0m\u001b[0mclose\u001b[0m\u001b[0;34m(\u001b[0m\u001b[0;34m)\u001b[0m\u001b[0;34m\u001b[0m\u001b[0;34m\u001b[0m\u001b[0m\n",
      "\u001b[0;32m/opt/conda/lib/python3.9/xml/sax/expatreader.py\u001b[0m in \u001b[0;36mfeed\u001b[0;34m(self, data, isFinal)\u001b[0m\n\u001b[1;32m    215\u001b[0m             \u001b[0;31m# document. When feeding chunks, they are not normally final -\u001b[0m\u001b[0;34m\u001b[0m\u001b[0;34m\u001b[0m\u001b[0;34m\u001b[0m\u001b[0m\n\u001b[1;32m    216\u001b[0m             \u001b[0;31m# except when invoked from close.\u001b[0m\u001b[0;34m\u001b[0m\u001b[0;34m\u001b[0m\u001b[0;34m\u001b[0m\u001b[0m\n\u001b[0;32m--> 217\u001b[0;31m             \u001b[0mself\u001b[0m\u001b[0;34m.\u001b[0m\u001b[0m_parser\u001b[0m\u001b[0;34m.\u001b[0m\u001b[0mParse\u001b[0m\u001b[0;34m(\u001b[0m\u001b[0mdata\u001b[0m\u001b[0;34m,\u001b[0m \u001b[0misFinal\u001b[0m\u001b[0;34m)\u001b[0m\u001b[0;34m\u001b[0m\u001b[0;34m\u001b[0m\u001b[0m\n\u001b[0m\u001b[1;32m    218\u001b[0m         \u001b[0;32mexcept\u001b[0m \u001b[0mexpat\u001b[0m\u001b[0;34m.\u001b[0m\u001b[0merror\u001b[0m \u001b[0;32mas\u001b[0m \u001b[0me\u001b[0m\u001b[0;34m:\u001b[0m\u001b[0;34m\u001b[0m\u001b[0;34m\u001b[0m\u001b[0m\n\u001b[1;32m    219\u001b[0m             \u001b[0mexc\u001b[0m \u001b[0;34m=\u001b[0m \u001b[0mSAXParseException\u001b[0m\u001b[0;34m(\u001b[0m\u001b[0mexpat\u001b[0m\u001b[0;34m.\u001b[0m\u001b[0mErrorString\u001b[0m\u001b[0;34m(\u001b[0m\u001b[0me\u001b[0m\u001b[0;34m.\u001b[0m\u001b[0mcode\u001b[0m\u001b[0;34m)\u001b[0m\u001b[0;34m,\u001b[0m \u001b[0me\u001b[0m\u001b[0;34m,\u001b[0m \u001b[0mself\u001b[0m\u001b[0;34m)\u001b[0m\u001b[0;34m\u001b[0m\u001b[0;34m\u001b[0m\u001b[0m\n",
      "\u001b[0;32m/home/conda/feedstock_root/build_artifacts/python-split_1613883019772/work/Modules/pyexpat.c\u001b[0m in \u001b[0;36mEndElement\u001b[0;34m()\u001b[0m\n",
      "\u001b[0;32m/opt/conda/lib/python3.9/xml/sax/expatreader.py\u001b[0m in \u001b[0;36mend_element_ns\u001b[0;34m(self, name)\u001b[0m\n\u001b[1;32m    379\u001b[0m             \u001b[0mpair\u001b[0m \u001b[0;34m=\u001b[0m \u001b[0mtuple\u001b[0m\u001b[0;34m(\u001b[0m\u001b[0mpair\u001b[0m\u001b[0;34m)\u001b[0m\u001b[0;34m\u001b[0m\u001b[0;34m\u001b[0m\u001b[0m\n\u001b[1;32m    380\u001b[0m \u001b[0;34m\u001b[0m\u001b[0m\n\u001b[0;32m--> 381\u001b[0;31m         \u001b[0mself\u001b[0m\u001b[0;34m.\u001b[0m\u001b[0m_cont_handler\u001b[0m\u001b[0;34m.\u001b[0m\u001b[0mendElementNS\u001b[0m\u001b[0;34m(\u001b[0m\u001b[0mpair\u001b[0m\u001b[0;34m,\u001b[0m \u001b[0;32mNone\u001b[0m\u001b[0;34m)\u001b[0m\u001b[0;34m\u001b[0m\u001b[0;34m\u001b[0m\u001b[0m\n\u001b[0m\u001b[1;32m    382\u001b[0m \u001b[0;34m\u001b[0m\u001b[0m\n\u001b[1;32m    383\u001b[0m     \u001b[0;31m# this is not used (call directly to ContentHandler)\u001b[0m\u001b[0;34m\u001b[0m\u001b[0;34m\u001b[0m\u001b[0;34m\u001b[0m\u001b[0m\n",
      "\u001b[0;32m/opt/conda/lib/python3.9/site-packages/rdflib/plugins/parsers/rdfxml.py\u001b[0m in \u001b[0;36mendElementNS\u001b[0;34m(self, name, qname)\u001b[0m\n\u001b[1;32m    195\u001b[0m \u001b[0;34m\u001b[0m\u001b[0m\n\u001b[1;32m    196\u001b[0m     \u001b[0;32mdef\u001b[0m \u001b[0mendElementNS\u001b[0m\u001b[0;34m(\u001b[0m\u001b[0mself\u001b[0m\u001b[0;34m,\u001b[0m \u001b[0mname\u001b[0m\u001b[0;34m,\u001b[0m \u001b[0mqname\u001b[0m\u001b[0;34m)\u001b[0m\u001b[0;34m:\u001b[0m\u001b[0;34m\u001b[0m\u001b[0;34m\u001b[0m\u001b[0m\n\u001b[0;32m--> 197\u001b[0;31m         \u001b[0mself\u001b[0m\u001b[0;34m.\u001b[0m\u001b[0mcurrent\u001b[0m\u001b[0;34m.\u001b[0m\u001b[0mend\u001b[0m\u001b[0;34m(\u001b[0m\u001b[0mname\u001b[0m\u001b[0;34m,\u001b[0m \u001b[0mqname\u001b[0m\u001b[0;34m)\u001b[0m\u001b[0;34m\u001b[0m\u001b[0;34m\u001b[0m\u001b[0m\n\u001b[0m\u001b[1;32m    198\u001b[0m         \u001b[0mself\u001b[0m\u001b[0;34m.\u001b[0m\u001b[0mstack\u001b[0m\u001b[0;34m.\u001b[0m\u001b[0mpop\u001b[0m\u001b[0;34m(\u001b[0m\u001b[0;34m)\u001b[0m\u001b[0;34m\u001b[0m\u001b[0;34m\u001b[0m\u001b[0m\n\u001b[1;32m    199\u001b[0m \u001b[0;34m\u001b[0m\u001b[0m\n",
      "\u001b[0;32m/opt/conda/lib/python3.9/site-packages/rdflib/plugins/parsers/rdfxml.py\u001b[0m in \u001b[0;36mnode_element_end\u001b[0;34m(self, name, qname)\u001b[0m\n\u001b[1;32m    364\u001b[0m         \u001b[0;32mif\u001b[0m \u001b[0mself\u001b[0m\u001b[0;34m.\u001b[0m\u001b[0mparent\u001b[0m\u001b[0;34m.\u001b[0m\u001b[0mobject\u001b[0m \u001b[0;32mand\u001b[0m \u001b[0mself\u001b[0m\u001b[0;34m.\u001b[0m\u001b[0mcurrent\u001b[0m \u001b[0;34m!=\u001b[0m \u001b[0mself\u001b[0m\u001b[0;34m.\u001b[0m\u001b[0mstack\u001b[0m\u001b[0;34m[\u001b[0m\u001b[0;36m2\u001b[0m\u001b[0;34m]\u001b[0m\u001b[0;34m:\u001b[0m\u001b[0;34m\u001b[0m\u001b[0;34m\u001b[0m\u001b[0m\n\u001b[1;32m    365\u001b[0m \u001b[0;34m\u001b[0m\u001b[0m\n\u001b[0;32m--> 366\u001b[0;31m             self.error(\n\u001b[0m\u001b[1;32m    367\u001b[0m                 \u001b[0;34m\"Repeat node-elements inside property elements: %s\"\u001b[0m \u001b[0;34m%\u001b[0m \u001b[0;34m\"\"\u001b[0m\u001b[0;34m.\u001b[0m\u001b[0mjoin\u001b[0m\u001b[0;34m(\u001b[0m\u001b[0mname\u001b[0m\u001b[0;34m)\u001b[0m\u001b[0;34m\u001b[0m\u001b[0;34m\u001b[0m\u001b[0m\n\u001b[1;32m    368\u001b[0m             )\n",
      "\u001b[0;32m/opt/conda/lib/python3.9/site-packages/rdflib/plugins/parsers/rdfxml.py\u001b[0m in \u001b[0;36merror\u001b[0;34m(self, message)\u001b[0m\n\u001b[1;32m    223\u001b[0m             \u001b[0mlocator\u001b[0m\u001b[0;34m.\u001b[0m\u001b[0mgetColumnNumber\u001b[0m\u001b[0;34m(\u001b[0m\u001b[0;34m)\u001b[0m\u001b[0;34m,\u001b[0m\u001b[0;34m\u001b[0m\u001b[0;34m\u001b[0m\u001b[0m\n\u001b[1;32m    224\u001b[0m         )\n\u001b[0;32m--> 225\u001b[0;31m         \u001b[0;32mraise\u001b[0m \u001b[0mParserError\u001b[0m\u001b[0;34m(\u001b[0m\u001b[0minfo\u001b[0m \u001b[0;34m+\u001b[0m \u001b[0mmessage\u001b[0m\u001b[0;34m)\u001b[0m\u001b[0;34m\u001b[0m\u001b[0;34m\u001b[0m\u001b[0m\n\u001b[0m\u001b[1;32m    226\u001b[0m \u001b[0;34m\u001b[0m\u001b[0m\n\u001b[1;32m    227\u001b[0m     \u001b[0;32mdef\u001b[0m \u001b[0mget_current\u001b[0m\u001b[0;34m(\u001b[0m\u001b[0mself\u001b[0m\u001b[0;34m)\u001b[0m\u001b[0;34m:\u001b[0m\u001b[0;34m\u001b[0m\u001b[0;34m\u001b[0m\u001b[0m\n",
      "\u001b[0;31mParserError\u001b[0m: None:30:52: Repeat node-elements inside property elements: http://purl.org/dc/elements/1.1/title"
     ]
    }
   ],
   "source": [
    "df = Path('dublin.xml').read_text()\n",
    "dg = rdflib.Graph()\n",
    "dg.parse(data=df, format=\"xml\")\n",
    "\n",
    "sf = Path('dcatsdo.ttl').read_text()\n",
    "sg = rdflib.Graph()\n",
    "sg.parse(data=sf, format=\"ttl\")\n",
    "\n",
    "# v = Validator(data_graph=dg, shacl_graph=sg,  options={\"inference\": \"none\", \"advanced\": True})  # turn off rdfs inferencing\n",
    "# conforms, report_graph, report_text = v.run()\n",
    "# expanded_graph = v.target_graph \n",
    "\n",
    "# print(expanded_graph.serialize(format=\"ttl\").decode(\"utf-8\"))"
   ]
  },
  {
   "cell_type": "code",
   "execution_count": null,
   "id": "6365ac82-9740-4df5-89af-64171d6f4fb6",
   "metadata": {},
   "outputs": [],
   "source": []
  }
 ],
 "metadata": {
  "kernelspec": {
   "display_name": "Python 3",
   "language": "python",
   "name": "python3"
  },
  "language_info": {
   "codemirror_mode": {
    "name": "ipython",
    "version": 3
   },
   "file_extension": ".py",
   "mimetype": "text/x-python",
   "name": "python",
   "nbconvert_exporter": "python",
   "pygments_lexer": "ipython3",
   "version": "3.9.2"
  }
 },
 "nbformat": 4,
 "nbformat_minor": 5
}
