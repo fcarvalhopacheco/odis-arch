{
 "cells": [
  {
   "cell_type": "markdown",
   "id": "1e4ec268-6f78-424c-9c0a-e3f844d69565",
   "metadata": {},
   "source": [
    "# Pacific Data Testing\n"
   ]
  },
  {
   "cell_type": "markdown",
   "id": "fbd22653-9aea-4f2f-862e-346e0b168dcd",
   "metadata": {},
   "source": [
    "## Notes\n",
    "\n",
    "so when I get results like\n",
    "result:\n",
    "```\n",
    "[\"06f61e4a-9ca0-47e3-8e9b-8f953274d26f\", \"07a576ce-f6b0-4f1f-bf66-670e4f63f9b5\", \"0c77bfef-bbbc-43f9-9583-98bd4b9d5b77\"]\n",
    "```\n",
    "\n",
    "how do I convert them to resolving URLs?\n",
    "\n",
    "\n",
    "* https://pacificdata.org/data/api/3/action/package_list\n",
    "* https://pacificdata.org/data/api/3/action/package_show?id=SPC-DF_POP_COAST\n",
    "* https://github.com/PacificCommunity/ckanext-spc-pdh/blob/master/ckanext/spc/schemas/dataset.json\n",
    "\n",
    "* http://dev.d9fsm.sprep.wod.by/\n",
    "* http://dev.d9fsm.sprep.wod.by/dataset/151/jsonld\n"
   ]
  },
  {
   "cell_type": "code",
   "execution_count": null,
   "id": "2caf2de9-f328-483e-abb2-0cde6d768948",
   "metadata": {},
   "outputs": [],
   "source": [
    "import json\n",
    "from pyld import jsonld\n",
    "import os, sys\n",
    "\n",
    "currentdir = os.path.dirname(os.path.abspath(''))\n",
    "parentdir = os.path.dirname(currentdir)\n",
    "sys.path.insert(0, currentdir)\n",
    "from lib import jbutils\n",
    "\n",
    "g = Graph().parse(sg, format='ttl')\n",
    "\n",
    "context = {\"schema\": \"https://schema.org/\", \n",
    "           \"rdf\": \"http://www.w3.org/1999/02/22-rdf-syntax-ns#\",\n",
    "           \"shacl\": \"http://www.w3.org/ns/shacl#\" ,\n",
    "           \"oihval\": \"https://oceans.collaborium.io/voc/validation/1.0.1/shacl#\" \n",
    "           }\n",
    "\n",
    "sgjld = g.serialize(format='json-ld', context=context, indent=4)\n",
    "\n",
    "doc = json.loads(sgjld)\n",
    "\n",
    "compacted = jsonld.compact(doc, context)\n",
    "\n",
    "# jd = json.dumps(compacted, indent=4)\n",
    "# print(jd)\n",
    "\n",
    "jbutils.show_graph(compacted)"
   ]
  }
 ],
 "metadata": {
  "kernelspec": {
   "display_name": "Python 3",
   "language": "python",
   "name": "python3"
  },
  "language_info": {
   "codemirror_mode": {
    "name": "ipython",
    "version": 3
   },
   "file_extension": ".py",
   "mimetype": "text/x-python",
   "name": "python",
   "nbconvert_exporter": "python",
   "pygments_lexer": "ipython3",
   "version": "3.9.2"
  }
 },
 "nbformat": 4,
 "nbformat_minor": 5
}
