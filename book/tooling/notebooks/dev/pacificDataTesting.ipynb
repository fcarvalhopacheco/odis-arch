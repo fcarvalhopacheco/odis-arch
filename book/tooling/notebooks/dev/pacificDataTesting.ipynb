{
 "cells": [
  {
   "cell_type": "markdown",
   "id": "1e4ec268-6f78-424c-9c0a-e3f844d69565",
   "metadata": {},
   "source": [
    "# Pacific Data Testing\n"
   ]
  },
  {
   "cell_type": "markdown",
   "id": "fbd22653-9aea-4f2f-862e-346e0b168dcd",
   "metadata": {},
   "source": [
    "## Notes\n",
    "\n",
    "so when I get results like\n",
    "result:\n",
    "```\n",
    "[\"06f61e4a-9ca0-47e3-8e9b-8f953274d26f\", \"07a576ce-f6b0-4f1f-bf66-670e4f63f9b5\", \"0c77bfef-bbbc-43f9-9583-98bd4b9d5b77\"]\n",
    "```\n",
    "\n",
    "how do I convert them to resolving URLs?\n",
    "\n",
    "\n",
    "* https://pacificdata.org/data/api/3/action/package_list\n",
    "* https://pacificdata.org/data/api/3/action/package_show?id=SPC-DF_POP_COAST\n",
    "* https://github.com/PacificCommunity/ckanext-spc-pdh/blob/master/ckanext/spc/schemas/dataset.json\n",
    "\n",
    "* http://dev.d9fsm.sprep.wod.by/\n",
    "* http://dev.d9fsm.sprep.wod.by/dataset/151/jsonld\n"
   ]
  },
  {
   "cell_type": "code",
   "execution_count": 5,
   "id": "29ca88b7-f212-4d09-91c6-8ca580302a53",
   "metadata": {},
   "outputs": [],
   "source": [
    "import kglab as kg\n",
    "from rdflib import Graph, plugin\n",
    "from rdflib.serializer import Serializer"
   ]
  },
  {
   "cell_type": "code",
   "execution_count": 8,
   "id": "2caf2de9-f328-483e-abb2-0cde6d768948",
   "metadata": {},
   "outputs": [
    {
     "ename": "JsonLdError",
     "evalue": "('Could not expand input before compaction.',)\nType: jsonld.CompactError\nCause: ('Dereferencing a URL did not result in a valid JSON-LD object. Possible causes are an inaccessible URL perhaps due to a same-origin policy (ensure the server uses CORS if you are using client-side JavaScript), too many redirects, a non-JSON response, or more than one HTTP Link Header was provided for a remote context.',)\nType: jsonld.InvalidUrl\nCode: loading remote context failed\nDetails: {'url': 'https://schema.org', 'cause': JsonLdError('Could not retrieve a JSON-LD document from the URL.')}  File \"/opt/conda/lib/python3.9/site-packages/pyld/jsonld.py\", line 717, in compact\n    expanded = self.expand(input_, options)\n  File \"/opt/conda/lib/python3.9/site-packages/pyld/jsonld.py\", line 870, in expand\n    expanded = self._expand(active_ctx, None, document, options,\n  File \"/opt/conda/lib/python3.9/site-packages/pyld/jsonld.py\", line 2302, in _expand\n    active_ctx = self._process_context(\n  File \"/opt/conda/lib/python3.9/site-packages/pyld/jsonld.py\", line 3049, in _process_context\n    resolved = options['contextResolver'].resolve(active_ctx, local_ctx, options.get('base', ''))\n  File \"/opt/conda/lib/python3.9/site-packages/pyld/context_resolver.py\", line 58, in resolve\n    resolved = self._resolve_remote_context(\n  File \"/opt/conda/lib/python3.9/site-packages/pyld/context_resolver.py\", line 108, in _resolve_remote_context\n    context, remote_doc = self._fetch_context(active_ctx, url, cycles)\n  File \"/opt/conda/lib/python3.9/site-packages/pyld/context_resolver.py\", line 148, in _fetch_context\n    raise jsonld.JsonLdError(\n",
     "output_type": "error",
     "traceback": [
      "\u001b[0;31m---------------------------------------------------------------------------\u001b[0m",
      "\u001b[0;31mJSONDecodeError\u001b[0m                           Traceback (most recent call last)",
      "\u001b[0;32m/opt/conda/lib/python3.9/site-packages/pyld/documentloader/requests.py\u001b[0m in \u001b[0;36mloader\u001b[0;34m(url, options)\u001b[0m\n\u001b[1;32m     71\u001b[0m                 \u001b[0;34m'documentUrl'\u001b[0m\u001b[0;34m:\u001b[0m \u001b[0mresponse\u001b[0m\u001b[0;34m.\u001b[0m\u001b[0murl\u001b[0m\u001b[0;34m,\u001b[0m\u001b[0;34m\u001b[0m\u001b[0;34m\u001b[0m\u001b[0m\n\u001b[0;32m---> 72\u001b[0;31m                 \u001b[0;34m'document'\u001b[0m\u001b[0;34m:\u001b[0m \u001b[0mresponse\u001b[0m\u001b[0;34m.\u001b[0m\u001b[0mjson\u001b[0m\u001b[0;34m(\u001b[0m\u001b[0;34m)\u001b[0m\u001b[0;34m\u001b[0m\u001b[0;34m\u001b[0m\u001b[0m\n\u001b[0m\u001b[1;32m     73\u001b[0m             }\n",
      "\u001b[0;32m/opt/conda/lib/python3.9/site-packages/requests/models.py\u001b[0m in \u001b[0;36mjson\u001b[0;34m(self, **kwargs)\u001b[0m\n\u001b[1;32m    899\u001b[0m                     \u001b[0;32mpass\u001b[0m\u001b[0;34m\u001b[0m\u001b[0;34m\u001b[0m\u001b[0m\n\u001b[0;32m--> 900\u001b[0;31m         \u001b[0;32mreturn\u001b[0m \u001b[0mcomplexjson\u001b[0m\u001b[0;34m.\u001b[0m\u001b[0mloads\u001b[0m\u001b[0;34m(\u001b[0m\u001b[0mself\u001b[0m\u001b[0;34m.\u001b[0m\u001b[0mtext\u001b[0m\u001b[0;34m,\u001b[0m \u001b[0;34m**\u001b[0m\u001b[0mkwargs\u001b[0m\u001b[0;34m)\u001b[0m\u001b[0;34m\u001b[0m\u001b[0;34m\u001b[0m\u001b[0m\n\u001b[0m\u001b[1;32m    901\u001b[0m \u001b[0;34m\u001b[0m\u001b[0m\n",
      "\u001b[0;32m/opt/conda/lib/python3.9/json/__init__.py\u001b[0m in \u001b[0;36mloads\u001b[0;34m(s, cls, object_hook, parse_float, parse_int, parse_constant, object_pairs_hook, **kw)\u001b[0m\n\u001b[1;32m    345\u001b[0m             parse_constant is None and object_pairs_hook is None and not kw):\n\u001b[0;32m--> 346\u001b[0;31m         \u001b[0;32mreturn\u001b[0m \u001b[0m_default_decoder\u001b[0m\u001b[0;34m.\u001b[0m\u001b[0mdecode\u001b[0m\u001b[0;34m(\u001b[0m\u001b[0ms\u001b[0m\u001b[0;34m)\u001b[0m\u001b[0;34m\u001b[0m\u001b[0;34m\u001b[0m\u001b[0m\n\u001b[0m\u001b[1;32m    347\u001b[0m     \u001b[0;32mif\u001b[0m \u001b[0mcls\u001b[0m \u001b[0;32mis\u001b[0m \u001b[0;32mNone\u001b[0m\u001b[0;34m:\u001b[0m\u001b[0;34m\u001b[0m\u001b[0;34m\u001b[0m\u001b[0m\n",
      "\u001b[0;32m/opt/conda/lib/python3.9/json/decoder.py\u001b[0m in \u001b[0;36mdecode\u001b[0;34m(self, s, _w)\u001b[0m\n\u001b[1;32m    336\u001b[0m         \"\"\"\n\u001b[0;32m--> 337\u001b[0;31m         \u001b[0mobj\u001b[0m\u001b[0;34m,\u001b[0m \u001b[0mend\u001b[0m \u001b[0;34m=\u001b[0m \u001b[0mself\u001b[0m\u001b[0;34m.\u001b[0m\u001b[0mraw_decode\u001b[0m\u001b[0;34m(\u001b[0m\u001b[0ms\u001b[0m\u001b[0;34m,\u001b[0m \u001b[0midx\u001b[0m\u001b[0;34m=\u001b[0m\u001b[0m_w\u001b[0m\u001b[0;34m(\u001b[0m\u001b[0ms\u001b[0m\u001b[0;34m,\u001b[0m \u001b[0;36m0\u001b[0m\u001b[0;34m)\u001b[0m\u001b[0;34m.\u001b[0m\u001b[0mend\u001b[0m\u001b[0;34m(\u001b[0m\u001b[0;34m)\u001b[0m\u001b[0;34m)\u001b[0m\u001b[0;34m\u001b[0m\u001b[0;34m\u001b[0m\u001b[0m\n\u001b[0m\u001b[1;32m    338\u001b[0m         \u001b[0mend\u001b[0m \u001b[0;34m=\u001b[0m \u001b[0m_w\u001b[0m\u001b[0;34m(\u001b[0m\u001b[0ms\u001b[0m\u001b[0;34m,\u001b[0m \u001b[0mend\u001b[0m\u001b[0;34m)\u001b[0m\u001b[0;34m.\u001b[0m\u001b[0mend\u001b[0m\u001b[0;34m(\u001b[0m\u001b[0;34m)\u001b[0m\u001b[0;34m\u001b[0m\u001b[0;34m\u001b[0m\u001b[0m\n",
      "\u001b[0;32m/opt/conda/lib/python3.9/json/decoder.py\u001b[0m in \u001b[0;36mraw_decode\u001b[0;34m(self, s, idx)\u001b[0m\n\u001b[1;32m    354\u001b[0m         \u001b[0;32mexcept\u001b[0m \u001b[0mStopIteration\u001b[0m \u001b[0;32mas\u001b[0m \u001b[0merr\u001b[0m\u001b[0;34m:\u001b[0m\u001b[0;34m\u001b[0m\u001b[0;34m\u001b[0m\u001b[0m\n\u001b[0;32m--> 355\u001b[0;31m             \u001b[0;32mraise\u001b[0m \u001b[0mJSONDecodeError\u001b[0m\u001b[0;34m(\u001b[0m\u001b[0;34m\"Expecting value\"\u001b[0m\u001b[0;34m,\u001b[0m \u001b[0ms\u001b[0m\u001b[0;34m,\u001b[0m \u001b[0merr\u001b[0m\u001b[0;34m.\u001b[0m\u001b[0mvalue\u001b[0m\u001b[0;34m)\u001b[0m \u001b[0;32mfrom\u001b[0m \u001b[0;32mNone\u001b[0m\u001b[0;34m\u001b[0m\u001b[0;34m\u001b[0m\u001b[0m\n\u001b[0m\u001b[1;32m    356\u001b[0m         \u001b[0;32mreturn\u001b[0m \u001b[0mobj\u001b[0m\u001b[0;34m,\u001b[0m \u001b[0mend\u001b[0m\u001b[0;34m\u001b[0m\u001b[0;34m\u001b[0m\u001b[0m\n",
      "\u001b[0;31mJSONDecodeError\u001b[0m: Expecting value: line 2 column 1 (char 1)",
      "\nDuring handling of the above exception, another exception occurred:\n",
      "\u001b[0;31mJsonLdError\u001b[0m                               Traceback (most recent call last)",
      "\u001b[0;32m/opt/conda/lib/python3.9/site-packages/pyld/context_resolver.py\u001b[0m in \u001b[0;36m_fetch_context\u001b[0;34m(self, active_ctx, url, cycles)\u001b[0m\n\u001b[1;32m    142\u001b[0m         \u001b[0;32mtry\u001b[0m\u001b[0;34m:\u001b[0m\u001b[0;34m\u001b[0m\u001b[0;34m\u001b[0m\u001b[0m\n\u001b[0;32m--> 143\u001b[0;31m             remote_doc = jsonld.load_document(url,\n\u001b[0m\u001b[1;32m    144\u001b[0m                 \u001b[0;34m{\u001b[0m\u001b[0;34m'documentLoader'\u001b[0m\u001b[0;34m:\u001b[0m \u001b[0mself\u001b[0m\u001b[0;34m.\u001b[0m\u001b[0mdocument_loader\u001b[0m\u001b[0;34m}\u001b[0m\u001b[0;34m,\u001b[0m\u001b[0;34m\u001b[0m\u001b[0;34m\u001b[0m\u001b[0m\n",
      "\u001b[0;32m/opt/conda/lib/python3.9/site-packages/pyld/jsonld.py\u001b[0m in \u001b[0;36mload_document\u001b[0;34m(url, options, base, profile, requestProfile)\u001b[0m\n\u001b[1;32m   6582\u001b[0m         \u001b[0moptions\u001b[0m\u001b[0;34m[\u001b[0m\u001b[0;34m'headers'\u001b[0m\u001b[0;34m]\u001b[0m \u001b[0;34m=\u001b[0m \u001b[0mheaders\u001b[0m\u001b[0;34m\u001b[0m\u001b[0;34m\u001b[0m\u001b[0m\n\u001b[0;32m-> 6583\u001b[0;31m     \u001b[0mremote_doc\u001b[0m \u001b[0;34m=\u001b[0m \u001b[0moptions\u001b[0m\u001b[0;34m[\u001b[0m\u001b[0;34m'documentLoader'\u001b[0m\u001b[0;34m]\u001b[0m\u001b[0;34m(\u001b[0m\u001b[0murl\u001b[0m\u001b[0;34m,\u001b[0m \u001b[0moptions\u001b[0m\u001b[0;34m)\u001b[0m\u001b[0;34m\u001b[0m\u001b[0;34m\u001b[0m\u001b[0m\n\u001b[0m\u001b[1;32m   6584\u001b[0m     \u001b[0;32mif\u001b[0m \u001b[0mbase\u001b[0m\u001b[0;34m:\u001b[0m\u001b[0;34m\u001b[0m\u001b[0;34m\u001b[0m\u001b[0m\n",
      "\u001b[0;32m/opt/conda/lib/python3.9/site-packages/pyld/documentloader/requests.py\u001b[0m in \u001b[0;36mloader\u001b[0;34m(url, options)\u001b[0m\n\u001b[1;32m     99\u001b[0m         \u001b[0;32mexcept\u001b[0m \u001b[0mException\u001b[0m \u001b[0;32mas\u001b[0m \u001b[0mcause\u001b[0m\u001b[0;34m:\u001b[0m\u001b[0;34m\u001b[0m\u001b[0;34m\u001b[0m\u001b[0m\n\u001b[0;32m--> 100\u001b[0;31m             raise JsonLdError(\n\u001b[0m\u001b[1;32m    101\u001b[0m                 \u001b[0;34m'Could not retrieve a JSON-LD document from the URL.'\u001b[0m\u001b[0;34m,\u001b[0m\u001b[0;34m\u001b[0m\u001b[0;34m\u001b[0m\u001b[0m\n",
      "\u001b[0;31mJsonLdError\u001b[0m: ('Could not retrieve a JSON-LD document from the URL.',)\nType: jsonld.LoadDocumentError\nCode: loading document failed\nCause: Expecting value: line 2 column 1 (char 1)  File \"/opt/conda/lib/python3.9/site-packages/pyld/documentloader/requests.py\", line 72, in loader\n    'document': response.json()\n  File \"/opt/conda/lib/python3.9/site-packages/requests/models.py\", line 900, in json\n    return complexjson.loads(self.text, **kwargs)\n  File \"/opt/conda/lib/python3.9/json/__init__.py\", line 346, in loads\n    return _default_decoder.decode(s)\n  File \"/opt/conda/lib/python3.9/json/decoder.py\", line 337, in decode\n    obj, end = self.raw_decode(s, idx=_w(s, 0).end())\n  File \"/opt/conda/lib/python3.9/json/decoder.py\", line 355, in raw_decode\n    raise JSONDecodeError(\"Expecting value\", s, err.value) from None\n",
      "\nDuring handling of the above exception, another exception occurred:\n",
      "\u001b[0;31mJsonLdError\u001b[0m                               Traceback (most recent call last)",
      "\u001b[0;32m/opt/conda/lib/python3.9/site-packages/pyld/jsonld.py\u001b[0m in \u001b[0;36mcompact\u001b[0;34m(self, input_, ctx, options)\u001b[0m\n\u001b[1;32m    716\u001b[0m             \u001b[0;32mtry\u001b[0m\u001b[0;34m:\u001b[0m\u001b[0;34m\u001b[0m\u001b[0;34m\u001b[0m\u001b[0m\n\u001b[0;32m--> 717\u001b[0;31m                 \u001b[0mexpanded\u001b[0m \u001b[0;34m=\u001b[0m \u001b[0mself\u001b[0m\u001b[0;34m.\u001b[0m\u001b[0mexpand\u001b[0m\u001b[0;34m(\u001b[0m\u001b[0minput_\u001b[0m\u001b[0;34m,\u001b[0m \u001b[0moptions\u001b[0m\u001b[0;34m)\u001b[0m\u001b[0;34m\u001b[0m\u001b[0;34m\u001b[0m\u001b[0m\n\u001b[0m\u001b[1;32m    718\u001b[0m             \u001b[0;32mexcept\u001b[0m \u001b[0mJsonLdError\u001b[0m \u001b[0;32mas\u001b[0m \u001b[0mcause\u001b[0m\u001b[0;34m:\u001b[0m\u001b[0;34m\u001b[0m\u001b[0;34m\u001b[0m\u001b[0m\n",
      "\u001b[0;32m/opt/conda/lib/python3.9/site-packages/pyld/jsonld.py\u001b[0m in \u001b[0;36mexpand\u001b[0;34m(self, input_, options)\u001b[0m\n\u001b[1;32m    869\u001b[0m         \u001b[0;31m# do expansion\u001b[0m\u001b[0;34m\u001b[0m\u001b[0;34m\u001b[0m\u001b[0;34m\u001b[0m\u001b[0m\n\u001b[0;32m--> 870\u001b[0;31m         expanded = self._expand(active_ctx, None, document, options,\n\u001b[0m\u001b[1;32m    871\u001b[0m             inside_list=False)\n",
      "\u001b[0;32m/opt/conda/lib/python3.9/site-packages/pyld/jsonld.py\u001b[0m in \u001b[0;36m_expand\u001b[0;34m(self, active_ctx, active_property, element, options, inside_list, inside_index, type_scoped_ctx)\u001b[0m\n\u001b[1;32m   2301\u001b[0m         \u001b[0;32mif\u001b[0m \u001b[0;34m'@context'\u001b[0m \u001b[0;32min\u001b[0m \u001b[0melement\u001b[0m\u001b[0;34m:\u001b[0m\u001b[0;34m\u001b[0m\u001b[0;34m\u001b[0m\u001b[0m\n\u001b[0;32m-> 2302\u001b[0;31m             active_ctx = self._process_context(\n\u001b[0m\u001b[1;32m   2303\u001b[0m                 active_ctx, element['@context'], options)\n",
      "\u001b[0;32m/opt/conda/lib/python3.9/site-packages/pyld/jsonld.py\u001b[0m in \u001b[0;36m_process_context\u001b[0;34m(self, active_ctx, local_ctx, options, override_protected, propagate, validate_scoped, cycles)\u001b[0m\n\u001b[1;32m   3048\u001b[0m         \u001b[0;31m# resolve contexts\u001b[0m\u001b[0;34m\u001b[0m\u001b[0;34m\u001b[0m\u001b[0;34m\u001b[0m\u001b[0m\n\u001b[0;32m-> 3049\u001b[0;31m         \u001b[0mresolved\u001b[0m \u001b[0;34m=\u001b[0m \u001b[0moptions\u001b[0m\u001b[0;34m[\u001b[0m\u001b[0;34m'contextResolver'\u001b[0m\u001b[0;34m]\u001b[0m\u001b[0;34m.\u001b[0m\u001b[0mresolve\u001b[0m\u001b[0;34m(\u001b[0m\u001b[0mactive_ctx\u001b[0m\u001b[0;34m,\u001b[0m \u001b[0mlocal_ctx\u001b[0m\u001b[0;34m,\u001b[0m \u001b[0moptions\u001b[0m\u001b[0;34m.\u001b[0m\u001b[0mget\u001b[0m\u001b[0;34m(\u001b[0m\u001b[0;34m'base'\u001b[0m\u001b[0;34m,\u001b[0m \u001b[0;34m''\u001b[0m\u001b[0;34m)\u001b[0m\u001b[0;34m)\u001b[0m\u001b[0;34m\u001b[0m\u001b[0;34m\u001b[0m\u001b[0m\n\u001b[0m\u001b[1;32m   3050\u001b[0m \u001b[0;34m\u001b[0m\u001b[0m\n",
      "\u001b[0;32m/opt/conda/lib/python3.9/site-packages/pyld/context_resolver.py\u001b[0m in \u001b[0;36mresolve\u001b[0;34m(self, active_ctx, context, base, cycles)\u001b[0m\n\u001b[1;32m     57\u001b[0m                 \u001b[0;32mif\u001b[0m \u001b[0;32mnot\u001b[0m \u001b[0mresolved\u001b[0m\u001b[0;34m:\u001b[0m\u001b[0;34m\u001b[0m\u001b[0;34m\u001b[0m\u001b[0m\n\u001b[0;32m---> 58\u001b[0;31m                     resolved = self._resolve_remote_context(\n\u001b[0m\u001b[1;32m     59\u001b[0m                         active_ctx, ctx, base, cycles)\n",
      "\u001b[0;32m/opt/conda/lib/python3.9/site-packages/pyld/context_resolver.py\u001b[0m in \u001b[0;36m_resolve_remote_context\u001b[0;34m(self, active_ctx, url, base, cycles)\u001b[0m\n\u001b[1;32m    107\u001b[0m         \u001b[0murl\u001b[0m \u001b[0;34m=\u001b[0m \u001b[0mjsonld\u001b[0m\u001b[0;34m.\u001b[0m\u001b[0mprepend_base\u001b[0m\u001b[0;34m(\u001b[0m\u001b[0mbase\u001b[0m\u001b[0;34m,\u001b[0m \u001b[0murl\u001b[0m\u001b[0;34m)\u001b[0m\u001b[0;34m\u001b[0m\u001b[0;34m\u001b[0m\u001b[0m\n\u001b[0;32m--> 108\u001b[0;31m         \u001b[0mcontext\u001b[0m\u001b[0;34m,\u001b[0m \u001b[0mremote_doc\u001b[0m \u001b[0;34m=\u001b[0m \u001b[0mself\u001b[0m\u001b[0;34m.\u001b[0m\u001b[0m_fetch_context\u001b[0m\u001b[0;34m(\u001b[0m\u001b[0mactive_ctx\u001b[0m\u001b[0;34m,\u001b[0m \u001b[0murl\u001b[0m\u001b[0;34m,\u001b[0m \u001b[0mcycles\u001b[0m\u001b[0;34m)\u001b[0m\u001b[0;34m\u001b[0m\u001b[0;34m\u001b[0m\u001b[0m\n\u001b[0m\u001b[1;32m    109\u001b[0m \u001b[0;34m\u001b[0m\u001b[0m\n",
      "\u001b[0;32m/opt/conda/lib/python3.9/site-packages/pyld/context_resolver.py\u001b[0m in \u001b[0;36m_fetch_context\u001b[0;34m(self, active_ctx, url, cycles)\u001b[0m\n\u001b[1;32m    147\u001b[0m         \u001b[0;32mexcept\u001b[0m \u001b[0mException\u001b[0m \u001b[0;32mas\u001b[0m \u001b[0mcause\u001b[0m\u001b[0;34m:\u001b[0m\u001b[0;34m\u001b[0m\u001b[0;34m\u001b[0m\u001b[0m\n\u001b[0;32m--> 148\u001b[0;31m             raise jsonld.JsonLdError(\n\u001b[0m\u001b[1;32m    149\u001b[0m                 \u001b[0;34m'Dereferencing a URL did not result in a valid JSON-LD object. '\u001b[0m \u001b[0;34m+\u001b[0m\u001b[0;34m\u001b[0m\u001b[0;34m\u001b[0m\u001b[0m\n",
      "\u001b[0;31mJsonLdError\u001b[0m: ('Dereferencing a URL did not result in a valid JSON-LD object. Possible causes are an inaccessible URL perhaps due to a same-origin policy (ensure the server uses CORS if you are using client-side JavaScript), too many redirects, a non-JSON response, or more than one HTTP Link Header was provided for a remote context.',)\nType: jsonld.InvalidUrl\nCode: loading remote context failed\nDetails: {'url': 'https://schema.org', 'cause': JsonLdError('Could not retrieve a JSON-LD document from the URL.')}",
      "\nDuring handling of the above exception, another exception occurred:\n",
      "\u001b[0;31mJsonLdError\u001b[0m                               Traceback (most recent call last)",
      "\u001b[0;32m<ipython-input-8-f1ffbf346fbf>\u001b[0m in \u001b[0;36m<module>\u001b[0;34m\u001b[0m\n\u001b[1;32m     23\u001b[0m \u001b[0;31m# print(doc)\u001b[0m\u001b[0;34m\u001b[0m\u001b[0;34m\u001b[0m\u001b[0;34m\u001b[0m\u001b[0m\n\u001b[1;32m     24\u001b[0m \u001b[0;34m\u001b[0m\u001b[0m\n\u001b[0;32m---> 25\u001b[0;31m \u001b[0mcompacted\u001b[0m \u001b[0;34m=\u001b[0m \u001b[0mjsonld\u001b[0m\u001b[0;34m.\u001b[0m\u001b[0mcompact\u001b[0m\u001b[0;34m(\u001b[0m\u001b[0mdocurl\u001b[0m\u001b[0;34m,\u001b[0m \u001b[0mcontext\u001b[0m\u001b[0;34m)\u001b[0m\u001b[0;34m\u001b[0m\u001b[0;34m\u001b[0m\u001b[0m\n\u001b[0m\u001b[1;32m     26\u001b[0m \u001b[0;34m\u001b[0m\u001b[0m\n\u001b[1;32m     27\u001b[0m \u001b[0;31m# jd = json.dumps(compacted, indent=4)\u001b[0m\u001b[0;34m\u001b[0m\u001b[0;34m\u001b[0m\u001b[0;34m\u001b[0m\u001b[0m\n",
      "\u001b[0;32m/opt/conda/lib/python3.9/site-packages/pyld/jsonld.py\u001b[0m in \u001b[0;36mcompact\u001b[0;34m(input_, ctx, options)\u001b[0m\n\u001b[1;32m    140\u001b[0m     \u001b[0;34m:\u001b[0m\u001b[0;32mreturn\u001b[0m\u001b[0;34m:\u001b[0m \u001b[0mthe\u001b[0m \u001b[0mcompacted\u001b[0m \u001b[0mJSON\u001b[0m\u001b[0;34m-\u001b[0m\u001b[0mLD\u001b[0m \u001b[0moutput\u001b[0m\u001b[0;34m.\u001b[0m\u001b[0;34m\u001b[0m\u001b[0;34m\u001b[0m\u001b[0m\n\u001b[1;32m    141\u001b[0m     \"\"\"\n\u001b[0;32m--> 142\u001b[0;31m     \u001b[0;32mreturn\u001b[0m \u001b[0mJsonLdProcessor\u001b[0m\u001b[0;34m(\u001b[0m\u001b[0;34m)\u001b[0m\u001b[0;34m.\u001b[0m\u001b[0mcompact\u001b[0m\u001b[0;34m(\u001b[0m\u001b[0minput_\u001b[0m\u001b[0;34m,\u001b[0m \u001b[0mctx\u001b[0m\u001b[0;34m,\u001b[0m \u001b[0moptions\u001b[0m\u001b[0;34m)\u001b[0m\u001b[0;34m\u001b[0m\u001b[0;34m\u001b[0m\u001b[0m\n\u001b[0m\u001b[1;32m    143\u001b[0m \u001b[0;34m\u001b[0m\u001b[0m\n\u001b[1;32m    144\u001b[0m \u001b[0;34m\u001b[0m\u001b[0m\n",
      "\u001b[0;32m/opt/conda/lib/python3.9/site-packages/pyld/jsonld.py\u001b[0m in \u001b[0;36mcompact\u001b[0;34m(self, input_, ctx, options)\u001b[0m\n\u001b[1;32m    717\u001b[0m                 \u001b[0mexpanded\u001b[0m \u001b[0;34m=\u001b[0m \u001b[0mself\u001b[0m\u001b[0;34m.\u001b[0m\u001b[0mexpand\u001b[0m\u001b[0;34m(\u001b[0m\u001b[0minput_\u001b[0m\u001b[0;34m,\u001b[0m \u001b[0moptions\u001b[0m\u001b[0;34m)\u001b[0m\u001b[0;34m\u001b[0m\u001b[0;34m\u001b[0m\u001b[0m\n\u001b[1;32m    718\u001b[0m             \u001b[0;32mexcept\u001b[0m \u001b[0mJsonLdError\u001b[0m \u001b[0;32mas\u001b[0m \u001b[0mcause\u001b[0m\u001b[0;34m:\u001b[0m\u001b[0;34m\u001b[0m\u001b[0;34m\u001b[0m\u001b[0m\n\u001b[0;32m--> 719\u001b[0;31m                 raise JsonLdError(\n\u001b[0m\u001b[1;32m    720\u001b[0m                     \u001b[0;34m'Could not expand input before compaction.'\u001b[0m\u001b[0;34m,\u001b[0m\u001b[0;34m\u001b[0m\u001b[0;34m\u001b[0m\u001b[0m\n\u001b[1;32m    721\u001b[0m                     'jsonld.CompactError', cause=cause)\n",
      "\u001b[0;31mJsonLdError\u001b[0m: ('Could not expand input before compaction.',)\nType: jsonld.CompactError\nCause: ('Dereferencing a URL did not result in a valid JSON-LD object. Possible causes are an inaccessible URL perhaps due to a same-origin policy (ensure the server uses CORS if you are using client-side JavaScript), too many redirects, a non-JSON response, or more than one HTTP Link Header was provided for a remote context.',)\nType: jsonld.InvalidUrl\nCode: loading remote context failed\nDetails: {'url': 'https://schema.org', 'cause': JsonLdError('Could not retrieve a JSON-LD document from the URL.')}  File \"/opt/conda/lib/python3.9/site-packages/pyld/jsonld.py\", line 717, in compact\n    expanded = self.expand(input_, options)\n  File \"/opt/conda/lib/python3.9/site-packages/pyld/jsonld.py\", line 870, in expand\n    expanded = self._expand(active_ctx, None, document, options,\n  File \"/opt/conda/lib/python3.9/site-packages/pyld/jsonld.py\", line 2302, in _expand\n    active_ctx = self._process_context(\n  File \"/opt/conda/lib/python3.9/site-packages/pyld/jsonld.py\", line 3049, in _process_context\n    resolved = options['contextResolver'].resolve(active_ctx, local_ctx, options.get('base', ''))\n  File \"/opt/conda/lib/python3.9/site-packages/pyld/context_resolver.py\", line 58, in resolve\n    resolved = self._resolve_remote_context(\n  File \"/opt/conda/lib/python3.9/site-packages/pyld/context_resolver.py\", line 108, in _resolve_remote_context\n    context, remote_doc = self._fetch_context(active_ctx, url, cycles)\n  File \"/opt/conda/lib/python3.9/site-packages/pyld/context_resolver.py\", line 148, in _fetch_context\n    raise jsonld.JsonLdError(\n"
     ]
    }
   ],
   "source": [
    "import json\n",
    "from pyld import jsonld\n",
    "import os, sys\n",
    "\n",
    "currentdir = os.path.dirname(os.path.abspath(''))\n",
    "parentdir = os.path.dirname(currentdir)\n",
    "sys.path.insert(0, currentdir)\n",
    "from lib import jbutils\n",
    "\n",
    "docurl = \"http://dev.d9fsm.sprep.wod.by/dataset/151/jsonld\"\n",
    "\n",
    "# g = Graph().parse(\"http://dev.d9fsm.sprep.wod.by/dataset/151/jsonld\", format='json-ld')\n",
    "\n",
    "context = {\"schema\": \"https://schema.org/\", \n",
    "           \"rdf\": \"http://www.w3.org/1999/02/22-rdf-syntax-ns#\",\n",
    "           \"shacl\": \"http://www.w3.org/ns/shacl#\" ,\n",
    "           \"oihval\": \"https://oceans.collaborium.io/voc/validation/1.0.1/shacl#\" \n",
    "           }\n",
    "\n",
    "# sgjld = g.serialize(format='json-ld', context=context, indent=4)\n",
    "# doc = json.loads(\"http://dev.d9fsm.sprep.wod.by/dataset/151/jsonld\")\n",
    "\n",
    "# print(doc)\n",
    "\n",
    "compacted = jsonld.compact(docurl, context)\n",
    "\n",
    "# jd = json.dumps(compacted, indent=4)\n",
    "# print(jd)\n",
    "\n",
    "jbutils.show_graph(compacted)"
   ]
  },
  {
   "cell_type": "code",
   "execution_count": null,
   "id": "aec7dc77-94b7-4656-b7b3-997f6c41b0ce",
   "metadata": {},
   "outputs": [],
   "source": []
  }
 ],
 "metadata": {
  "kernelspec": {
   "display_name": "Python 3",
   "language": "python",
   "name": "python3"
  },
  "language_info": {
   "codemirror_mode": {
    "name": "ipython",
    "version": 3
   },
   "file_extension": ".py",
   "mimetype": "text/x-python",
   "name": "python",
   "nbconvert_exporter": "python",
   "pygments_lexer": "ipython3",
   "version": "3.9.2"
  }
 },
 "nbformat": 4,
 "nbformat_minor": 5
}
