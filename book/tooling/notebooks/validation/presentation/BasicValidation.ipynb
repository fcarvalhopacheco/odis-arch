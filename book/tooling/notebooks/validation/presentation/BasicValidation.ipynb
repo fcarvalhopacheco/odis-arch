{
 "cells": [
  {
   "cell_type": "markdown",
   "id": "db1a5098",
   "metadata": {
    "slideshow": {
     "slide_type": "slide"
    }
   },
   "source": [
    "# Basic Validating with SHACL\n",
    "\n",
    "## RDA 18: Metadata Working Group\n",
    "\n",
    "[Session page](https://www.rd-alliance.org/plenaries/rda-18th-plenary-meeting-virtual/recommendations-publishing-structure-metadata-web)\n",
    "\n",
    "\n",
    "[Slides](https://docs.google.com/presentation/d/1F9E1zyfhnniSQJv18RPdYCutKwSNKTzl6uml3zvDcOs/edit#slide=id.gd08e71dd0b_0_246)\n",
    "\n",
    "## Validation Breakout Group\n",
    "\n",
    "Authors:\n",
    "Adam Shepherd & Douglas Fils\n",
    "\n"
   ]
  },
  {
   "cell_type": "markdown",
   "id": "aec7fdb6",
   "metadata": {
    "slideshow": {
     "slide_type": "slide"
    }
   },
   "source": [
    "# Agenda for Session\n",
    "\n",
    "- Validation Personnas and  GO FAIR Implementation Network\n",
    "    - RDF Conceptal Model Basis\n",
    "    -  Role of Validation\n",
    "- What is the basic ecosystem we are working in?\n",
    "    - RDF as JSON-LD\n",
    "    - Web architectures (robots.txt, sitemaps.xml, HTML+JSON-LD, HTTP)\n",
    "    - A community (typically, though a single user exposing to the world is also fine)\t\n",
    "        - Here the logical \"world\" might be GDSS and general SEO more broadly\n",
    "- Why Validation?\n",
    "    - Align to guidance or principles  \n",
    "        - must be for a purpose like FAIR, or CARE, or regulator, etc) \n",
    "    - Align to application \n",
    "        - perhaps the more common or useful\n",
    "- How Validation\n",
    "    - SHACL (Shex)\n",
    "    - JSON Schema\n"
   ]
  },
  {
   "cell_type": "markdown",
   "id": "c0be4ebf",
   "metadata": {
    "slideshow": {
     "slide_type": "slide"
    }
   },
   "source": [
    "# Validation Personnas and  GO FAIR Implementation Network\n",
    "\n",
    "\n",
    "<div>\n",
    "<img src=\"DDI.png\"  width=\"400\"/>\n",
    "<div>\n",
    "\n",
    "- IMPLEMENT  clearly defined plans and deliverables to implement an element of the Internet of FAIR Data and Services (IFDS) within a defined time period; ",
    "\n",
    "\n",
    "- FOSTER  a community of harmonized FAIR practices; ",
    "\n",
    "\n",
    "- COMMUNICATE  together on critical issues on which consensus has been reached and which are of generic importance for the community.\n"
   ]
  },
  {
   "cell_type": "markdown",
   "id": "8bed1bf6",
   "metadata": {
    "slideshow": {
     "slide_type": "subslide"
    }
   },
   "source": [
    "## RDF Conceptal Model Basis\n",
    "\n",
    "A brief tour of RDF conceptual mode and JSON-LD context"
   ]
  },
  {
   "cell_type": "markdown",
   "id": "ce074ea4",
   "metadata": {
    "slideshow": {
     "slide_type": "subslide"
    }
   },
   "source": [
    "## Role of Validation\n",
    "\n",
    "why do this..   how does it affect the personnas "
   ]
  },
  {
   "cell_type": "markdown",
   "id": "b2fedf07",
   "metadata": {
    "slideshow": {
     "slide_type": "slide"
    }
   },
   "source": [
    "# Validation Options\n",
    "\n",
    "- JSON Schema\n",
    "- ShEx\n",
    "- SHACL\n",
    "- Others (like Cuelang)\n",
    "\n",
    "## Why SHACL?\n",
    "\n",
    "SHACL is on a W3C recommendation track while ShEx is a community project.  SHACL has also shown wider adoption in the JSON-LD and broader structured data on the web community including Solid. \n"
   ]
  },
  {
   "cell_type": "markdown",
   "id": "293b9e16",
   "metadata": {
    "slideshow": {
     "slide_type": "subslide"
    }
   },
   "source": [
    "## A brief aside on JSON-LD Structure Validation\n",
    "\n",
    "### Validate the structure of the JSON-LD data graph\n",
    "\n",
    "These test that your document is well formed but not necessarily valid against a vocabulary or profile / guidance.\n",
    "\n",
    "* [JSON-LD Playground](https://json-ld.org/playground/)\n",
    "* [Structured data Linter](http://linter.structured-data.org/)\n",
    "\n",
    "\n",
    "### Validates against Schema.org usage\n",
    "\n",
    "This includes things like domain and range issues and predicate and type terms.\n",
    "\n",
    "* [SDO Validator](https://validator.schema.org/)\n"
   ]
  },
  {
   "cell_type": "markdown",
   "id": "91a73722",
   "metadata": {
    "slideshow": {
     "slide_type": "subslide"
    }
   },
   "source": [
    "## SHACL Resources\n",
    "\n",
    "- [W3C Shacl](https://www.w3.org/TR/shacl/)  \n",
    "- [Editors Draft](https://w3c.github.io/data-shapes/shacl/)\n",
    "- [Implementation Report](https://w3c.github.io/data-shapes/data-shapes-test-suite/)\n",
    "\n",
    "You can try SHACL at the [SHACL Playground](https://shacl.org/playground/)\n"
   ]
  },
  {
   "cell_type": "markdown",
   "id": "70654a7e",
   "metadata": {
    "slideshow": {
     "slide_type": "slide"
    }
   },
   "source": [
    "# Some example SHACL Shapes\n",
    "\n",
    "Some examples of SHACL shape graph demonstrating some various aspects"
   ]
  },
  {
   "cell_type": "markdown",
   "id": "738aed8b",
   "metadata": {
    "slideshow": {
     "slide_type": "subslide"
    }
   },
   "source": [
    "## A quick example\n",
    "\n",
    "### Example from SHACL Playground\n",
    "\n",
    "\n",
    "\n",
    "``` \n",
    "@prefix dash: <http://datashapes.org/dash#> .\n",
    "@prefix rdf: <http://www.w3.org/1999/02/22-rdf-syntax-ns#> .\n",
    "@prefix rdfs: <http://www.w3.org/2000/01/rdf-schema#> .\n",
    "@prefix schema: <http://schema.org/> .\n",
    "@prefix sh: <http://www.w3.org/ns/shacl#> .\n",
    "@prefix xsd: <http://www.w3.org/2001/XMLSchema#> .\n",
    "\n",
    "schema:PersonShape\n",
    "    a sh:NodeShape ;\n",
    "    sh:targetClass schema:Person ;\n",
    "    sh:property [\n",
    "        sh:path schema:givenName ;\n",
    "        sh:datatype xsd:string ;\n",
    "        sh:name \"given name\" ;\n",
    "    ] ;\n",
    "    sh:property [\n",
    "        sh:path schema:birthDate ;\n",
    "        sh:lessThan schema:deathDate ;\n",
    "        sh:maxCount 1 ;\n",
    "    ] ;\n",
    "    sh:property [\n",
    "        sh:path schema:gender ;\n",
    "        sh:in ( \"female\" \"male\" ) ;\n",
    "    ] ;\n",
    "    sh:property [\n",
    "        sh:path schema:address ;\n",
    "        sh:node schema:AddressShape ;\n",
    "    ] .\n",
    "\n",
    "schema:AddressShape\n",
    "    a sh:NodeShape ;\n",
    "    sh:closed true ;\n",
    "    sh:property [\n",
    "        sh:path schema:streetAddress ;\n",
    "        sh:datatype xsd:string ;\n",
    "    ] ;\n",
    "    sh:property [\n",
    "        sh:path schema:postalCode ;\n",
    "        sh:or ( [ sh:datatype xsd:string ] [ sh:datatype xsd:integer ] ) ;\n",
    "        sh:minInclusive 10000 ;\n",
    "        sh:maxInclusive 99999 ;\n",
    "    ] .\n",
    "```"
   ]
  },
  {
   "cell_type": "markdown",
   "id": "2a7334da",
   "metadata": {
    "slideshow": {
     "slide_type": "subslide"
    }
   },
   "source": [
    "## Severity\n",
    "\n",
    "A brief note on severity levels.  SHACL defines [three levels of severity](https://www.w3.org/TR/shacl/#severity).\n",
    "\n",
    "| Severity     | Description                                                            |\n",
    "|--------------|------------------------------------------------------------------------|\n",
    "| sh:Info      | A non-critical constraint violation indicating an informative message. |\n",
    "| sh:Warning   | A non-critical constraint violation indicating a warning.              |\n",
    "| sh:Violation | A constraint violation.                                                |\n",
    "\n"
   ]
  },
  {
   "cell_type": "markdown",
   "id": "dc42bf2c",
   "metadata": {
    "slideshow": {
     "slide_type": "subslide"
    }
   },
   "source": [
    "## Tooling\n",
    "\n",
    "pySHACL exmaples"
   ]
  },
  {
   "cell_type": "markdown",
   "id": "8f1d20ec",
   "metadata": {
    "slideshow": {
     "slide_type": "slide"
    }
   },
   "source": [
    "# Linkes to the OIH Notebooks for demonstration\n",
    "\n",
    "## Examples of using pySHACL \n",
    "\n",
    "[Basic SHACL](https://book.oceaninfohub.org/tooling/notebooks/validation/OIH_Simple_SHACL.html)\n",
    "\n",
    "\n",
    "[S3 Objectstore and SHACL](https://book.oceaninfohub.org/tooling/notebooks/validation/OIH_SHACL.html)"
   ]
  },
  {
   "cell_type": "markdown",
   "id": "58058ab8",
   "metadata": {
    "slideshow": {
     "slide_type": "slide"
    }
   },
   "source": [
    "# Thanks\n"
   ]
  },
  {
   "cell_type": "markdown",
   "id": "8b1ffe60",
   "metadata": {
    "slideshow": {
     "slide_type": "notes"
    }
   },
   "source": [
    "# Alternative agenda with wider topic set:\n",
    "\n",
    "- Structured Data on the web patterns\n",
    "    - RDF foundation and JSON-LD serialization https://www.w3.org/Talks/2021/09-19-ddi-cdi/ \n",
    "    - Basics of Vocabulary based Metadata\n",
    "    - Basics of the implemented architecture\n",
    "- Athoring \n",
    "    - JSON-LD documents:\n",
    "    - What do they look like\n",
    "    - Compared to JSON\n",
    "- Tooling you can try:\n",
    "    - JSON-LD playground\n",
    "    - SHACL playground\n",
    "    - Schema.org validator\n",
    "    - JSON-LD linter\n",
    "    - Python (and hence others)\n",
    "- Publishing\n",
    "    - Robots.txt and sitemaps\n",
    "    - Framework driven\n",
    "- Validation\n",
    "    - SHACL\n",
    "- Indexing\n",
    "    - Gleaner\n"
   ]
  },
  {
   "cell_type": "code",
   "execution_count": null,
   "id": "e78a4f72",
   "metadata": {},
   "outputs": [],
   "source": []
  }
 ],
 "metadata": {
  "celltoolbar": "Slideshow",
  "kernelspec": {
   "display_name": "Python [conda env:.conda-kglab] *",
   "language": "python",
   "name": "conda-env-.conda-kglab-py"
  },
  "language_info": {
   "codemirror_mode": {
    "name": "ipython",
    "version": 3
   },
   "file_extension": ".py",
   "mimetype": "text/x-python",
   "name": "python",
   "nbconvert_exporter": "python",
   "pygments_lexer": "ipython3",
   "version": "3.8.10"
  }
 },
 "nbformat": 4,
 "nbformat_minor": 5
}
