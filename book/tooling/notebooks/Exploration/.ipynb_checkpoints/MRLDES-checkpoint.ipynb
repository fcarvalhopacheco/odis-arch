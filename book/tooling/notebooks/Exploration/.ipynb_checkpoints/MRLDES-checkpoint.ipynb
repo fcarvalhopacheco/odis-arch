{
 "cells": [
  {
   "cell_type": "markdown",
   "id": "424e45bd-f81e-4203-8e41-cc108b84eb0a",
   "metadata": {},
   "source": [
    "# Marine Regions and LDES\n",
    "\n",
    "https://www.marineregions.org/gazetteer.php?p=webservices"
   ]
  },
  {
   "cell_type": "code",
   "execution_count": null,
   "id": "a7524a5e-248b-4eb5-8a1b-fdf1b8f38d18",
   "metadata": {},
   "outputs": [],
   "source": []
  }
 ],
 "metadata": {
  "kernelspec": {
   "display_name": "Python 3 (ipykernel)",
   "language": "python",
   "name": "python3"
  },
  "language_info": {
   "codemirror_mode": {
    "name": "ipython",
    "version": 3
   },
   "file_extension": ".py",
   "mimetype": "text/x-python",
   "name": "python",
   "nbconvert_exporter": "python",
   "pygments_lexer": "ipython3",
   "version": "3.9.6"
  }
 },
 "nbformat": 4,
 "nbformat_minor": 5
}
