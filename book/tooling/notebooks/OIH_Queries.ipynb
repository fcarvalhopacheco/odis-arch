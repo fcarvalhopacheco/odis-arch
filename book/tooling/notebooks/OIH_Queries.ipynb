{
 "cells": [
  {
   "cell_type": "markdown",
   "id": "level-delivery",
   "metadata": {},
   "source": [
    "# OIH Queries \n"
   ]
  },
  {
   "cell_type": "code",
   "execution_count": 9,
   "id": "scenic-findings",
   "metadata": {},
   "outputs": [
    {
     "data": {
      "text/plain": [
       "<Graph identifier=N1bd41c55297e4e5fa4d8197321449083 (<class 'rdflib.graph.Graph'>)>"
      ]
     },
     "execution_count": 9,
     "metadata": {},
     "output_type": "execute_result"
    }
   ],
   "source": [
    "import rdflib\n",
    "import gzip\n",
    "\n",
    "with gzip.open('./oceanexperts_graph.nq.gz', 'rb') as f:\n",
    "    file_content = f.read()\n",
    "\n",
    "g = rdflib.Graph()\n",
    "g.parse(data = file_content, format=\"nquads\")\n",
    "\n"
   ]
  },
  {
   "cell_type": "code",
   "execution_count": 10,
   "id": "reported-pressing",
   "metadata": {},
   "outputs": [
    {
     "name": "stdout",
     "output_type": "stream",
     "text": [
      "Nada751c262da4aaea74ecfeecb456ff9 Course Name: Field training course &quot;Flysch domain of the NW Rif belt, Morocco&quot;\n",
      "N81febf0e07924f1d8ee16504e143c0d5 Course Name: INVEMAR: Carbono Azul y adaptación basada en ecosistemas: rol de humedales marinos y estuarinos frente a Cambio Climatico (énfasis manglares y pastos marinos)\n",
      "N5a559f8fd2ad42149a19a42bc75d2347 Course Name: Educating about the Ocean: Waves of change\n",
      "N31b29ddb10b449a48080c6ae87d4d57f Course Name: GLOSS Training Course for Operators of Sea Level Stations\n",
      "N6d041d9804164a7e9f1cc376e7dc7a98 Course Name: Final ODINAFRICA II Training Course in Marine Data Management\n",
      "Nc54856a9d710405b801bdc5b47d8809f Course Name: II Baltic Floating University Cruise, 1994\n",
      "N3c5f54e7273a4aeda1a83f0e0aab24eb Course Name: OTGA/INOS/UMT Training Course: Marine GIS Applications for Coastal Zone Management\n",
      "Ndcc18d7d7ca64bf683761d561bd677e5 Course Name: ITIC TRAINING PROGRAMME - INTERNATIONAL (ITP-INTL) TSUNAMI EVACUATION MAPS, PLANS AND PROCEDURES (TEMPP): TEMPP 1: INUNDATION MODELING AND MAPPING\n",
      "N4132ad71d726482a9d9c946edd908142 Course Name: ITP-Fiji: Training on Improving Tsunami Warning and Response using PTWS Enhanced Products\n",
      "N59848a16a75645989193b25f48b36ad0 Course Name: OTGA/MAPCO/INVEMAR Training Course: Áreas Marinas Protegidas (MPAs)\n"
     ]
    }
   ],
   "source": [
    "qres = g.query(\n",
    "    \"\"\"prefix schema: <https://schema.org/>\n",
    "    SELECT DISTINCT ?s ?name\n",
    "       WHERE {\n",
    "          ?s a schema:Course .\n",
    "          ?s schema:name ?name\n",
    "       }\n",
    "       LIMIT 10\"\"\")\n",
    "\n",
    "for row in qres:\n",
    "    print(\"%s Course Name: %s\" % row)"
   ]
  },
  {
   "cell_type": "markdown",
   "id": "23a48b78-7a8b-4665-8b81-680265822aa0",
   "metadata": {},
   "source": [
    "## Oceans UI test query"
   ]
  },
  {
   "cell_type": "code",
   "execution_count": 11,
   "id": "interracial-supplier",
   "metadata": {},
   "outputs": [],
   "source": [
    "defaultrq = \"\"\"prefix prov: <http://www.w3.org/ns/prov#>\n",
    "        PREFIX con: <http://www.ontotext.com/connectors/lucene#>\n",
    "        PREFIX luc: <http://www.ontotext.com/owlim/lucene#>\n",
    "        PREFIX con-inst: <http://www.ontotext.com/connectors/lucene/instance#>\n",
    "        PREFIX rdfs: <http://www.w3.org/2000/01/rdf-schema#>\n",
    "        PREFIX schema: <https://schema.org/>\n",
    "        PREFIX schemaold: <http://schema.org/>\n",
    "        PREFIX rdf: <http://www.w3.org/1999/02/22-rdf-syntax-ns#>\n",
    "\n",
    "        SELECT DISTINCT ?g  ?s  ?wat ?orgname ?domain ?type ?score ?name ?url ?lit ?description ?headline\n",
    "        WHERE\n",
    "        {\n",
    "\n",
    "           ?lit bds:search \"coral\" .\n",
    "           ?lit bds:matchAllTerms \"false\" .\n",
    "           ?lit bds:relevance ?score .\n",
    "           graph ?g {\n",
    "            ?s ?p ?lit .\n",
    "            ?s rdf:type ?type . \n",
    "            OPTIONAL { ?s schema:name ?name .   }\n",
    "            OPTIONAL { ?s schema:headline ?headline .   }\n",
    "            OPTIONAL { ?s schema:url ?url .   }\n",
    "            OPTIONAL { ?s schema:description ?description .    }\n",
    "          }\n",
    "           ?sp prov:generated ?g  .\n",
    "           ?sp prov:used ?used .\n",
    "           ?used prov:hadMember ?hm .\n",
    "           ?hm prov:wasAttributedTo ?wat .\n",
    "           ?wat rdf:name ?orgname .\n",
    "           ?wat rdfs:seeAlso ?domain\n",
    "\n",
    "\n",
    "        }\n",
    "        ORDER BY DESC(?score)\n",
    "        LIMIT 30\n",
    "        OFFSET 0\n",
    "        \"\"\""
   ]
  },
  {
   "cell_type": "markdown",
   "id": "363a4540-c289-454f-9803-0d456a286f80",
   "metadata": {},
   "source": [
    "## AquaDocs Alignment Test Query"
   ]
  },
  {
   "cell_type": "code",
   "execution_count": 12,
   "id": "694992b7-244c-4688-bc77-007312d93c98",
   "metadata": {},
   "outputs": [],
   "source": [
    "adrq = \"\"\"prefix prov: <http://www.w3.org/ns/prov#>\n",
    "        PREFIX con: <http://www.ontotext.com/connectors/lucene#>\n",
    "        PREFIX luc: <http://www.ontotext.com/owlim/lucene#>\n",
    "        PREFIX con-inst: <http://www.ontotext.com/connectors/lucene/instance#>\n",
    "        PREFIX rdfs: <http://www.w3.org/2000/01/rdf-schema#>\n",
    "        PREFIX schema: <https://schema.org/>\n",
    "        PREFIX schemaold: <http://schema.org/>\n",
    "        PREFIX rdf: <http://www.w3.org/1999/02/22-rdf-syntax-ns#>\n",
    "\n",
    "        SELECT DISTINCT ?g  ?s  ?wat ?orgname ?domain ?type ?score ?name ?url ?lit ?description ?headline\n",
    "        WHERE\n",
    "        {\n",
    "\n",
    "           ?lit bds:search \"coral reef\" .\n",
    "           ?lit bds:matchAllTerms \"false\" .\n",
    "           ?lit bds:relevance ?score .\n",
    "           ?s ?p ?lit .\n",
    "\n",
    "           graph ?g {\n",
    "            ?s ?p ?lit .\n",
    "            ?s rdf:type ?type . \n",
    "            OPTIONAL { ?s schema:name ?name .   }\n",
    "            OPTIONAL { ?s schema:headline ?headline .   }\n",
    "            OPTIONAL { ?s schema:url ?url .   }\n",
    "            OPTIONAL { ?s schema:description ?description .    }\n",
    "          }\n",
    "     \n",
    "\n",
    "\n",
    "        }\n",
    "        ORDER BY DESC(?score)\n",
    "        LIMIT 30\n",
    "        OFFSET 0\n",
    "        \"\"\""
   ]
  },
  {
   "cell_type": "code",
   "execution_count": null,
   "id": "ef15b0ab-3636-4084-80dc-25a78f4f2e31",
   "metadata": {},
   "outputs": [],
   "source": []
  }
 ],
 "metadata": {
  "kernelspec": {
   "display_name": "Python 3",
   "language": "python",
   "name": "python3"
  },
  "language_info": {
   "codemirror_mode": {
    "name": "ipython",
    "version": 3
   },
   "file_extension": ".py",
   "mimetype": "text/x-python",
   "name": "python",
   "nbconvert_exporter": "python",
   "pygments_lexer": "ipython3",
   "version": "3.9.2"
  }
 },
 "nbformat": 4,
 "nbformat_minor": 5
}
