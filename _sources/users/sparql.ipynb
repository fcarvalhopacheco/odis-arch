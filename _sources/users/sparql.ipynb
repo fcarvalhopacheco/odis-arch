{
 "cells": [
  {
   "cell_type": "markdown",
   "id": "799066fc",
   "metadata": {},
   "source": [
    "# Querying SPARQL\n",
    "\n",
    "## About\n",
    "\n",
    "This page will hold some information about the SPARQL queries we use and \n",
    "how they connect with some of the profile guidance in this document.    We will\n",
    "show how this relates to and depends on the Gleaner prov as well as the \n",
    "Authoritative Reference elements of the patterns.  It is expected that the Gleaner \n",
    "prov will be present, though this can be made optional in case other \n",
    "indexing systems are used that do not provide this prov shape.    The SPARQL will \n",
    "be looking for both Gleaner prov and the Authroitative Reference elements. \n",
    "\n",
    "This will be different for different patterns.  For example, it might \n",
    "relate to the publisher provider elements for Creativeworks, but to \n",
    "the identity element for People and Organizations. \n",
    "\n",
    "Also here will be a SHACL shape to help validate a record as fit\n",
    "for use with the query.  It will provide guidance on what is optional and \n",
    "and is required. \n",
    "\n",
    "```{literalinclude} ./graphs/basic.rq\n",
    ":linenos:\n",
    "\n",
    "```"
   ]
  }
 ],
 "metadata": {
  "execution": {
   "allow_errors": true
  },
  "jupytext": {
   "formats": "md:myst",
   "text_representation": {
    "extension": ".md",
    "format_name": "myst"
   }
  },
  "kernelspec": {
   "display_name": "Python 3",
   "language": "python",
   "name": "python3"
  },
  "language_info": {
   "codemirror_mode": {
    "name": "ipython",
    "version": 3
   },
   "file_extension": ".py",
   "mimetype": "text/x-python",
   "name": "python",
   "nbconvert_exporter": "python",
   "pygments_lexer": "ipython3",
   "version": "3.7.11"
  },
  "source_map": [
   13
  ]
 },
 "nbformat": 4,
 "nbformat_minor": 5
}