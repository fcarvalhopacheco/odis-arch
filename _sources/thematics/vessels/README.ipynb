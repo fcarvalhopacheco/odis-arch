{
 "cells": [
  {
   "cell_type": "markdown",
   "id": "b854c5f2",
   "metadata": {},
   "source": [
    "# Vessels\n",
    "\n",
    "## About\n",
    "\n",
    "Exploring using schema.org to describe research vessels.  Note that schema.org\n",
    "is a very broad vocabulary and as such specific concepts like research vessel is\n",
    "not well aligned.\n",
    "\n",
    "One approach we can use, however, is to leverage schema.org a a discovery layer\n",
    "and link more directly to detailed institutional metadata records.  \n",
    "\n",
    "\n",
    "```{literalinclude} ./graphs/ship.json\n",
    ":linenos:\n",
    "```\n",
    "\n",
    "\n",
    "\n",
    "![Doc Guidance image](./graphs/ship.svg)\n",
    "\n",
    "## References\n",
    "\n",
    "* [ICES](https://ocean.ices.dk/codes/ShipCodes.aspx)\n",
    "* POGO\n",
    "* EurOcean\n",
    "* https://vocab.nerc.ac.uk/search_nvs/C17/\n",
    "* [SeaDataNet](https://www.seadatanet.org/)\n",
    "* [Marine Facilities Planner](https://www.marinefacilitiesplanning.com/)\n",
    "* [EuroFleets](https://www.eurofleets.eu/)\n",
    "* Identifiers to use include NOCD Code, Call Sign, ICES Shipcode, MMSI Code, IMO Code"
   ]
  },
  {
   "cell_type": "code",
   "execution_count": null,
   "id": "be9ae977",
   "metadata": {
    "tags": [
     "hide-input"
    ]
   },
   "outputs": [],
   "source": [
    "import json\n",
    "import pyld\n",
    "import os\n",
    "import requests\n",
    "\n",
    "SO_CONTEXT = {\n",
    "    \"http://schema.org\": \"jsonldcontext.jsonld\",\n",
    "    \"http://schema.org/\": \"jsonldcontext.jsonld\",\n",
    "    \"https://schema.org\": \"jsonldcontext.jsonld\",\n",
    "    \"https://schema.org/\": \"jsonldcontext.jsonld\",\n",
    "}\n",
    "\n",
    "if not os.path.exists(\"jsonldcontext.jsonld\"):\n",
    "    with open(\"jsonldcontext.jsonld\", \"w\") as outf:\n",
    "        outf.write(requests.get(\"https://schema.org/docs/jsonldcontext.jsonld\").text)\n",
    "\n",
    "def localDocumentLoader(context_map={}):\n",
    "\n",
    "    def localDocumentLoaderImpl(url, options={}):\n",
    "        _url = url.lower().strip()\n",
    "        doc = context_map.get(_url, None)\n",
    "        if not doc is None:\n",
    "            res = {\n",
    "                \"contextUrl\": None,\n",
    "                \"documentUrl\": \"https://schema.org/docs/jsonldcontext.jsonld\",\n",
    "                \"contentType\": \"application/ld+json\",\n",
    "                \"document\": json.load(open(doc, \"r\")),\n",
    "            }\n",
    "            return res\n",
    "        loader = pyld.jsonld.requests_document_loader()\n",
    "        return loader(url)\n",
    "    \n",
    "    return localDocumentLoaderImpl\n",
    "    \n",
    "\n",
    "with open(\"test1.jsonld\") as inf:\n",
    "    doc = json.load(inf)\n",
    "options = {\"documentLoader\": localDocumentLoader(context_map=SO_CONTEXT)}\n",
    "expanded = pyld.jsonld.expand(doc, options)\n",
    "print(json.dumps(expanded, indent=2))"
   ]
  }
 ],
 "metadata": {
  "execution": {
   "allow_errors": true
  },
  "jupytext": {
   "formats": "md:myst",
   "text_representation": {
    "extension": ".md",
    "format_name": "myst"
   }
  },
  "kernelspec": {
   "display_name": "Python 3",
   "language": "python",
   "name": "python3"
  },
  "source_map": [
   13,
   46
  ]
 },
 "nbformat": 4,
 "nbformat_minor": 5
}