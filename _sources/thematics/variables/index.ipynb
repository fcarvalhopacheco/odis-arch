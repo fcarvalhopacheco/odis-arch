{
 "cells": [
  {
   "cell_type": "markdown",
   "id": "88a7126c",
   "metadata": {},
   "source": [
    "# Variables\n",
    "\n",
    "\n",
    "## References:\n",
    "\n",
    "* [GOOS reference](https://www.goosocean.org/index.php?option=com_content&view=article&layout=edit&id=283&Itemid=441)\n",
    "* [Goos example spec sheet](https://www.goosocean.org/index.php?option=com_oe&task=viewDocumentRecord&docID=17465) and \n",
    "   \n",
    "* [Dublin core record to map](https://repository.oceanbestpractices.org/handle/11329/1920?show=full) for different, but related, work.\n",
    "\n",
    "\n",
    "[OBIS examples](https://manual.obis.org/examples/)\n",
    "\n",
    "Reference image:\n",
    "![notes image](./eov.png)\n",
    "\n",
    "\n",
    "```{literalinclude} ./graphs/obisData2.json\n",
    ":linenos:\n",
    "```\n",
    "\n",
    "## measurementTechnique\n",
    "\n",
    "## publishingPrinciples\n",
    "\n",
    "## variableMeasured\n",
    "\n",
    "## about\n",
    "\n",
    "## spatialCoverage\n",
    "\n",
    "## temporalCoverage\n",
    "\n",
    "\n",
    "\n",
    "\n",
    "\n",
    "```{literalinclude} ./graphs/temporalCoverage.json\n",
    ":linenos:\n",
    "```\n",
    "\n",
    "\n",
    "\n",
    "\n",
    "Example from Science on Schema recommendations:\n",
    "```json\n",
    "{\n",
    "  \"@context\": {\n",
    "    \"@vocab\": \"https://schema.org/\"\n",
    "    \"gsn-quantity\": \"http://www.geoscienceontology.org/geo-lower/quantity#\"\n",
    "  },\n",
    "  \"@type\": \"Dataset\",\n",
    "  \"name\": \"Removal of organic carbon by natural bacterioplankton communities as a function of pCO2 from laboratory experiments between 2012 and 2016\",\n",
    "  \"variableMeasured\": [\n",
    "    {\n",
    "      \"@type\": \"PropertyValue\",\n",
    "      \"name\": \"latitude\",\n",
    "      \"propertyID\":\"http://www.geoscienceontology.org/geo-lower/quantity#latitude\",\n",
    "      \"url\": \"https://www.sample-data-repository.org/dataset-parameter/665787\",\n",
    "      \"description\": \"Latitude where water samples were collected; north is positive.\",\n",
    "      \"unitText\": \"decimal degrees\",\n",
    "      \"minValue\": \"45.0\",\n",
    "      \"maxValue\": \"15.0\"\n",
    "    },\n",
    "  ]\n",
    "}\n",
    "```\n",
    "\n",
    "via [valueReference](https://schema.org/valueReference) we can get to Defined Term  (EVO)\n",
    "\n",
    "Defined Term  (not scoped in variableMeasured valid types)\n",
    "```json\n",
    "{\n",
    "    \"@id\": \"http://purl.org/dc/dcmitype/Image\",\n",
    "    \"@type\": \"DefinedTerm\",\n",
    "    \"inDefinedTermSet\": \"http://purl.org/dc/terms/DCMIType\",\n",
    "    \"termCode\": \"Image\",\n",
    "    \"name\": \"Image\"\n",
    "},\n",
    "```"
   ]
  }
 ],
 "metadata": {
  "execution": {
   "allow_errors": true
  },
  "jupytext": {
   "formats": "md:myst",
   "text_representation": {
    "extension": ".md",
    "format_name": "myst"
   }
  },
  "kernelspec": {
   "display_name": "Python 3",
   "language": "python",
   "name": "python3"
  },
  "language_info": {
   "codemirror_mode": {
    "name": "ipython",
    "version": 3
   },
   "file_extension": ".py",
   "mimetype": "text/x-python",
   "name": "python",
   "nbconvert_exporter": "python",
   "pygments_lexer": "ipython3",
   "version": "3.7.13"
  },
  "source_map": [
   13
  ]
 },
 "nbformat": 4,
 "nbformat_minor": 5
}