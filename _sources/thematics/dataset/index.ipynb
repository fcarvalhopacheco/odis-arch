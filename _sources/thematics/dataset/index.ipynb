{
 "cells": [
  {
   "cell_type": "markdown",
   "id": "633b6fc3",
   "metadata": {},
   "source": [
    "# Datasets\n",
    "\n",
    "## About\n",
    "\n",
    "Datasets\n",
    "\n",
    "```{seealso}\n",
    "For OIH the focus is on generic documents which can scope reports, data and other resources.\n",
    "In those cases where the resources being described are of type Dataset you may wish to review\n",
    "patterns developed for GeoScience Datasets by the ESIP\n",
    "[Science on Schema](https://github.com/ESIPFed/science-on-schema.org/) community.\n",
    "\n",
    "```\n",
    "\n",
    "## Datasets\n",
    "\n",
    " Documents will include maps, reports,\n",
    "guidance and other creative works.  Due to this OIH will focus on a generic example\n",
    "of [schema.org/CreativeWork](https://schema.org/CreativeWork) and then provide examples\n",
    "for more focused creative work examples.\n",
    "\n",
    "\n",
    "```{literalinclude} ./graphs/obisData.json\n",
    ":linenos:\n",
    "```"
   ]
  }
 ],
 "metadata": {
  "execution": {
   "allow_errors": true
  },
  "jupytext": {
   "formats": "md:myst",
   "text_representation": {
    "extension": ".md",
    "format_name": "myst"
   }
  },
  "kernelspec": {
   "display_name": "Python 3",
   "language": "python",
   "name": "python3"
  },
  "source_map": [
   13
  ]
 },
 "nbformat": 4,
 "nbformat_minor": 5
}