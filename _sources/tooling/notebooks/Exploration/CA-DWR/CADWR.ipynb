{
 "cells": [
  {
   "cell_type": "markdown",
   "id": "3350b0f4-9c64-430e-b9b4-722895372c03",
   "metadata": {},
   "source": [
    "# California DWR sprint\n",
    "\n",
    "\n",
    "* https://earthref.org/GERM/metadata/papers/hellyetal2002.htm\n",
    "\n",
    "* https://ezid.cdlib.org/id/doi:10.4246/CA-DWR-GROUNDWATER-LEVELS_20171109_LEVEL0-MD5B8CA0D403FCE165F9E180CC73C648800.TAR\n",
    "* https://californiacoastalatlas.net/california-department-of-water-resources-water-balance-library\n",
    "* ftp://owia.sdsc.edu/Project-OWIA-Library-WaterBalance/CA-DWR-WaterBalance_20190505_CA-DWR-WaterBalance-2011-md5a3f47721f42c4f06075856218dd043ef.zip\n",
    "* https://ezid.cdlib.org/manage/display_xml/doi:10.4246/CA-DWR-GROUNDWATER-LEVELS_20171109_LEVEL0-MD5B8CA0D403FCE165F9E180CC73C648800.TAR\n",
    "* https://ezid.cdlib.org/manage/display_xml/doi:10.4246/CA-DWR-GROUNDWATER-LEVELS_20171109_LEVEL0-MD5B8CA0D403FCE165F9E180CC73C648800.TAR\n",
    "\n",
    "Next steps \n",
    "\n",
    "DF to look at MIF files; Will contact John as needed.\n",
    "JH and PLB / Doug to follow up on publishing tools\n"
   ]
  },
  {
   "cell_type": "code",
   "execution_count": null,
   "id": "a0fd5f29-c4e9-4ea2-958b-3184b5179976",
   "metadata": {},
   "outputs": [],
   "source": []
  }
 ],
 "metadata": {
  "kernelspec": {
   "display_name": "Python 3",
   "language": "python",
   "name": "python3"
  },
  "language_info": {
   "codemirror_mode": {
    "name": "ipython",
    "version": 3
   },
   "file_extension": ".py",
   "mimetype": "text/x-python",
   "name": "python",
   "nbconvert_exporter": "python",
   "pygments_lexer": "ipython3",
   "version": "3.9.2"
  }
 },
 "nbformat": 4,
 "nbformat_minor": 5
}
