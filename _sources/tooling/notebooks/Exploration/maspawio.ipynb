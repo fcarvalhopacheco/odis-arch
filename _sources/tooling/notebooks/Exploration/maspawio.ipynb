{
 "cells": [
  {
   "cell_type": "markdown",
   "source": [
    "# Maspawio\n",
    "\n",
    "## Dublin Core to Schema.org workflow testing\n",
    "\n",
    "An experiment to see if we can convert a Dublin Core record to Schema.org.  The focus will be on OIH type https://book.oceaninfohub.org/thematics/docs/README.html\n",
    "\n",
    "The source location is: https://maspawio.net/layers/geonode%3Alocally_managed_marine_areas_kenya \n",
    "\n",
    "Need to generate somethnig like documented at: https://book.oceaninfohub.org/thematics/docs/maps.html   We will need to add into this a sptial geometry to scope the bounding box.\n",
    "\n",
    "### refs\n",
    "\n",
    "* https://docs.google.com/spreadsheets/d/1OS_DPrPppxkWR7kU3vjRJaDSCq3XFn74/edit#gid=1139001206\n"
   ],
   "metadata": {}
  },
  {
   "cell_type": "code",
   "execution_count": 2,
   "source": [
    "import json\n",
    "from pyld import jsonld\n",
    "import os, sys, io\n",
    "import xml.etree.ElementTree as ET\n",
    "from urllib.request import urlopen\n",
    "import ssl\n",
    "import pandas as pd\n",
    "import kglab"
   ],
   "outputs": [
    {
     "output_type": "stream",
     "name": "stderr",
     "text": [
      "/home/fils/.conda/envs/kglab/lib/python3.8/site-packages/owlrl/__init__.py:177: UserWarning: Code: dateTimeStamp is not defined in namespace XSD\n",
      "  from . import DatatypeHandling, Closure\n",
      "/home/fils/.conda/envs/kglab/lib/python3.8/site-packages/owlrl/RDFSClosure.py:40: UserWarning: Code: dateTimeStamp is not defined in namespace XSD\n",
      "  from owlrl.AxiomaticTriples import RDFS_Axiomatic_Triples, RDFS_D_Axiomatic_Triples\n",
      "/home/fils/.conda/envs/kglab/lib/python3.8/site-packages/owlrl/RDFSClosure.py:40: UserWarning: Code: length is not defined in namespace XSD\n",
      "  from owlrl.AxiomaticTriples import RDFS_Axiomatic_Triples, RDFS_D_Axiomatic_Triples\n",
      "/home/fils/.conda/envs/kglab/lib/python3.8/site-packages/owlrl/RDFSClosure.py:40: UserWarning: Code: maxExclusive is not defined in namespace XSD\n",
      "  from owlrl.AxiomaticTriples import RDFS_Axiomatic_Triples, RDFS_D_Axiomatic_Triples\n",
      "/home/fils/.conda/envs/kglab/lib/python3.8/site-packages/owlrl/RDFSClosure.py:40: UserWarning: Code: maxInclusive is not defined in namespace XSD\n",
      "  from owlrl.AxiomaticTriples import RDFS_Axiomatic_Triples, RDFS_D_Axiomatic_Triples\n",
      "/home/fils/.conda/envs/kglab/lib/python3.8/site-packages/owlrl/RDFSClosure.py:40: UserWarning: Code: maxLength is not defined in namespace XSD\n",
      "  from owlrl.AxiomaticTriples import RDFS_Axiomatic_Triples, RDFS_D_Axiomatic_Triples\n",
      "/home/fils/.conda/envs/kglab/lib/python3.8/site-packages/owlrl/RDFSClosure.py:40: UserWarning: Code: minExclusive is not defined in namespace XSD\n",
      "  from owlrl.AxiomaticTriples import RDFS_Axiomatic_Triples, RDFS_D_Axiomatic_Triples\n",
      "/home/fils/.conda/envs/kglab/lib/python3.8/site-packages/owlrl/RDFSClosure.py:40: UserWarning: Code: minInclusive is not defined in namespace XSD\n",
      "  from owlrl.AxiomaticTriples import RDFS_Axiomatic_Triples, RDFS_D_Axiomatic_Triples\n",
      "/home/fils/.conda/envs/kglab/lib/python3.8/site-packages/owlrl/RDFSClosure.py:40: UserWarning: Code: minLength is not defined in namespace XSD\n",
      "  from owlrl.AxiomaticTriples import RDFS_Axiomatic_Triples, RDFS_D_Axiomatic_Triples\n",
      "/home/fils/.conda/envs/kglab/lib/python3.8/site-packages/owlrl/RDFSClosure.py:40: UserWarning: Code: pattern is not defined in namespace XSD\n",
      "  from owlrl.AxiomaticTriples import RDFS_Axiomatic_Triples, RDFS_D_Axiomatic_Triples\n",
      "/home/fils/.conda/envs/kglab/lib/python3.8/site-packages/owlrl/OWLRL.py:53: UserWarning: Code: dateTimeStamp is not defined in namespace XSD\n",
      "  from .XsdDatatypes import OWL_RL_Datatypes, OWL_Datatype_Subsumptions\n",
      "/home/fils/.conda/envs/kglab/lib/python3.8/site-packages/owlrl/OWLRLExtras.py:64: UserWarning: Code: dateTimeStamp is not defined in namespace XSD\n",
      "  from .RestrictedDatatype import extract_faceted_datatypes\n"
     ]
    }
   ],
   "metadata": {}
  },
  {
   "cell_type": "code",
   "execution_count": 3,
   "source": [
    "# Source Dubline core XML from net (https issue)\n",
    "# Groups do need to start to move to https over http.  However, when doing so, the issue of geting and installing the certificate\n",
    "# can be an impediment.  A popular group used by many is the Let's Encrypt group (https://letsencrypt.org/).  Reference their \n",
    "# documentation on CertBot (https://certbot.eff.org/)\n",
    "\n",
    "# fails on SSL, cert needs updated but we can ignore it for now.\n",
    "\n",
    "ctx = ssl.create_default_context()\n",
    "ctx.check_hostname = False\n",
    "ctx.verify_mode = ssl.CERT_NONE\n",
    "\n",
    "dcxml = \"https://maspawio.net/catalogue/csw?outputschema=http%3A%2F%2Fwww.opengis.net%2Fcat%2Fcsw%2F2.0.2&service=CSW&request=GetRecordById&version=2.0.2&elementsetname=full&id=3046b5fc-18e0-11eb-894f-0a735f7a740c\"\n",
    "with urlopen(dcxml, context=ctx) as f:\n",
    "    tree = ET.parse(f)\n",
    "    root = tree.getroot()\n",
    "    \n",
    "r = root.find('{http://www.opengis.net/cat/csw/2.0.2}Record')"
   ],
   "outputs": [],
   "metadata": {}
  },
  {
   "cell_type": "code",
   "execution_count": 4,
   "source": [
    "# Bypassing the issue of the https cert, use a local file downloaded by bypassing the warning. \n",
    "# tree = ET.parse('./data/dublin.xml')\n",
    "# root = tree.getroot()\n",
    "# print(root.tag)"
   ],
   "outputs": [],
   "metadata": {}
  },
  {
   "cell_type": "code",
   "execution_count": 5,
   "source": [
    "# Just a loop to inspect all the elements, normall commented out and not needed in final script\n",
    "# for element in r.findall('*'):\n",
    "#             print(\"{} :: {}\".format(element.tag, element.text))"
   ],
   "outputs": [],
   "metadata": {}
  },
  {
   "cell_type": "markdown",
   "source": [
    "# Type matching\n",
    "\n",
    "In this case we see the type as \"dataset\" so we can match this to schema.org/Dataset.  Other types would need special \n",
    "paths.  "
   ],
   "metadata": {}
  },
  {
   "cell_type": "code",
   "execution_count": 6,
   "source": [
    "# id\n",
    "id = r.find('{http://purl.org/dc/elements/1.1/}identifier')\n",
    "print(id.text)\n",
    "\n",
    "# name\n",
    "# This can be used to form the URL:  https://maspawio.net/layers/geonode%3Alocally_managed_marine_areas_kenya\n",
    "name = r.find('{http://purl.org/dc/elements/1.1/}title')\n",
    "print(name.text)\n",
    "\n",
    "# description\n",
    "description = r.find('{http://purl.org/dc/terms/}abstract')\n",
    "print(description.text)\n",
    "\n",
    "# keywords\n",
    "subjects = r.findall('{http://purl.org/dc/elements/1.1/}subject')\n",
    "for s in subjects:\n",
    "    print(s.text)\n",
    "\n",
    "# spatial data\n",
    "bb = r.find('{http://www.opengis.net/ows}BoundingBox')\n",
    "uc = bb.find('{http://www.opengis.net/ows}UpperCorner')\n",
    "lc = bb.find('{http://www.opengis.net/ows}LowerCorner')\n",
    "ucs = uc.text.split(\" \")\n",
    "lcs = lc.text.split(\" \")\n",
    "x1 = float(ucs[0])\n",
    "y1 = float(ucs[1])\n",
    "x2 = float(lcs[0])\n",
    "y2 = float(lcs[1])\n",
    "\n",
    "# # 'POLYGON(x1 y1, x1 y2, x2 y2, x2 y1, x1 y1)'\n",
    "poly = str(\"\"\"POLYGON({}  {}  {}  {} {}  {}  {}  {} {} {})\"\"\".format(x1, y1, x1, y2, x2, y2, x2, y1, x1, y1))\n",
    "\n",
    "print(poly)\n",
    "\n",
    "# url https://maspawio.net/layers/geonode:locally_managed_marine_areas_kenya"
   ],
   "outputs": [
    {
     "output_type": "stream",
     "name": "stdout",
     "text": [
      "3046b5fc-18e0-11eb-894f-0a735f7a740c\n",
      "locally managed marine areas Kenya\n",
      "This resource/layer shows the spatial location of locally managed marine areas (LMMA) along the Kenyan coast. The information comes from a report done by CORDIO in 2015 that sought to review a detailed history of LMMA development in Kenya. For more information, please contact jkawaka@cordioea.net\n",
      "\n",
      "\n",
      "kenya\n",
      "LMMA\n",
      "POLYGON(-2.094547  41.116223  -2.094547  39.235491 -4.674234  39.235491  -4.674234  41.116223 -2.094547 41.116223)\n"
     ]
    }
   ],
   "metadata": {}
  },
  {
   "cell_type": "code",
   "execution_count": 7,
   "source": [
    "data = {}\n",
    "\n",
    "data['@id'] = str(\"https://maspawio.net/id/{}\".format(id.text))      #id.text\n",
    "data['@type'] = 'https://schema.org/Dataset'\n",
    "\n",
    "data['https://schema.org/name'] = name.text\n",
    "data['https://schema.org/description'] = description.text\n",
    "\n",
    "aswkt = {}\n",
    "aswkt['@type'] = \"http://www.opengis.net/ont/geosparql#wktLiteral\"\n",
    "aswkt['@value'] = poly\n",
    "\n",
    "crs = {}\n",
    "crs['@id'] = \"http://www.opengis.net/def/crs/OGC/1.3/CRS84\"\n",
    "\n",
    "hg = {}\n",
    "hg['@type'] = \"http://www.opengis.net/ont/sf#Polygon\" \n",
    "hg['http://www.opengis.net/ont/geosparql#asWKT'] = aswkt\n",
    "hg['http://www.opengis.net/ont/geosparql#crs'] = crs\n",
    "\n",
    "data['http://www.opengis.net/ont/geosparql#hasGeometry'] = hg\n",
    "\n",
    "# keyword(s) loop\n",
    "k = []\n",
    "for s in subjects:\n",
    "    k.append(s.text)\n",
    "data['https://schema.org/keywords'] = k "
   ],
   "outputs": [],
   "metadata": {}
  },
  {
   "cell_type": "code",
   "execution_count": 8,
   "source": [
    "currentdir = os.path.dirname(os.path.abspath(''))\n",
    "parentdir = os.path.dirname(currentdir)\n",
    "sys.path.insert(0, currentdir)\n",
    "from lib import jbutils\n",
    "\n",
    "context = {\"@vocab\": \"https://schema.org/\", \"geosparql\": \"http://www.opengis.net/ont/geosparql#\"}\n",
    "compacted = jsonld.compact(data, context)\n",
    "\n",
    "jbutils.show_graph(compacted)"
   ],
   "outputs": [
    {
     "output_type": "execute_result",
     "data": {
      "image/svg+xml": "<?xml version=\"1.0\" encoding=\"UTF-8\" standalone=\"no\"?>\n<!DOCTYPE svg PUBLIC \"-//W3C//DTD SVG 1.1//EN\"\n \"http://www.w3.org/Graphics/SVG/1.1/DTD/svg11.dtd\">\n<!-- Generated by graphviz version 2.44.0 (0)\n -->\n<!-- Pages: 1 -->\n<svg width=\"1417pt\" height=\"368pt\"\n viewBox=\"0.00 0.00 1417.19 368.00\" xmlns=\"http://www.w3.org/2000/svg\" xmlns:xlink=\"http://www.w3.org/1999/xlink\">\n<g id=\"graph0\" class=\"graph\" transform=\"scale(1 1) rotate(0) translate(4 364)\">\n<polygon fill=\"white\" stroke=\"transparent\" points=\"-4,4 -4,-364 1413.19,-364 1413.19,4 -4,4\"/>\n<!-- _ -->\n<g id=\"node1\" class=\"node\">\n<title>_</title>\n<ellipse fill=\"none\" stroke=\"#558855\" cx=\"809.19\" cy=\"-288\" rx=\"27\" ry=\"18\"/>\n<text text-anchor=\"middle\" x=\"809.19\" y=\"-284.3\" font-family=\"Times-Roman\" font-size=\"14.00\">_</text>\n</g>\n<!-- &quot;POLYGON(&#45;2.094547 &#160;4...&quot; -->\n<g id=\"node8\" class=\"node\">\n<title>&quot;POLYGON(&#45;2.094547 &#160;4...&quot;</title>\n<ellipse fill=\"none\" stroke=\"black\" stroke-width=\"0\" cx=\"1212.91\" cy=\"-342\" rx=\"133.78\" ry=\"18\"/>\n<text text-anchor=\"middle\" x=\"1212.91\" y=\"-338.3\" font-family=\"Times-Roman\" font-size=\"14.00\">&quot;POLYGON(&#45;2.094547 &#160;4...&quot;</text>\n</g>\n<!-- _&#45;&gt;&quot;POLYGON(&#45;2.094547 &#160;4...&quot; -->\n<g id=\"edge7\" class=\"edge\">\n<title>_&#45;&gt;&quot;POLYGON(&#45;2.094547 &#160;4...&quot;</title>\n<path fill=\"none\" stroke=\"black\" d=\"M835.93,-291.46C889.59,-298.67 1016.03,-315.67 1107.48,-327.96\"/>\n<polygon fill=\"black\" stroke=\"black\" points=\"1107.24,-331.46 1117.62,-329.32 1108.17,-324.52 1107.24,-331.46\"/>\n<text text-anchor=\"middle\" x=\"975.63\" y=\"-314.8\" font-family=\"Times-Roman\" font-size=\"14.00\">asWKT</text>\n</g>\n<!-- www.opengis.net/def/crs/OGC/1.3/CRS84 -->\n<g id=\"node9\" class=\"node\">\n<title>www.opengis.net/def/crs/OGC/1.3/CRS84</title>\n<ellipse fill=\"none\" stroke=\"#558855\" cx=\"1212.91\" cy=\"-288\" rx=\"196.07\" ry=\"18\"/>\n<text text-anchor=\"middle\" x=\"1212.91\" y=\"-284.3\" font-family=\"Times-Roman\" font-size=\"14.00\">www.opengis.net/def/crs/OGC/1.3/CRS84</text>\n</g>\n<!-- _&#45;&gt;www.opengis.net/def/crs/OGC/1.3/CRS84 -->\n<g id=\"edge8\" class=\"edge\">\n<title>_&#45;&gt;www.opengis.net/def/crs/OGC/1.3/CRS84</title>\n<path fill=\"none\" stroke=\"black\" d=\"M836.24,-288C871.71,-288 938.57,-288 1006.16,-288\"/>\n<polygon fill=\"black\" stroke=\"black\" points=\"1006.57,-291.5 1016.57,-288 1006.57,-284.5 1006.57,-291.5\"/>\n<text text-anchor=\"middle\" x=\"975.63\" y=\"-291.8\" font-family=\"Times-Roman\" font-size=\"14.00\">crs</text>\n</g>\n<!-- Polygon -->\n<g id=\"node10\" class=\"node\">\n<title>Polygon</title>\n<ellipse fill=\"none\" stroke=\"#558855\" cx=\"1212.91\" cy=\"-234\" rx=\"46.29\" ry=\"18\"/>\n<text text-anchor=\"middle\" x=\"1212.91\" y=\"-230.3\" font-family=\"Times-Roman\" font-size=\"14.00\">Polygon</text>\n</g>\n<!-- _&#45;&gt;Polygon -->\n<g id=\"edge9\" class=\"edge\">\n<title>_&#45;&gt;Polygon</title>\n<path fill=\"none\" stroke=\"black\" d=\"M835.93,-284.54C900.73,-275.83 1071.63,-252.86 1158.94,-241.12\"/>\n<polygon fill=\"black\" stroke=\"black\" points=\"1159.46,-244.58 1168.9,-239.78 1158.53,-237.64 1159.46,-244.58\"/>\n<text text-anchor=\"middle\" x=\"975.63\" y=\"-270.8\" font-family=\"Times-Roman\" font-size=\"14.00\">type</text>\n</g>\n<!-- maspawio.net/id/3046b5fc&#45;18e0&#45;11eb&#45;894f&#45;0a735f7a740c -->\n<g id=\"node2\" class=\"node\">\n<title>maspawio.net/id/3046b5fc&#45;18e0&#45;11eb&#45;894f&#45;0a735f7a740c</title>\n<ellipse fill=\"none\" stroke=\"black\" cx=\"276.88\" cy=\"-153\" rx=\"276.75\" ry=\"18\"/>\n<text text-anchor=\"middle\" x=\"276.88\" y=\"-149.3\" font-family=\"Times-Roman\" font-size=\"14.00\">maspawio.net/id/3046b5fc&#45;18e0&#45;11eb&#45;894f&#45;0a735f7a740c</text>\n</g>\n<!-- maspawio.net/id/3046b5fc&#45;18e0&#45;11eb&#45;894f&#45;0a735f7a740c&#45;&gt;_ -->\n<g id=\"edge1\" class=\"edge\">\n<title>maspawio.net/id/3046b5fc&#45;18e0&#45;11eb&#45;894f&#45;0a735f7a740c&#45;&gt;_</title>\n<path fill=\"none\" stroke=\"black\" d=\"M340.22,-170.55C419.7,-192.71 561.48,-231.48 683.75,-261 713.65,-268.22 747.8,-275.56 772.76,-280.77\"/>\n<polygon fill=\"black\" stroke=\"black\" points=\"772.35,-284.26 782.85,-282.86 773.77,-277.4 772.35,-284.26\"/>\n<text text-anchor=\"middle\" x=\"618.75\" y=\"-258.8\" font-family=\"Times-Roman\" font-size=\"14.00\">hasGeometry</text>\n</g>\n<!-- Dataset -->\n<g id=\"node3\" class=\"node\">\n<title>Dataset</title>\n<ellipse fill=\"none\" stroke=\"#558855\" cx=\"809.19\" cy=\"-234\" rx=\"45.49\" ry=\"18\"/>\n<text text-anchor=\"middle\" x=\"809.19\" y=\"-230.3\" font-family=\"Times-Roman\" font-size=\"14.00\">Dataset</text>\n</g>\n<!-- maspawio.net/id/3046b5fc&#45;18e0&#45;11eb&#45;894f&#45;0a735f7a740c&#45;&gt;Dataset -->\n<g id=\"edge2\" class=\"edge\">\n<title>maspawio.net/id/3046b5fc&#45;18e0&#45;11eb&#45;894f&#45;0a735f7a740c&#45;&gt;Dataset</title>\n<path fill=\"none\" stroke=\"black\" d=\"M386.47,-169.59C499.31,-186.82 671.08,-213.06 756.38,-226.09\"/>\n<polygon fill=\"black\" stroke=\"black\" points=\"755.93,-229.56 766.34,-227.61 756.98,-222.64 755.93,-229.56\"/>\n<text text-anchor=\"middle\" x=\"618.75\" y=\"-214.8\" font-family=\"Times-Roman\" font-size=\"14.00\">type</text>\n</g>\n<!-- &quot;This resource/layer ...&quot; -->\n<g id=\"node4\" class=\"node\">\n<title>&quot;This resource/layer ...&quot;</title>\n<ellipse fill=\"none\" stroke=\"black\" stroke-width=\"0\" cx=\"809.19\" cy=\"-180\" rx=\"116.18\" ry=\"18\"/>\n<text text-anchor=\"middle\" x=\"809.19\" y=\"-176.3\" font-family=\"Times-Roman\" font-size=\"14.00\">&quot;This resource/layer ...&quot;</text>\n</g>\n<!-- maspawio.net/id/3046b5fc&#45;18e0&#45;11eb&#45;894f&#45;0a735f7a740c&#45;&gt;&quot;This resource/layer ...&quot; -->\n<g id=\"edge3\" class=\"edge\">\n<title>maspawio.net/id/3046b5fc&#45;18e0&#45;11eb&#45;894f&#45;0a735f7a740c&#45;&gt;&quot;This resource/layer ...&quot;</title>\n<path fill=\"none\" stroke=\"black\" d=\"M495.49,-164.08C561.42,-167.44 631.41,-171 688.42,-173.9\"/>\n<polygon fill=\"black\" stroke=\"black\" points=\"688.38,-177.4 698.55,-174.42 688.74,-170.41 688.38,-177.4\"/>\n<text text-anchor=\"middle\" x=\"618.75\" y=\"-176.8\" font-family=\"Times-Roman\" font-size=\"14.00\">description</text>\n</g>\n<!-- &quot;LMMA&quot; -->\n<g id=\"node5\" class=\"node\">\n<title>&quot;LMMA&quot;</title>\n<ellipse fill=\"none\" stroke=\"black\" stroke-width=\"0\" cx=\"809.19\" cy=\"-126\" rx=\"46.29\" ry=\"18\"/>\n<text text-anchor=\"middle\" x=\"809.19\" y=\"-122.3\" font-family=\"Times-Roman\" font-size=\"14.00\">&quot;LMMA&quot;</text>\n</g>\n<!-- maspawio.net/id/3046b5fc&#45;18e0&#45;11eb&#45;894f&#45;0a735f7a740c&#45;&gt;&quot;LMMA&quot; -->\n<g id=\"edge4\" class=\"edge\">\n<title>maspawio.net/id/3046b5fc&#45;18e0&#45;11eb&#45;894f&#45;0a735f7a740c&#45;&gt;&quot;LMMA&quot;</title>\n<path fill=\"none\" stroke=\"black\" d=\"M495.49,-141.92C589.66,-137.13 692.11,-131.91 753.19,-128.8\"/>\n<polygon fill=\"black\" stroke=\"black\" points=\"753.56,-132.29 763.37,-128.28 753.2,-125.3 753.56,-132.29\"/>\n<text text-anchor=\"middle\" x=\"618.75\" y=\"-141.8\" font-family=\"Times-Roman\" font-size=\"14.00\">keywords</text>\n</g>\n<!-- &quot;kenya&quot; -->\n<g id=\"node6\" class=\"node\">\n<title>&quot;kenya&quot;</title>\n<ellipse fill=\"none\" stroke=\"black\" stroke-width=\"0\" cx=\"809.19\" cy=\"-72\" rx=\"46.29\" ry=\"18\"/>\n<text text-anchor=\"middle\" x=\"809.19\" y=\"-68.3\" font-family=\"Times-Roman\" font-size=\"14.00\">&quot;kenya&quot;</text>\n</g>\n<!-- maspawio.net/id/3046b5fc&#45;18e0&#45;11eb&#45;894f&#45;0a735f7a740c&#45;&gt;&quot;kenya&quot; -->\n<g id=\"edge5\" class=\"edge\">\n<title>maspawio.net/id/3046b5fc&#45;18e0&#45;11eb&#45;894f&#45;0a735f7a740c&#45;&gt;&quot;kenya&quot;</title>\n<path fill=\"none\" stroke=\"black\" d=\"M386.47,-136.41C499.16,-119.2 670.63,-93.01 756.04,-79.96\"/>\n<polygon fill=\"black\" stroke=\"black\" points=\"756.67,-83.41 766.02,-78.44 755.61,-76.49 756.67,-83.41\"/>\n<text text-anchor=\"middle\" x=\"618.75\" y=\"-111.8\" font-family=\"Times-Roman\" font-size=\"14.00\">keywords</text>\n</g>\n<!-- &quot;locally managed mari...&quot; -->\n<g id=\"node7\" class=\"node\">\n<title>&quot;locally managed mari...&quot;</title>\n<ellipse fill=\"none\" stroke=\"black\" stroke-width=\"0\" cx=\"809.19\" cy=\"-18\" rx=\"125.38\" ry=\"18\"/>\n<text text-anchor=\"middle\" x=\"809.19\" y=\"-14.3\" font-family=\"Times-Roman\" font-size=\"14.00\">&quot;locally managed mari...&quot;</text>\n</g>\n<!-- maspawio.net/id/3046b5fc&#45;18e0&#45;11eb&#45;894f&#45;0a735f7a740c&#45;&gt;&quot;locally managed mari...&quot; -->\n<g id=\"edge6\" class=\"edge\">\n<title>maspawio.net/id/3046b5fc&#45;18e0&#45;11eb&#45;894f&#45;0a735f7a740c&#45;&gt;&quot;locally managed mari...&quot;</title>\n<path fill=\"none\" stroke=\"black\" d=\"M340.22,-135.45C419.7,-113.29 561.48,-74.52 683.75,-45 697.81,-41.61 712.8,-38.19 727.34,-34.97\"/>\n<polygon fill=\"black\" stroke=\"black\" points=\"728.3,-38.34 737.32,-32.78 726.8,-31.51 728.3,-38.34\"/>\n<text text-anchor=\"middle\" x=\"618.75\" y=\"-77.8\" font-family=\"Times-Roman\" font-size=\"14.00\">name</text>\n</g>\n</g>\n</svg>\n",
      "text/plain": [
       "<graphviz.dot.Digraph at 0x7fb9f3ac4730>"
      ]
     },
     "metadata": {},
     "execution_count": 8
    }
   ],
   "metadata": {}
  },
  {
   "cell_type": "code",
   "execution_count": 9,
   "source": [
    "# jd = json.dumps(compacted, indent=4)\n",
    "# print(jd)\n",
    "\n",
    "with open('data/maspawio.json', 'w', encoding='utf-8') as f:\n",
    "    json.dump(compacted, f, ensure_ascii=False, indent=4)"
   ],
   "outputs": [],
   "metadata": {}
  },
  {
   "cell_type": "code",
   "execution_count": 10,
   "source": [
    "import kglab\n",
    "\n",
    "namespaces = {\n",
    "    \"schema\":  \"https://schema.org/\",\n",
    "    \"shacl\":   \"http://www.w3.org/ns/shacl#\" ,\n",
    "    }\n",
    "\n",
    "kg = kglab.KnowledgeGraph(\n",
    "    name = \"Schema.org based datagraph\",\n",
    "    base_uri = \"https://example.org/id/\",\n",
    "    namespaces = namespaces,\n",
    "    )\n",
    "\n"
   ],
   "outputs": [],
   "metadata": {}
  },
  {
   "cell_type": "code",
   "execution_count": 11,
   "source": [
    "# f = io.BytesIO(str.encode(jd))\n",
    "kg.load_jsonld(\"./data/maspawio.json\")"
   ],
   "outputs": [
    {
     "output_type": "execute_result",
     "data": {
      "text/plain": [
       "<kglab.kglab.KnowledgeGraph at 0x7fb9f3ac4670>"
      ]
     },
     "metadata": {},
     "execution_count": 11
    }
   ],
   "metadata": {}
  },
  {
   "cell_type": "code",
   "execution_count": 13,
   "source": [
    "# export the graph\n",
    "kg.save_rdf(\"./data/maspawioSingle.ttl\", format=\"ttl\", base=None, encoding=\"utf-8\")"
   ],
   "outputs": [],
   "metadata": {}
  },
  {
   "cell_type": "code",
   "execution_count": 15,
   "source": [
    "links = pd.read_csv(\"./data/maspawio.csv\", skiprows=7)"
   ],
   "outputs": [],
   "metadata": {}
  },
  {
   "cell_type": "code",
   "execution_count": 16,
   "source": [
    "links.head()"
   ],
   "outputs": [
    {
     "output_type": "execute_result",
     "data": {
      "text/html": [
       "<div>\n",
       "<style scoped>\n",
       "    .dataframe tbody tr th:only-of-type {\n",
       "        vertical-align: middle;\n",
       "    }\n",
       "\n",
       "    .dataframe tbody tr th {\n",
       "        vertical-align: top;\n",
       "    }\n",
       "\n",
       "    .dataframe thead th {\n",
       "        text-align: right;\n",
       "    }\n",
       "</style>\n",
       "<table border=\"1\" class=\"dataframe\">\n",
       "  <thead>\n",
       "    <tr style=\"text-align: right;\">\n",
       "      <th></th>\n",
       "      <th>Resource name</th>\n",
       "      <th>Data type</th>\n",
       "      <th>Coverage</th>\n",
       "      <th>Designation</th>\n",
       "      <th>Link address</th>\n",
       "      <th>dclink</th>\n",
       "    </tr>\n",
       "  </thead>\n",
       "  <tbody>\n",
       "    <tr>\n",
       "      <th>0</th>\n",
       "      <td>locally managed marine areas Kenya</td>\n",
       "      <td>Point vector</td>\n",
       "      <td>National</td>\n",
       "      <td>Kenya</td>\n",
       "      <td>https://maspawio.net/layers/geonode%3Alocally_...</td>\n",
       "      <td>https://maspawio.net/catalogue/csw?outputschem...</td>\n",
       "    </tr>\n",
       "    <tr>\n",
       "      <th>1</th>\n",
       "      <td>Sea Level Rise vulnearbility</td>\n",
       "      <td>Raster data</td>\n",
       "      <td>Sub-national</td>\n",
       "      <td>Kenya-Mombasa drfils@gmail.com</td>\n",
       "      <td>https://maspawio.net/layers/geonode%3Akwale_ki...</td>\n",
       "      <td>https://maspawio.net/catalogue/csw?outputschem...</td>\n",
       "    </tr>\n",
       "    <tr>\n",
       "      <th>2</th>\n",
       "      <td>kwale Marine depth contours</td>\n",
       "      <td>Vector lines</td>\n",
       "      <td>Sub-national</td>\n",
       "      <td>Kenya-Kwale</td>\n",
       "      <td>https://maspawio.net/layers/geonode%3Akwale_ma...</td>\n",
       "      <td>https://maspawio.net/catalogue/csw?outputschem...</td>\n",
       "    </tr>\n",
       "    <tr>\n",
       "      <th>3</th>\n",
       "      <td>kwale bathymetry</td>\n",
       "      <td>Raster data</td>\n",
       "      <td>Sub-national</td>\n",
       "      <td>Kenya-Kwale</td>\n",
       "      <td>https://maspawio.net/layers/geonode%3Akwale_ba...</td>\n",
       "      <td>https://maspawio.net/catalogue/csw?outputschem...</td>\n",
       "    </tr>\n",
       "    <tr>\n",
       "      <th>4</th>\n",
       "      <td>Fishing intensity Kipini</td>\n",
       "      <td>Raster data</td>\n",
       "      <td>Sub-national</td>\n",
       "      <td>Kenya-Tana River</td>\n",
       "      <td>https://maspawio.net/layers/geonode%3Akipini_f...</td>\n",
       "      <td>https://maspawio.net/catalogue/csw?outputschem...</td>\n",
       "    </tr>\n",
       "  </tbody>\n",
       "</table>\n",
       "</div>"
      ],
      "text/plain": [
       "                        Resource name     Data type      Coverage  \\\n",
       "0  locally managed marine areas Kenya  Point vector      National   \n",
       "1        Sea Level Rise vulnearbility   Raster data  Sub-national   \n",
       "2         kwale Marine depth contours  Vector lines  Sub-national   \n",
       "3                    kwale bathymetry   Raster data  Sub-national   \n",
       "4            Fishing intensity Kipini   Raster data  Sub-national   \n",
       "\n",
       "                      Designation  \\\n",
       "0                           Kenya   \n",
       "1  Kenya-Mombasa drfils@gmail.com   \n",
       "2                     Kenya-Kwale   \n",
       "3                     Kenya-Kwale   \n",
       "4                Kenya-Tana River   \n",
       "\n",
       "                                        Link address  \\\n",
       "0  https://maspawio.net/layers/geonode%3Alocally_...   \n",
       "1  https://maspawio.net/layers/geonode%3Akwale_ki...   \n",
       "2  https://maspawio.net/layers/geonode%3Akwale_ma...   \n",
       "3  https://maspawio.net/layers/geonode%3Akwale_ba...   \n",
       "4  https://maspawio.net/layers/geonode%3Akipini_f...   \n",
       "\n",
       "                                              dclink  \n",
       "0  https://maspawio.net/catalogue/csw?outputschem...  \n",
       "1  https://maspawio.net/catalogue/csw?outputschem...  \n",
       "2  https://maspawio.net/catalogue/csw?outputschem...  \n",
       "3  https://maspawio.net/catalogue/csw?outputschem...  \n",
       "4  https://maspawio.net/catalogue/csw?outputschem...  "
      ]
     },
     "metadata": {},
     "execution_count": 16
    }
   ],
   "metadata": {}
  },
  {
   "cell_type": "code",
   "execution_count": 17,
   "source": [
    "linkcol = links[\"dclink\"]\n",
    "urls = linkcol.values"
   ],
   "outputs": [],
   "metadata": {}
  },
  {
   "cell_type": "code",
   "execution_count": 22,
   "source": [
    "namespaces = {\n",
    "    \"schema\":  \"https://schema.org/\",\n",
    "    \"shacl\":   \"http://www.w3.org/ns/shacl#\" ,\n",
    "    }\n",
    "\n",
    "kgset = kglab.KnowledgeGraph(\n",
    "    name = \"Schema.org based datagraph\",\n",
    "    base_uri = \"https://example.org/id/\",\n",
    "    namespaces = namespaces,\n",
    "    )"
   ],
   "outputs": [],
   "metadata": {}
  },
  {
   "cell_type": "code",
   "execution_count": 24,
   "source": [
    "index = 0\n",
    "\n",
    "for x in urls:\n",
    "    \n",
    "    index = index +1 \n",
    "    \n",
    "    dcxml = x\n",
    "    with urlopen(dcxml, context=ctx) as f:\n",
    "        tree = ET.parse(f)\n",
    "        root = tree.getroot()\n",
    "        \n",
    "    r = root.find('{http://www.opengis.net/cat/csw/2.0.2}Record')\n",
    "    \n",
    "        \n",
    "    # id\n",
    "    id = r.find('{http://purl.org/dc/elements/1.1/}identifier')\n",
    "\n",
    "    # name\n",
    "    # This can be used to form the URL:  https://maspawio.net/layers/geonode%3Alocally_managed_marine_areas_kenya\n",
    "    name = r.find('{http://purl.org/dc/elements/1.1/}title')\n",
    "\n",
    "    # description\n",
    "    description = r.find('{http://purl.org/dc/terms/}abstract')\n",
    "\n",
    "    # keywords\n",
    "    subjects = r.findall('{http://purl.org/dc/elements/1.1/}subject')\n",
    "\n",
    "    # spatial data\n",
    "    bb = r.find('{http://www.opengis.net/ows}BoundingBox')\n",
    "    uc = bb.find('{http://www.opengis.net/ows}UpperCorner')\n",
    "    lc = bb.find('{http://www.opengis.net/ows}LowerCorner')\n",
    "    ucs = uc.text.split(\" \")\n",
    "    lcs = lc.text.split(\" \")\n",
    "    x1 = float(ucs[0])\n",
    "    y1 = float(ucs[1])\n",
    "    x2 = float(lcs[0])\n",
    "    y2 = float(lcs[1])\n",
    "\n",
    "    # # 'POLYGON(x1 y1, x1 y2, x2 y2, x2 y1, x1 y1)'\n",
    "    poly = str(\"\"\"POLYGON({}  {}  {}  {} {}  {}  {}  {} {} {})\"\"\".format(x1, y1, x1, y2, x2, y2, x2, y1, x1, y1))\n",
    "\n",
    "    \n",
    "    \n",
    "    data = {}\n",
    "\n",
    "#     data['@id'] = str(\"https://maspawio.net/id/{}\".format(id.text))      #id.text\n",
    "    data['@id'] = str(\"https://maspawio.net/id/{}\".format(index))      #id.text\n",
    "\n",
    "    data['@type'] = 'https://schema.org/Dataset'\n",
    "\n",
    "    data['https://schema.org/name'] = name.text\n",
    "    data['https://schema.org/description'] = description.text\n",
    "\n",
    "    aswkt = {}\n",
    "    aswkt['@type'] = \"http://www.opengis.net/ont/geosparql#wktLiteral\"\n",
    "    aswkt['@value'] = poly\n",
    "\n",
    "    crs = {}\n",
    "    crs['@id'] = \"http://www.opengis.net/def/crs/OGC/1.3/CRS84\"\n",
    "\n",
    "    hg = {}\n",
    "    hg['@type'] = \"http://www.opengis.net/ont/sf#Polygon\" \n",
    "    hg['http://www.opengis.net/ont/geosparql#asWKT'] = aswkt\n",
    "    hg['http://www.opengis.net/ont/geosparql#crs'] = crs\n",
    "\n",
    "    data['http://www.opengis.net/ont/geosparql#hasGeometry'] = hg\n",
    "\n",
    "    # keyword(s) loop\n",
    "    k = []\n",
    "    for s in subjects:\n",
    "        k.append(s.text)\n",
    "    data['https://schema.org/keywords'] = k \n",
    "    \n",
    "    \n",
    "    context = {\"@vocab\": \"https://schema.org/\", \"geosparql\": \"http://www.opengis.net/ont/geosparql#\"}\n",
    "    compacted = jsonld.compact(data, context)\n",
    "\n",
    "    # need sha hash for the \"compacted\" var and then also generate the prov for this record.\n",
    "    \n",
    "    filename = str(\"data/maspawio{}.json\".format(index))\n",
    "    \n",
    "    with open(filename, 'w', encoding='utf-8') as f:\n",
    "        json.dump(compacted, f, ensure_ascii=False, indent=4)\n",
    "        \n",
    "    kgset.load_jsonld(filename)\n",
    "    \n",
    "    print(index)"
   ],
   "outputs": [
    {
     "output_type": "stream",
     "name": "stdout",
     "text": [
      "1\n",
      "2\n",
      "3\n",
      "4\n",
      "5\n",
      "6\n",
      "7\n",
      "8\n",
      "9\n",
      "10\n",
      "11\n",
      "12\n",
      "13\n",
      "14\n",
      "15\n",
      "16\n",
      "17\n",
      "18\n",
      "19\n",
      "20\n",
      "21\n"
     ]
    }
   ],
   "metadata": {}
  },
  {
   "cell_type": "code",
   "execution_count": 25,
   "source": [
    "kgset.save_rdf(\"./data/maspawio.rdf\", format=\"ttl\", base=None, encoding=\"utf-8\")"
   ],
   "outputs": [],
   "metadata": {}
  },
  {
   "cell_type": "code",
   "execution_count": null,
   "source": [],
   "outputs": [],
   "metadata": {}
  }
 ],
 "metadata": {
  "interpreter": {
   "hash": "884008db010a4da72f62f471ce341f5399c2c405d8eebc0270fe261741869d85"
  },
  "kernelspec": {
   "name": "python3",
   "display_name": "Python 3.8.10 64-bit ('kglab': conda)"
  },
  "language_info": {
   "codemirror_mode": {
    "name": "ipython",
    "version": 3
   },
   "file_extension": ".py",
   "mimetype": "text/x-python",
   "name": "python",
   "nbconvert_exporter": "python",
   "pygments_lexer": "ipython3",
   "version": "3.8.10"
  }
 },
 "nbformat": 4,
 "nbformat_minor": 5
}