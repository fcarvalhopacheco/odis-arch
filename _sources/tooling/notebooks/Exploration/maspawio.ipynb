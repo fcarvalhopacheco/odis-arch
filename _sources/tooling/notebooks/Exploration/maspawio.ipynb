{
 "cells": [
  {
   "cell_type": "markdown",
   "source": [
    "# Maspawio\n",
    "\n",
    "## Dublin Core to Schema.org workflow testing\n",
    "\n",
    "An experiment to see if we can convert a Dublin Core record to Schema.org.  The focus will be on OIH type https://book.oceaninfohub.org/thematics/docs/README.html\n",
    "\n",
    "\n",
    "The source location is: https://maspawio.net/layers/geonode%3Alocally_managed_marine_areas_kenya \n",
    "\n",
    "Need somethnig like documented at: https://book.oceaninfohub.org/thematics/docs/maps.html   We will need to add into this a sptial geometry to scope the bounding box.\n",
    "\n",
    "https://docs.google.com/spreadsheets/d/1OS_DPrPppxkWR7kU3vjRJaDSCq3XFn74/edit#gid=1139001206\n",
    "\n",
    "\n",
    "## Note OIH Themtic mapping\n",
    "\n",
    "What existing (or not) patterns do we align to\n",
    "\n",
    "\n",
    "## Document Risk Pattens\n",
    "\n",
    "* URI pattern (URI governance)\n",
    "* Sitemap update patterns\n",
    "\n",
    "## Steps to alignment with Structured Data on the Web\n",
    "\n",
    "* ...\n"
   ],
   "metadata": {}
  },
  {
   "cell_type": "code",
   "execution_count": 1,
   "source": [
    "import json\n",
    "from pyld import jsonld\n",
    "import os, sys\n",
    "import xml.etree.ElementTree as ET\n",
    "from urllib.request import urlopen\n",
    "\n",
    "\n",
    "# import rdflib\n",
    "# from rdflib import Graph, plugin\n",
    "# from rdflib.serializer import Serializer\n",
    "# from icecream import ic\n",
    "# from pathlib import Path\n"
   ],
   "outputs": [],
   "metadata": {}
  },
  {
   "cell_type": "code",
   "execution_count": 2,
   "source": [
    "# Source Dubline core XML from net (https issue)\n",
    "# Groups do need to start to move to https over http.  However, when doing so, the issue of geting and installing the certificate\n",
    "# can be an impediment.  A popular group used by many is the Let's Encrypt group (https://letsencrypt.org/).  Reference their \n",
    "# documentation on CertBot (https://certbot.eff.org/)\n",
    "\n",
    "# dcxml = \"https://maspawio.net/catalogue/csw?outputschema=http%3A%2F%2Fwww.opengis.net%2Fcat%2Fcsw%2F2.0.2&service=CSW&request=GetRecordById&version=2.0.2&elementsetname=full&id=3046b5fc-18e0-11eb-894f-0a735f7a740c\"\n",
    "# with urlopen(dcxml) as f:\n",
    "#     tree = ET.parse(f)\n",
    "#     root = tree.getroot()"
   ],
   "outputs": [],
   "metadata": {}
  },
  {
   "cell_type": "code",
   "execution_count": 32,
   "source": [
    "# Bypassing the issue of the https cert, use a local file downloaded by bypassing the warning. \n",
    "tree = ET.parse('./data/dublin.xml')\n",
    "root = tree.getroot()\n",
    "# print(root.tag)"
   ],
   "outputs": [],
   "metadata": {}
  },
  {
   "cell_type": "code",
   "execution_count": 33,
   "source": [
    "r = root.find('{http://www.opengis.net/cat/csw/2.0.2}Record')"
   ],
   "outputs": [],
   "metadata": {}
  },
  {
   "cell_type": "code",
   "execution_count": 34,
   "source": [
    "# Just a loop to inspect all the elements, normall commented out and not needed in final script\n",
    "for element in r.findall('*'):\n",
    "            print(\"{} :: {}\".format(element.tag, element.text))"
   ],
   "outputs": [
    {
     "output_type": "stream",
     "name": "stdout",
     "text": [
      "{http://purl.org/dc/elements/1.1/}identifier :: 3046b5fc-18e0-11eb-894f-0a735f7a740c\n",
      "{http://purl.org/dc/elements/1.1/}title :: locally managed marine areas Kenya\n",
      "{http://purl.org/dc/elements/1.1/}type :: dataset\n",
      "{http://purl.org/dc/elements/1.1/}subject :: kenya\n",
      "{http://purl.org/dc/elements/1.1/}subject :: LMMA\n",
      "{http://purl.org/dc/elements/1.1/}format :: vector\n",
      "{http://purl.org/dc/terms/}references :: http://maspawio.net/geoserver/geonode/wfs\n",
      "{http://purl.org/dc/terms/}references :: http://maspawio.net/geoserver/geonode/wms\n",
      "{http://purl.org/dc/terms/}references :: http://maspawio.net/geoserver/wms?request=GetLegendGraphic&format=image/png&WIDTH=20&HEIGHT=20&LAYER=geonode:locally_managed_marine_areas_kenya&legend_options=fontAntiAliasing:true;fontSize:12;forceLabels:on\n",
      "{http://purl.org/dc/terms/}references :: http://maspawio.net/uploaded/thumbs/layer-3046b5fc-18e0-11eb-894f-0a735f7a740c-thumb.png\n",
      "{http://purl.org/dc/terms/}references :: http://maspawio.net/geoserver/wms/reflect?layers=geonode:locally_managed_marine_areas_kenya&width=200&height=150&format=image/png8\n",
      "{http://purl.org/dc/terms/}references :: http://maspawio.net/layers/geonode%3Alocally_managed_marine_areas_kenya\n",
      "{http://purl.org/dc/terms/}references :: http://maspawio.net/geoserver/gwc/service/gmaps?layers=geonode:locally_managed_marine_areas_kenya&zoom={z}&x={x}&y={y}&format=image/png8\n",
      "{http://purl.org/dc/terms/}references :: http://maspawio.net/geoserver/wms/kml?layers=geonode%3Alocally_managed_marine_areas_kenya&mode=refresh\n",
      "{http://purl.org/dc/terms/}references :: http://maspawio.net/geoserver/wms/kml?layers=geonode%3Alocally_managed_marine_areas_kenya&mode=download\n",
      "{http://purl.org/dc/terms/}references :: http://maspawio.net/geoserver/wfs?srsName=EPSG%3A4326&typename=geonode%3Alocally_managed_marine_areas_kenya&outputFormat=json&version=1.0.0&service=WFS&request=GetFeature\n",
      "{http://purl.org/dc/terms/}references :: http://maspawio.net/geoserver/wfs?typename=geonode%3Alocally_managed_marine_areas_kenya&outputFormat=excel&version=1.0.0&request=GetFeature&service=WFS\n",
      "{http://purl.org/dc/terms/}references :: http://maspawio.net/geoserver/wfs?typename=geonode%3Alocally_managed_marine_areas_kenya&outputFormat=csv&version=1.0.0&request=GetFeature&service=WFS\n",
      "{http://purl.org/dc/terms/}references :: http://maspawio.net/geoserver/wfs?typename=geonode%3Alocally_managed_marine_areas_kenya&outputFormat=text%2Fxml%3B+subtype%3Dgml%2F3.1.1&version=1.0.0&request=GetFeature&service=WFS\n",
      "{http://purl.org/dc/terms/}references :: http://maspawio.net/geoserver/wfs?typename=geonode%3Alocally_managed_marine_areas_kenya&outputFormat=gml2&version=1.0.0&request=GetFeature&service=WFS\n",
      "{http://purl.org/dc/terms/}references :: http://maspawio.net/geoserver/wfs?format_options=charset%3AUTF-8&typename=geonode%3Alocally_managed_marine_areas_kenya&outputFormat=SHAPE-ZIP&version=1.0.0&service=WFS&request=GetFeature\n",
      "{http://purl.org/dc/terms/}references :: http://maspawio.net/geoserver/wms?layers=geonode%3Alocally_managed_marine_areas_kenya&width=400&bbox=39.235491%2C-4.674234%2C41.1162229999999%2C-2.094547&service=WMS&format=image%2Fpng&srs=EPSG%3A4326&request=GetMap&height=550\n",
      "{http://purl.org/dc/terms/}references :: http://maspawio.net/geoserver/wms?layers=geonode%3Alocally_managed_marine_areas_kenya&width=400&bbox=39.235491%2C-4.674234%2C41.1162229999999%2C-2.094547&service=WMS&format=application%2Fpdf&srs=EPSG%3A4326&request=GetMap&height=550\n",
      "{http://purl.org/dc/terms/}references :: http://maspawio.net/geoserver/wms?layers=geonode%3Alocally_managed_marine_areas_kenya&width=400&bbox=39.235491%2C-4.674234%2C41.1162229999999%2C-2.094547&service=WMS&format=image%2Fjpeg&srs=EPSG%3A4326&request=GetMap&height=550\n",
      "{http://purl.org/dc/terms/}modified :: 2020-10-28\n",
      "{http://purl.org/dc/terms/}abstract :: This resource/layer shows the spatial location of locally managed marine areas (LMMA) along the Kenyan coast. The information comes from a report done by CORDIO in 2015 that sought to review a detailed history of LMMA development in Kenya. For more information, please contact jkawaka@cordioea.net\n",
      "\n",
      "\n",
      "{http://purl.org/dc/elements/1.1/}date :: 2020-10-28\n",
      "{http://purl.org/dc/elements/1.1/}language :: eng\n",
      "{http://www.opengis.net/ows}BoundingBox :: \n",
      "            \n"
     ]
    }
   ],
   "metadata": {}
  },
  {
   "cell_type": "markdown",
   "source": [
    "# Type matching\n",
    "\n",
    "In this case we see the type as \"dataset\" so we can match this to schema.org/Dataset.  Other types would need special \n",
    "paths.  "
   ],
   "metadata": {}
  },
  {
   "cell_type": "code",
   "execution_count": 58,
   "source": [
    "# id\n",
    "id = r.find('{http://purl.org/dc/elements/1.1/}identifier')\n",
    "print(id.text)\n",
    "\n",
    "# name\n",
    "# This can be used to form the URL:  https://maspawio.net/layers/geonode%3Alocally_managed_marine_areas_kenya\n",
    "name = r.find('{http://purl.org/dc/elements/1.1/}title')\n",
    "print(name.text)\n",
    "\n",
    "# description\n",
    "description = r.find('{http://purl.org/dc/terms/}abstract')\n",
    "print(description.text)\n",
    "\n",
    "# keywords\n",
    "subjects = r.findall('{http://purl.org/dc/elements/1.1/}subject')\n",
    "for s in subjects:\n",
    "    print(s.text)\n",
    "\n",
    "# spatial data\n",
    "bb = r.find('{http://www.opengis.net/ows}BoundingBox')\n",
    "uc = bb.find('{http://www.opengis.net/ows}UpperCorner')\n",
    "lc = bb.find('{http://www.opengis.net/ows}LowerCorner')\n",
    "ucs = uc.text.split(\" \")\n",
    "lcs = lc.text.split(\" \")\n",
    "x1 = float(ucs[0])\n",
    "y1 = float(ucs[1])\n",
    "x2 = float(lcs[0])\n",
    "y2 = float(lcs[1])\n",
    "\n",
    "# # 'POLYGON(x1 y1, x1 y2, x2 y2, x2 y1, x1 y1)'\n",
    "poly = str(\"\"\"POLYGON({}  {}  {}  {} {}  {}  {}  {} {} {})\"\"\".format(x1, y1, x1, y2, x2, y2, x2, y1, x1, y1))\n",
    "\n",
    "print(poly)\n",
    "\n",
    "# url https://maspawio.net/layers/geonode:locally_managed_marine_areas_kenya"
   ],
   "outputs": [
    {
     "output_type": "stream",
     "name": "stdout",
     "text": [
      "3046b5fc-18e0-11eb-894f-0a735f7a740c\n",
      "locally managed marine areas Kenya\n",
      "This resource/layer shows the spatial location of locally managed marine areas (LMMA) along the Kenyan coast. The information comes from a report done by CORDIO in 2015 that sought to review a detailed history of LMMA development in Kenya. For more information, please contact jkawaka@cordioea.net\n",
      "\n",
      "\n",
      "kenya\n",
      "LMMA\n",
      "POLYGON(-2.094547  41.116223  -2.094547  39.235491 -4.674234  39.235491  -4.674234  41.116223 -2.094547 41.116223)\n"
     ]
    }
   ],
   "metadata": {}
  },
  {
   "cell_type": "code",
   "execution_count": 77,
   "source": [
    "data = {}\n",
    "\n",
    "data['@id'] = str(\"https://maspawio.net/id/{}\".format(id.text))      #id.text\n",
    "data['@type'] = 'https://schema.org/Dataset'\n",
    "\n",
    "data['https://schema.org/name'] = name.text\n",
    "data['https://schema.org/description'] = description.text\n",
    "\n",
    "aswkt = {}\n",
    "aswkt['@type'] = \"http://www.opengis.net/ont/geosparql#wktLiteral\"\n",
    "aswkt['@value'] = poly\n",
    "\n",
    "crs = {}\n",
    "crs['@id'] = \"http://www.opengis.net/def/crs/OGC/1.3/CRS84\"\n",
    "\n",
    "hg = {}\n",
    "hg['@type'] = \"http://www.opengis.net/ont/sf#Polygon\" \n",
    "hg['http://www.opengis.net/ont/geosparql#asWKT'] = aswkt\n",
    "hg['http://www.opengis.net/ont/geosparql#crs'] = crs\n",
    "\n",
    "data['http://www.opengis.net/ont/geosparql#hasGeometry'] = hg\n",
    "\n",
    "# keyword(s) loop\n",
    "k = []\n",
    "for s in subjects:\n",
    "    k.append(s.text)\n",
    "data['https://schema.org/keywords'] = k "
   ],
   "outputs": [],
   "metadata": {}
  },
  {
   "cell_type": "code",
   "execution_count": 78,
   "source": [
    "currentdir = os.path.dirname(os.path.abspath(''))\n",
    "parentdir = os.path.dirname(currentdir)\n",
    "sys.path.insert(0, currentdir)\n",
    "from lib import jbutils\n",
    "\n",
    "context = {\"@vocab\": \"https://schema.org/\", \"geosparql\": \"http://www.opengis.net/ont/geosparql#\"}\n",
    "compacted = jsonld.compact(data, context)\n",
    "\n",
    "jbutils.show_graph(compacted)"
   ],
   "outputs": [
    {
     "output_type": "execute_result",
     "data": {
      "text/plain": [
       "<graphviz.dot.Digraph at 0x7f4a50380250>"
      ],
      "image/svg+xml": "<?xml version=\"1.0\" encoding=\"UTF-8\" standalone=\"no\"?>\n<!DOCTYPE svg PUBLIC \"-//W3C//DTD SVG 1.1//EN\"\n \"http://www.w3.org/Graphics/SVG/1.1/DTD/svg11.dtd\">\n<!-- Generated by graphviz version 2.44.0 (0)\n -->\n<!-- Pages: 1 -->\n<svg width=\"1417pt\" height=\"368pt\"\n viewBox=\"0.00 0.00 1417.19 368.00\" xmlns=\"http://www.w3.org/2000/svg\" xmlns:xlink=\"http://www.w3.org/1999/xlink\">\n<g id=\"graph0\" class=\"graph\" transform=\"scale(1 1) rotate(0) translate(4 364)\">\n<polygon fill=\"white\" stroke=\"transparent\" points=\"-4,4 -4,-364 1413.19,-364 1413.19,4 -4,4\"/>\n<!-- _ -->\n<g id=\"node1\" class=\"node\">\n<title>_</title>\n<ellipse fill=\"none\" stroke=\"#558855\" cx=\"809.19\" cy=\"-288\" rx=\"27\" ry=\"18\"/>\n<text text-anchor=\"middle\" x=\"809.19\" y=\"-284.3\" font-family=\"Times-Roman\" font-size=\"14.00\">_</text>\n</g>\n<!-- &quot;POLYGON(&#45;2.094547 &#160;4...&quot; -->\n<g id=\"node8\" class=\"node\">\n<title>&quot;POLYGON(&#45;2.094547 &#160;4...&quot;</title>\n<ellipse fill=\"none\" stroke=\"black\" stroke-width=\"0\" cx=\"1212.91\" cy=\"-342\" rx=\"133.78\" ry=\"18\"/>\n<text text-anchor=\"middle\" x=\"1212.91\" y=\"-338.3\" font-family=\"Times-Roman\" font-size=\"14.00\">&quot;POLYGON(&#45;2.094547 &#160;4...&quot;</text>\n</g>\n<!-- _&#45;&gt;&quot;POLYGON(&#45;2.094547 &#160;4...&quot; -->\n<g id=\"edge7\" class=\"edge\">\n<title>_&#45;&gt;&quot;POLYGON(&#45;2.094547 &#160;4...&quot;</title>\n<path fill=\"none\" stroke=\"black\" d=\"M835.93,-291.46C889.59,-298.67 1016.03,-315.67 1107.48,-327.96\"/>\n<polygon fill=\"black\" stroke=\"black\" points=\"1107.24,-331.46 1117.62,-329.32 1108.17,-324.52 1107.24,-331.46\"/>\n<text text-anchor=\"middle\" x=\"975.63\" y=\"-314.8\" font-family=\"Times-Roman\" font-size=\"14.00\">asWKT</text>\n</g>\n<!-- www.opengis.net/def/crs/OGC/1.3/CRS84 -->\n<g id=\"node9\" class=\"node\">\n<title>www.opengis.net/def/crs/OGC/1.3/CRS84</title>\n<ellipse fill=\"none\" stroke=\"#558855\" cx=\"1212.91\" cy=\"-288\" rx=\"196.07\" ry=\"18\"/>\n<text text-anchor=\"middle\" x=\"1212.91\" y=\"-284.3\" font-family=\"Times-Roman\" font-size=\"14.00\">www.opengis.net/def/crs/OGC/1.3/CRS84</text>\n</g>\n<!-- _&#45;&gt;www.opengis.net/def/crs/OGC/1.3/CRS84 -->\n<g id=\"edge8\" class=\"edge\">\n<title>_&#45;&gt;www.opengis.net/def/crs/OGC/1.3/CRS84</title>\n<path fill=\"none\" stroke=\"black\" d=\"M836.24,-288C871.71,-288 938.57,-288 1006.16,-288\"/>\n<polygon fill=\"black\" stroke=\"black\" points=\"1006.57,-291.5 1016.57,-288 1006.57,-284.5 1006.57,-291.5\"/>\n<text text-anchor=\"middle\" x=\"975.63\" y=\"-291.8\" font-family=\"Times-Roman\" font-size=\"14.00\">crs</text>\n</g>\n<!-- Polygon -->\n<g id=\"node10\" class=\"node\">\n<title>Polygon</title>\n<ellipse fill=\"none\" stroke=\"#558855\" cx=\"1212.91\" cy=\"-234\" rx=\"46.29\" ry=\"18\"/>\n<text text-anchor=\"middle\" x=\"1212.91\" y=\"-230.3\" font-family=\"Times-Roman\" font-size=\"14.00\">Polygon</text>\n</g>\n<!-- _&#45;&gt;Polygon -->\n<g id=\"edge9\" class=\"edge\">\n<title>_&#45;&gt;Polygon</title>\n<path fill=\"none\" stroke=\"black\" d=\"M835.93,-284.54C900.73,-275.83 1071.63,-252.86 1158.94,-241.12\"/>\n<polygon fill=\"black\" stroke=\"black\" points=\"1159.46,-244.58 1168.9,-239.78 1158.53,-237.64 1159.46,-244.58\"/>\n<text text-anchor=\"middle\" x=\"975.63\" y=\"-270.8\" font-family=\"Times-Roman\" font-size=\"14.00\">type</text>\n</g>\n<!-- maspawio.net/id/3046b5fc&#45;18e0&#45;11eb&#45;894f&#45;0a735f7a740c -->\n<g id=\"node2\" class=\"node\">\n<title>maspawio.net/id/3046b5fc&#45;18e0&#45;11eb&#45;894f&#45;0a735f7a740c</title>\n<ellipse fill=\"none\" stroke=\"black\" cx=\"276.88\" cy=\"-153\" rx=\"276.75\" ry=\"18\"/>\n<text text-anchor=\"middle\" x=\"276.88\" y=\"-149.3\" font-family=\"Times-Roman\" font-size=\"14.00\">maspawio.net/id/3046b5fc&#45;18e0&#45;11eb&#45;894f&#45;0a735f7a740c</text>\n</g>\n<!-- maspawio.net/id/3046b5fc&#45;18e0&#45;11eb&#45;894f&#45;0a735f7a740c&#45;&gt;_ -->\n<g id=\"edge1\" class=\"edge\">\n<title>maspawio.net/id/3046b5fc&#45;18e0&#45;11eb&#45;894f&#45;0a735f7a740c&#45;&gt;_</title>\n<path fill=\"none\" stroke=\"black\" d=\"M340.22,-170.55C419.7,-192.71 561.48,-231.48 683.75,-261 713.65,-268.22 747.8,-275.56 772.76,-280.77\"/>\n<polygon fill=\"black\" stroke=\"black\" points=\"772.35,-284.26 782.85,-282.86 773.77,-277.4 772.35,-284.26\"/>\n<text text-anchor=\"middle\" x=\"618.75\" y=\"-258.8\" font-family=\"Times-Roman\" font-size=\"14.00\">hasGeometry</text>\n</g>\n<!-- Dataset -->\n<g id=\"node3\" class=\"node\">\n<title>Dataset</title>\n<ellipse fill=\"none\" stroke=\"#558855\" cx=\"809.19\" cy=\"-234\" rx=\"45.49\" ry=\"18\"/>\n<text text-anchor=\"middle\" x=\"809.19\" y=\"-230.3\" font-family=\"Times-Roman\" font-size=\"14.00\">Dataset</text>\n</g>\n<!-- maspawio.net/id/3046b5fc&#45;18e0&#45;11eb&#45;894f&#45;0a735f7a740c&#45;&gt;Dataset -->\n<g id=\"edge2\" class=\"edge\">\n<title>maspawio.net/id/3046b5fc&#45;18e0&#45;11eb&#45;894f&#45;0a735f7a740c&#45;&gt;Dataset</title>\n<path fill=\"none\" stroke=\"black\" d=\"M386.47,-169.59C499.31,-186.82 671.08,-213.06 756.38,-226.09\"/>\n<polygon fill=\"black\" stroke=\"black\" points=\"755.93,-229.56 766.34,-227.61 756.98,-222.64 755.93,-229.56\"/>\n<text text-anchor=\"middle\" x=\"618.75\" y=\"-214.8\" font-family=\"Times-Roman\" font-size=\"14.00\">type</text>\n</g>\n<!-- &quot;This resource/layer ...&quot; -->\n<g id=\"node4\" class=\"node\">\n<title>&quot;This resource/layer ...&quot;</title>\n<ellipse fill=\"none\" stroke=\"black\" stroke-width=\"0\" cx=\"809.19\" cy=\"-180\" rx=\"116.18\" ry=\"18\"/>\n<text text-anchor=\"middle\" x=\"809.19\" y=\"-176.3\" font-family=\"Times-Roman\" font-size=\"14.00\">&quot;This resource/layer ...&quot;</text>\n</g>\n<!-- maspawio.net/id/3046b5fc&#45;18e0&#45;11eb&#45;894f&#45;0a735f7a740c&#45;&gt;&quot;This resource/layer ...&quot; -->\n<g id=\"edge3\" class=\"edge\">\n<title>maspawio.net/id/3046b5fc&#45;18e0&#45;11eb&#45;894f&#45;0a735f7a740c&#45;&gt;&quot;This resource/layer ...&quot;</title>\n<path fill=\"none\" stroke=\"black\" d=\"M495.49,-164.08C561.42,-167.44 631.41,-171 688.42,-173.9\"/>\n<polygon fill=\"black\" stroke=\"black\" points=\"688.38,-177.4 698.55,-174.42 688.74,-170.41 688.38,-177.4\"/>\n<text text-anchor=\"middle\" x=\"618.75\" y=\"-176.8\" font-family=\"Times-Roman\" font-size=\"14.00\">description</text>\n</g>\n<!-- &quot;LMMA&quot; -->\n<g id=\"node5\" class=\"node\">\n<title>&quot;LMMA&quot;</title>\n<ellipse fill=\"none\" stroke=\"black\" stroke-width=\"0\" cx=\"809.19\" cy=\"-126\" rx=\"46.29\" ry=\"18\"/>\n<text text-anchor=\"middle\" x=\"809.19\" y=\"-122.3\" font-family=\"Times-Roman\" font-size=\"14.00\">&quot;LMMA&quot;</text>\n</g>\n<!-- maspawio.net/id/3046b5fc&#45;18e0&#45;11eb&#45;894f&#45;0a735f7a740c&#45;&gt;&quot;LMMA&quot; -->\n<g id=\"edge4\" class=\"edge\">\n<title>maspawio.net/id/3046b5fc&#45;18e0&#45;11eb&#45;894f&#45;0a735f7a740c&#45;&gt;&quot;LMMA&quot;</title>\n<path fill=\"none\" stroke=\"black\" d=\"M495.49,-141.92C589.66,-137.13 692.11,-131.91 753.19,-128.8\"/>\n<polygon fill=\"black\" stroke=\"black\" points=\"753.56,-132.29 763.37,-128.28 753.2,-125.3 753.56,-132.29\"/>\n<text text-anchor=\"middle\" x=\"618.75\" y=\"-141.8\" font-family=\"Times-Roman\" font-size=\"14.00\">keywords</text>\n</g>\n<!-- &quot;kenya&quot; -->\n<g id=\"node6\" class=\"node\">\n<title>&quot;kenya&quot;</title>\n<ellipse fill=\"none\" stroke=\"black\" stroke-width=\"0\" cx=\"809.19\" cy=\"-72\" rx=\"46.29\" ry=\"18\"/>\n<text text-anchor=\"middle\" x=\"809.19\" y=\"-68.3\" font-family=\"Times-Roman\" font-size=\"14.00\">&quot;kenya&quot;</text>\n</g>\n<!-- maspawio.net/id/3046b5fc&#45;18e0&#45;11eb&#45;894f&#45;0a735f7a740c&#45;&gt;&quot;kenya&quot; -->\n<g id=\"edge5\" class=\"edge\">\n<title>maspawio.net/id/3046b5fc&#45;18e0&#45;11eb&#45;894f&#45;0a735f7a740c&#45;&gt;&quot;kenya&quot;</title>\n<path fill=\"none\" stroke=\"black\" d=\"M386.47,-136.41C499.16,-119.2 670.63,-93.01 756.04,-79.96\"/>\n<polygon fill=\"black\" stroke=\"black\" points=\"756.67,-83.41 766.02,-78.44 755.61,-76.49 756.67,-83.41\"/>\n<text text-anchor=\"middle\" x=\"618.75\" y=\"-111.8\" font-family=\"Times-Roman\" font-size=\"14.00\">keywords</text>\n</g>\n<!-- &quot;locally managed mari...&quot; -->\n<g id=\"node7\" class=\"node\">\n<title>&quot;locally managed mari...&quot;</title>\n<ellipse fill=\"none\" stroke=\"black\" stroke-width=\"0\" cx=\"809.19\" cy=\"-18\" rx=\"125.38\" ry=\"18\"/>\n<text text-anchor=\"middle\" x=\"809.19\" y=\"-14.3\" font-family=\"Times-Roman\" font-size=\"14.00\">&quot;locally managed mari...&quot;</text>\n</g>\n<!-- maspawio.net/id/3046b5fc&#45;18e0&#45;11eb&#45;894f&#45;0a735f7a740c&#45;&gt;&quot;locally managed mari...&quot; -->\n<g id=\"edge6\" class=\"edge\">\n<title>maspawio.net/id/3046b5fc&#45;18e0&#45;11eb&#45;894f&#45;0a735f7a740c&#45;&gt;&quot;locally managed mari...&quot;</title>\n<path fill=\"none\" stroke=\"black\" d=\"M340.22,-135.45C419.7,-113.29 561.48,-74.52 683.75,-45 697.81,-41.61 712.8,-38.19 727.34,-34.97\"/>\n<polygon fill=\"black\" stroke=\"black\" points=\"728.3,-38.34 737.32,-32.78 726.8,-31.51 728.3,-38.34\"/>\n<text text-anchor=\"middle\" x=\"618.75\" y=\"-77.8\" font-family=\"Times-Roman\" font-size=\"14.00\">name</text>\n</g>\n</g>\n</svg>\n"
     },
     "metadata": {},
     "execution_count": 78
    }
   ],
   "metadata": {}
  },
  {
   "cell_type": "code",
   "execution_count": 72,
   "source": [
    "jd = json.dumps(compacted, indent=4)\n",
    "print(jd)"
   ],
   "outputs": [
    {
     "output_type": "stream",
     "name": "stdout",
     "text": [
      "{\n",
      "    \"@context\": {\n",
      "        \"@vocab\": \"https://schema.org/\",\n",
      "        \"geosparql\": \"http://www.opengis.net/ont/geosparql#\"\n",
      "    },\n",
      "    \"@id\": \"https://maspawio.net/id/3046b5fc-18e0-11eb-894f-0a735f7a740c\",\n",
      "    \"geosparql:hasGeometry\": {\n",
      "        \"@type\": \"http://www.opengis.net/ont/sf#Polygon\",\n",
      "        \"geosparql:asWKT\": {\n",
      "            \"@type\": \"geosparql:wktLiteral\",\n",
      "            \"@value\": \"POLYGON(-2.094547  41.116223  -2.094547  39.235491 -4.674234  39.235491  -4.674234  41.116223 -2.094547 41.116223)\"\n",
      "        }\n",
      "    },\n",
      "    \"description\": \"This resource/layer shows the spatial location of locally managed marine areas (LMMA) along the Kenyan coast. The information comes from a report done by CORDIO in 2015 that sought to review a detailed history of LMMA development in Kenya. For more information, please contact jkawaka@cordioea.net\\r\\n\\r\\n\",\n",
      "    \"keywords\": [\n",
      "        \"kenya\",\n",
      "        \"LMMA\"\n",
      "    ],\n",
      "    \"name\": \"locally managed marine areas Kenya\"\n",
      "}\n"
     ]
    }
   ],
   "metadata": {}
  },
  {
   "cell_type": "markdown",
   "source": [
    "# Look to pull spatial data\n",
    "\n",
    "The above works, but we lack the spatial data we want.  So, lets see what we can do there."
   ],
   "metadata": {}
  },
  {
   "cell_type": "code",
   "execution_count": 53,
   "source": [
    "# 'POLYGON(x1 y1, x1 y2, x2 y2, x2 y1, x1 y1)'\n",
    "\n",
    "bb = r.find('{http://www.opengis.net/ows}BoundingBox')\n",
    "uc = bb.find('{http://www.opengis.net/ows}UpperCorner')\n",
    "lc = bb.find('{http://www.opengis.net/ows}LowerCorner')\n",
    "\n",
    "print(\"{}  {}\".format(uc.text, lc.text))\n",
    "\n",
    "ucs = uc.text.split(\" \")\n",
    "lcs = lc.text.split(\" \")\n",
    "\n",
    "x1 = float(ucs[0])\n",
    "y1 = float(ucs[1])\n",
    "\n",
    "x2 = float(lcs[0])\n",
    "y2 = float(lcs[1])\n",
    "\n",
    "print(\"{}  {}  {}  {}\".format(x1, y1, x2, y2))\n"
   ],
   "outputs": [
    {
     "output_type": "stream",
     "name": "stdout",
     "text": [
      "-2.094547 41.116223  -4.674234 39.235491\n",
      "-2.094547  41.116223  -4.674234  39.235491\n"
     ]
    }
   ],
   "metadata": {}
  },
  {
   "cell_type": "code",
   "execution_count": null,
   "source": [],
   "outputs": [],
   "metadata": {}
  }
 ],
 "metadata": {
  "kernelspec": {
   "name": "python3",
   "display_name": "Python 3.8.10 64-bit ('kglab': conda)"
  },
  "language_info": {
   "codemirror_mode": {
    "name": "ipython",
    "version": 3
   },
   "file_extension": ".py",
   "mimetype": "text/x-python",
   "name": "python",
   "nbconvert_exporter": "python",
   "pygments_lexer": "ipython3",
   "version": "3.8.10"
  },
  "interpreter": {
   "hash": "884008db010a4da72f62f471ce341f5399c2c405d8eebc0270fe261741869d85"
  }
 },
 "nbformat": 4,
 "nbformat_minor": 5
}